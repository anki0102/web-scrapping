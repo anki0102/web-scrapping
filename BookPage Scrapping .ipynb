{
 "cells": [
  {
   "cell_type": "code",
   "execution_count": 201,
   "metadata": {},
   "outputs": [],
   "source": [
    "#Importing the libraries\n",
    "\n",
    "from requests import get\n",
    "from bs4 import BeautifulSoup as soup\n",
    "import pandas as pd\n",
    "import os"
   ]
  },
  {
   "cell_type": "markdown",
   "metadata": {},
   "source": [
    "# 1st book"
   ]
  },
  {
   "cell_type": "code",
   "execution_count": 202,
   "metadata": {},
   "outputs": [],
   "source": [
    "url = get('https://bookpage.com/reviews/26204-olivia-laing-everybody-nonfiction#.YI55emYzaCR') #url link"
   ]
  },
  {
   "cell_type": "code",
   "execution_count": 203,
   "metadata": {},
   "outputs": [],
   "source": [
    "request = url.text"
   ]
  },
  {
   "cell_type": "code",
   "execution_count": 204,
   "metadata": {},
   "outputs": [],
   "source": [
    "soup_data = soup(request,'html.parser')"
   ]
  },
  {
   "cell_type": "code",
   "execution_count": 205,
   "metadata": {},
   "outputs": [
    {
     "data": {
      "text/plain": [
       "'Book Review - Everybody by Olivia Laing | BookPage'"
      ]
     },
     "execution_count": 205,
     "metadata": {},
     "output_type": "execute_result"
    }
   ],
   "source": [
    "soup_data.title.text                                                                           #title of the page"
   ]
  },
  {
   "cell_type": "code",
   "execution_count": 206,
   "metadata": {},
   "outputs": [],
   "source": [
    "books = soup_data.findAll('div',{'class':'container-fluid'})"
   ]
  },
  {
   "cell_type": "code",
   "execution_count": 207,
   "metadata": {},
   "outputs": [],
   "source": [
    "first_book = books[0]"
   ]
  },
  {
   "cell_type": "code",
   "execution_count": 208,
   "metadata": {},
   "outputs": [
    {
     "data": {
      "text/plain": [
       "'Everybody'"
      ]
     },
     "execution_count": 208,
     "metadata": {},
     "output_type": "execute_result"
    }
   ],
   "source": [
    "first_book.find('h4',{\"class\":\"italic\"}).text.replace('\\n','')                                 #Name of the 1st Book"
   ]
  },
  {
   "cell_type": "code",
   "execution_count": 209,
   "metadata": {},
   "outputs": [
    {
     "data": {
      "text/plain": [
       "'ByOlivia Laing'"
      ]
     },
     "execution_count": 209,
     "metadata": {},
     "output_type": "execute_result"
    }
   ],
   "source": [
    "first_book.find('p',{\"class\":\"sans bold\"}).text.replace('\\n','')                               #Author Name"
   ]
  },
  {
   "cell_type": "code",
   "execution_count": 210,
   "metadata": {},
   "outputs": [
    {
     "data": {
      "text/plain": [
       "'Nonfiction / Body, Mind & Spirit / Philosophy'"
      ]
     },
     "execution_count": 210,
     "metadata": {},
     "output_type": "execute_result"
    }
   ],
   "source": [
    "first_book.find('p',{\"class\":\"genre-links\"}).text.replace('\\n','')                             #Genre of the Book"
   ]
  },
  {
   "cell_type": "code",
   "execution_count": 211,
   "metadata": {},
   "outputs": [
    {
     "data": {
      "text/plain": [
       "'In The Lonely City (2016), Olivia Laing traced a connection from her own experience of loneliness to the work of artists such as Edward Hopper, Andy Warhol, Henry Darger and David Wojnarowicz. The result was a tapestry like no other, a tender exploration of art-making and human experience cast through an empathic prism.\\xa0Everybody: A Book About Freedom finds Laing taking a similar approach as she masterfully shares stories of fascinating artists and historical figures. This time, the psychoanalyst Wilhelm Reich is at the cosmic center of an even more wide-ranging inquiry that looks, with hope, at the idea of freedom from oppression related to skin color, sexual identity or gender.Reich, a protégé of Sigmund Freud, believed that “the past is interred in our bodies, every trauma meticulously preserved, walled up alive.” Later in life he became known for his orgone boxes, pseudoscientific devices that attracted the attention of the FDA and led to his imprisonment. Which is to say that his legacy is a complicated, even tainted one, but Laing treats him with the same gentle perspicacity she extends to her other subjects, which include Susan Sontag, Kathy Acker, sexual liberationists in Weimar Berlin, the artist Agnes Martin, Bayard Rustin and Nina Simone.Her net, in short, is breathtakingly, ambitiously wide. Her stakes could not be higher—freedom for all bodies, “unharried by any hierarchy of form.” Along with Reich, Laing’s consistent interest here is the human body and its quest for pure freedom. How did each of these cultural and intellectual figures fight to liberate their body? How did the prevailing forces of the time work against them? These questions link Laing’s journey, which is as concerned with bodily freedom as with the way trauma can operate, years past its inception, as a barrier to said freedom. Along the way she peers inward to her past as an herbalist, environmental protestor and child of gay parents in the 1980s.“I still don’t believe in orgone boxes,” Laing concludes, “but I do think Reich found his way to durable truths. I think the weight of history abides in our private bodies. Each of us carries a legacy of personal and inherited trauma, operating within an unequal grid of rules and laws that depends upon the kind of body we were born into. At the same time, we are porous and capable of mysterious effects on each other’s lives.” Everybody is a nonpareil study that delights the intellect.EverybodyByOlivia LaingNorton$26.95ISBN9780393608779Published05/04/2021Nonfiction / Body, Mind & Spirit / Philosophy'"
      ]
     },
     "execution_count": 211,
     "metadata": {},
     "output_type": "execute_result"
    }
   ],
   "source": [
    "first_book.find('div',{\"class\":\"content-well article-show\"}).text.replace('\\n','')             #Review of the Book"
   ]
  },
  {
   "cell_type": "markdown",
   "metadata": {},
   "source": [
    "# 2nd book"
   ]
  },
  {
   "cell_type": "code",
   "execution_count": 212,
   "metadata": {},
   "outputs": [],
   "source": [
    "url=get('https://bookpage.com/reviews/26165-zen-cho-black-water-sister-science-fiction-fantasy#.YI6SOGYzaCQ')"
   ]
  },
  {
   "cell_type": "code",
   "execution_count": 213,
   "metadata": {},
   "outputs": [],
   "source": [
    "request = url.text"
   ]
  },
  {
   "cell_type": "code",
   "execution_count": 214,
   "metadata": {},
   "outputs": [],
   "source": [
    "soup_data = soup(request,'html.parser')"
   ]
  },
  {
   "cell_type": "code",
   "execution_count": 215,
   "metadata": {},
   "outputs": [
    {
     "data": {
      "text/plain": [
       "'Book Review - Black Water Sister by Zen Cho | BookPage'"
      ]
     },
     "execution_count": 215,
     "metadata": {},
     "output_type": "execute_result"
    }
   ],
   "source": [
    "soup_data.title.text                                                                       #title of the page"
   ]
  },
  {
   "cell_type": "code",
   "execution_count": 216,
   "metadata": {},
   "outputs": [],
   "source": [
    "books = soup_data.findAll('div',{'class':'container-fluid'})"
   ]
  },
  {
   "cell_type": "code",
   "execution_count": 217,
   "metadata": {},
   "outputs": [],
   "source": [
    "first_book = books[0]"
   ]
  },
  {
   "cell_type": "code",
   "execution_count": 218,
   "metadata": {},
   "outputs": [
    {
     "data": {
      "text/plain": [
       "'★ Black Water Sister'"
      ]
     },
     "execution_count": 218,
     "metadata": {},
     "output_type": "execute_result"
    }
   ],
   "source": [
    "first_book.find('h4',{\"class\":\"italic\"}).text.replace('\\n','')                             #Name of the 2nd Book"
   ]
  },
  {
   "cell_type": "code",
   "execution_count": 219,
   "metadata": {},
   "outputs": [
    {
     "data": {
      "text/plain": [
       "'ByZen Cho'"
      ]
     },
     "execution_count": 219,
     "metadata": {},
     "output_type": "execute_result"
    }
   ],
   "source": [
    "first_book.find('p',{\"class\":\"sans bold\"}).text.replace('\\n','')                           #Author Name"
   ]
  },
  {
   "cell_type": "code",
   "execution_count": 220,
   "metadata": {},
   "outputs": [
    {
     "data": {
      "text/plain": [
       "'Science Fiction & Fantasy / Fantasy'"
      ]
     },
     "execution_count": 220,
     "metadata": {},
     "output_type": "execute_result"
    }
   ],
   "source": [
    "first_book.find('p',{\"class\":\"genre-links\"}).text.replace('\\n','')                         #Genre of the Book"
   ]
  },
  {
   "cell_type": "code",
   "execution_count": 221,
   "metadata": {},
   "outputs": [
    {
     "data": {
      "text/plain": [
       "'Sometimes a book makes you forget everything: the water boiling on the stove for tea, the lunch or dinner that has long since gone cold. These books don’t just pull you in; they tug at the edges of your consciousness, cultivating a new reality that you can slip into as easily as an old T-shirt. Zen Cho’s Black Water Sister is one such book. It plunges readers headlong into the often troubled and usually sarcastic mind of Jess Teoh, a recent Harvard graduate with far more on her plate than finding gainful employment.As Black Water Sister opens, Jess is adrift. She’s living with her parents and helping them move from the United States to Malaysia, a country she hasn’t called home since before she could walk. Then the voices start. Or rather, a single voice: that of her dead grandmother, her Ah Ma, a woman Jess never met. Ah Ma is bent on getting Jess’ help to destroy a real estate developer who threatens to demolish a local temple devoted to Ah Ma’s god. Although Jess resists, she soon finds that once the spirit world has marked her, it will not easily let her go. As she is forced into a world of mediums, gods and spirits, Jess must face the possibility of losing not just her autonomy but also her life.\\xa0ALSO IN BOOKPAGE: Zen Cho on major and minor gods, and the importance of good food in fantasy writing.\\xa0\\rWhile Black Water Sister terrifyingly depicts the otherworldly and uncanny horrors of the spirit world, it is also funny and poignant, full of the angst and irony of a recently graduated “zillennial” living with her parents. This balance allows Cho to explore facets of Jess’ life that may be smaller on the cosmic scale than angry gods and vengeful spirits but are no less important. From Jess’ internal struggle about how (and whether) to come out to her parents to intra-family discomfort around religion, Black Water Sister peers into the evolving relationships of an entire family, not just those of a single character.\\xa0Fans of Cho’s Sorcerer Royal duology might not initially see the resemblance between her Regency-era romantic fantasy and this modern mix of horror and the supernatural. But it is there in Cho’s turns of phrase and her spare sentences as she reveals a world so real that you feel as if you could step into it. And like the Sorcerer Royal novels’ alternate England, this world will surprise you when you least expect it. Vivid and masterfully done, Black Water Sister will haunt you.★ Black Water SisterByZen ChoAce$17.00ISBN9780425283431Published05/11/2021Science Fiction & Fantasy / Fantasy'"
      ]
     },
     "execution_count": 221,
     "metadata": {},
     "output_type": "execute_result"
    }
   ],
   "source": [
    "first_book.find('div',{\"class\":\"content-well article-show\"}).text.replace('\\n','')         #Review of the Book"
   ]
  },
  {
   "cell_type": "markdown",
   "metadata": {},
   "source": [
    "# 3rd book"
   ]
  },
  {
   "cell_type": "code",
   "execution_count": 222,
   "metadata": {},
   "outputs": [],
   "source": [
    "url=get('https://bookpage.com/reviews/26170-stacey-lee-luck-titanic-ya#.YI6UvWYzaCQ')"
   ]
  },
  {
   "cell_type": "code",
   "execution_count": 223,
   "metadata": {},
   "outputs": [],
   "source": [
    "request = url.text"
   ]
  },
  {
   "cell_type": "code",
   "execution_count": 224,
   "metadata": {},
   "outputs": [],
   "source": [
    "soup_data = soup(request,'html.parser')"
   ]
  },
  {
   "cell_type": "code",
   "execution_count": 225,
   "metadata": {},
   "outputs": [
    {
     "data": {
      "text/plain": [
       "'Book Review - Luck of the Titanic by Stacey Lee | BookPage'"
      ]
     },
     "execution_count": 225,
     "metadata": {},
     "output_type": "execute_result"
    }
   ],
   "source": [
    "soup_data.title.text                                                                        #title of the page"
   ]
  },
  {
   "cell_type": "code",
   "execution_count": 226,
   "metadata": {},
   "outputs": [],
   "source": [
    "books = soup_data.findAll('div',{'class':'container-fluid'})"
   ]
  },
  {
   "cell_type": "code",
   "execution_count": 227,
   "metadata": {},
   "outputs": [],
   "source": [
    "first_book = books[0]"
   ]
  },
  {
   "cell_type": "code",
   "execution_count": 228,
   "metadata": {},
   "outputs": [
    {
     "data": {
      "text/plain": [
       "'Luck of the Titanic'"
      ]
     },
     "execution_count": 228,
     "metadata": {},
     "output_type": "execute_result"
    }
   ],
   "source": [
    "first_book.find('h4',{\"class\":\"italic\"}).text.replace('\\n','')                              #Name of the 3rd Book"
   ]
  },
  {
   "cell_type": "code",
   "execution_count": 229,
   "metadata": {},
   "outputs": [
    {
     "data": {
      "text/plain": [
       "'ByStacey Lee'"
      ]
     },
     "execution_count": 229,
     "metadata": {},
     "output_type": "execute_result"
    }
   ],
   "source": [
    "first_book.find('p',{\"class\":\"sans bold\"}).text.replace('\\n','')                            #Author Name"
   ]
  },
  {
   "cell_type": "code",
   "execution_count": 230,
   "metadata": {},
   "outputs": [
    {
     "data": {
      "text/plain": [
       "'YA / YA Fiction'"
      ]
     },
     "execution_count": 230,
     "metadata": {},
     "output_type": "execute_result"
    }
   ],
   "source": [
    "first_book.find('p',{\"class\":\"genre-links\"}).text.replace('\\n','')                          #Genre of the Book"
   ]
  },
  {
   "cell_type": "code",
   "execution_count": 231,
   "metadata": {},
   "outputs": [
    {
     "data": {
      "text/plain": [
       "'Stacey Lee has earned critical acclaim and a loyal readership for intricately plotted fiction featuring Chinese characters amid memorable historical settings, including Under a Painted Sky and The Downstairs Girl. Her new book, Luck of the Titanic, was prompted by a little-known fact: Of the eight Chinese passengers aboard the Titanic, six survived, but they were deported within 24 hours of arriving in the United States.The novel opens with a mesmerizing action scene as Valora Luck, a trained acrobat, catapults her way on board the doomed ship. Although she has a valid first-class ticket, an officer has refused to let her board, claiming she lacks proper documentation and won’t be allowed to disembark in America due to the Chinese Exclusion Act of 1882. But Valora is determined to join her twin brother, Jamie, who has already boarded in third class for the first leg of a journey to Cuba. They haven’t seen each other for two years, and Valora has a scheme to reunite them: She wants to convince a circus executive who’s also on board to hire them both as acrobats for the Ringling Brothers.Lee’s characters often adapt disguises, and Valora alternately poses as a male laborer alongside Jamie below decks and as a fashionable first-class widow who turns heads with her confidence and style. As Valora navigates the highly class-conscious world of the ship, readers witness the stark discrepancies between rich and poor, as well as some of the racist behavior of its passengers. “The English love all things Chinese—silk, tea, plates—just not if it comes with a beating heart,” Valora observes.The narrative builds slowly toward the looming, inevitable tragedy. In a moment of overt dramatic irony, a well-heeled character remarks, “Imagine being afraid on such a magnificent vessel as the Titanic.” Once the ship strikes the iceberg, Lee unspools one heartbreaking scene after another as Valora, Jamie and their friends struggle to find each other and reach safety.\\xa0From the start, readers are aware that two of the book’s Chinese characters will die. When one succumbs early in the disaster, the remainder of the novel becomes a superbly choreographed guessing game of who the second victim will be. Despite the hardships its characters encounter, Luck of the Titanic is anchored by its energetic and empowered heroine. This novel is an admirable and engaging addition to the annals of fictional Titanic lore.\\xa0Luck of the TitanicByStacey LeePutnam$18.99ISBN9781524740986Published05/04/2021YA / YA Fiction'"
      ]
     },
     "execution_count": 231,
     "metadata": {},
     "output_type": "execute_result"
    }
   ],
   "source": [
    "first_book.find('div',{\"class\":\"content-well article-show\"}).text.replace('\\n','')          #Review of the Book"
   ]
  },
  {
   "cell_type": "markdown",
   "metadata": {},
   "source": [
    "# 4th book"
   ]
  },
  {
   "cell_type": "code",
   "execution_count": 232,
   "metadata": {},
   "outputs": [],
   "source": [
    "url=get('https://bookpage.com/reviews/26210-lilly-dancyger-negative-space-nonfiction#.YI6V8WYzaCQ')"
   ]
  },
  {
   "cell_type": "code",
   "execution_count": 233,
   "metadata": {},
   "outputs": [],
   "source": [
    "request = url.text"
   ]
  },
  {
   "cell_type": "code",
   "execution_count": 234,
   "metadata": {},
   "outputs": [],
   "source": [
    "soup_data = soup(request,'html.parser')"
   ]
  },
  {
   "cell_type": "code",
   "execution_count": 235,
   "metadata": {},
   "outputs": [
    {
     "data": {
      "text/plain": [
       "'Book Review - Negative Space by Lilly Dancyger | BookPage'"
      ]
     },
     "execution_count": 235,
     "metadata": {},
     "output_type": "execute_result"
    }
   ],
   "source": [
    "soup_data.title.text                                                                         #title of the page"
   ]
  },
  {
   "cell_type": "code",
   "execution_count": 236,
   "metadata": {},
   "outputs": [],
   "source": [
    "books = soup_data.findAll('div',{'class':'container-fluid'})"
   ]
  },
  {
   "cell_type": "code",
   "execution_count": 237,
   "metadata": {},
   "outputs": [],
   "source": [
    "first_book = books[0]"
   ]
  },
  {
   "cell_type": "code",
   "execution_count": 238,
   "metadata": {},
   "outputs": [
    {
     "data": {
      "text/plain": [
       "'Negative Space'"
      ]
     },
     "execution_count": 238,
     "metadata": {},
     "output_type": "execute_result"
    }
   ],
   "source": [
    "first_book.find('h4',{\"class\":\"italic\"}).text.replace('\\n','')                               #Name of the 4th Book"
   ]
  },
  {
   "cell_type": "code",
   "execution_count": 239,
   "metadata": {},
   "outputs": [
    {
     "data": {
      "text/plain": [
       "'ByLilly Dancyger'"
      ]
     },
     "execution_count": 239,
     "metadata": {},
     "output_type": "execute_result"
    }
   ],
   "source": [
    "first_book.find('p',{\"class\":\"sans bold\"}).text.replace('\\n','')                             #Author Name"
   ]
  },
  {
   "cell_type": "code",
   "execution_count": 240,
   "metadata": {},
   "outputs": [
    {
     "data": {
      "text/plain": [
       "'Nonfiction / Memoir / Art'"
      ]
     },
     "execution_count": 240,
     "metadata": {},
     "output_type": "execute_result"
    }
   ],
   "source": [
    "first_book.find('p',{\"class\":\"genre-links\"}).text.replace('\\n','')                           #Genre of the Book"
   ]
  },
  {
   "cell_type": "code",
   "execution_count": 241,
   "metadata": {},
   "outputs": [
    {
     "data": {
      "text/plain": [
       "\"“I had a happy childhood, and my parents were junkies,” writes Lilly Dancyger. “Both of these things are true.” Her father, Joe Schactman, was not a famous artist, but he was prolific and left deep impressions on those who knew him. His sudden death when Dancyger was 12 threw her into a tailspin but also cemented Schactman as an artistic idol in her mind.In her memoir, Negative Space, Dancyger carries us back to New York City’s gritty East Village in the 1980s as she investigates Schactman’s tumultuous life. She pages through her father’s old notebooks that she saved after his death. She studies his often strange artwork (depicted throughout the book) made from found objects and roadkill. And she interviews Schactman’s friends, colleagues and even her own mother to learn how and why he descended into heroin addiction.Dancyger’s struggle to escape the need to prove herself to everyone, including her dead father, is moving. Mourning is not linear, and she skillfully shows how grief mutates during different stages of life. The phantasm of closure stalks all of us who have experienced loss, as both Dancyger’s writing and Schactman’s artwork make clear.The strongest portions of Negative Space explore Dancyger’s experience as the child of addicts. She largely parented herself, and when she builds a more stable adulthood than the one modeled by her parents, it’s a hard-won victory. Other children of addicts who experienced difficult transitions into adulthood will find much to relate to here.To this end, Dancyger’s bravery in the face of negative revelations about her dad is admirable. She wants the whole truth, no matter how painful it is to reopen these wounds. Dancyger knew little about Schactman’s addiction when she was young, and she knew nothing about his sometimes abusive relationships with women. But in Negative Space, Dancyger allows her father to be an imperfect and much loved person—her idol still, but a troubled and complicated one.Negative SpaceByLilly DancygerSanta Fe Writer's Project$16.95ISBN9781951631031Published05/01/2021Nonfiction / Memoir / Art\""
      ]
     },
     "execution_count": 241,
     "metadata": {},
     "output_type": "execute_result"
    }
   ],
   "source": [
    "first_book.find('div',{\"class\":\"content-well article-show\"}).text.replace('\\n','')           #Review of the Book"
   ]
  },
  {
   "cell_type": "markdown",
   "metadata": {},
   "source": [
    "# 5th book"
   ]
  },
  {
   "cell_type": "code",
   "execution_count": 242,
   "metadata": {},
   "outputs": [],
   "source": [
    "url=get('https://bookpage.com/reviews/26171-shawn-harris-have-you-ever-seen-flower-childrens#.YI6XMmYzaCQ')"
   ]
  },
  {
   "cell_type": "code",
   "execution_count": 243,
   "metadata": {},
   "outputs": [],
   "source": [
    "request = url.text"
   ]
  },
  {
   "cell_type": "code",
   "execution_count": 244,
   "metadata": {},
   "outputs": [],
   "source": [
    "soup_data = soup(request,'html.parser')"
   ]
  },
  {
   "cell_type": "code",
   "execution_count": 245,
   "metadata": {},
   "outputs": [
    {
     "data": {
      "text/plain": [
       "'Book Review - Have You Ever Seen a Flower? by Shawn Harris | BookPage'"
      ]
     },
     "execution_count": 245,
     "metadata": {},
     "output_type": "execute_result"
    }
   ],
   "source": [
    "soup_data.title.text                                                                        #Title of the page"
   ]
  },
  {
   "cell_type": "code",
   "execution_count": 246,
   "metadata": {},
   "outputs": [],
   "source": [
    "books = soup_data.findAll('div',{'class':'container-fluid'})"
   ]
  },
  {
   "cell_type": "code",
   "execution_count": 247,
   "metadata": {},
   "outputs": [],
   "source": [
    "first_book = books[0]"
   ]
  },
  {
   "cell_type": "code",
   "execution_count": 248,
   "metadata": {},
   "outputs": [
    {
     "data": {
      "text/plain": [
       "'★ Have You Ever Seen a Flower?'"
      ]
     },
     "execution_count": 248,
     "metadata": {},
     "output_type": "execute_result"
    }
   ],
   "source": [
    "first_book.find('h4',{\"class\":\"italic\"}).text.replace('\\n','')                               #Name of the 4th Book"
   ]
  },
  {
   "cell_type": "code",
   "execution_count": 249,
   "metadata": {},
   "outputs": [
    {
     "data": {
      "text/plain": [
       "'ByShawn Harris'"
      ]
     },
     "execution_count": 249,
     "metadata": {},
     "output_type": "execute_result"
    }
   ],
   "source": [
    "first_book.find('p',{\"class\":\"sans bold\"}).text.replace('\\n','')                             #Author Name"
   ]
  },
  {
   "cell_type": "code",
   "execution_count": 250,
   "metadata": {},
   "outputs": [
    {
     "data": {
      "text/plain": [
       "\"Children's / Children's Picture Book\""
      ]
     },
     "execution_count": 250,
     "metadata": {},
     "output_type": "execute_result"
    }
   ],
   "source": [
    "first_book.find('p',{\"class\":\"genre-links\"}).text.replace('\\n','')                           #Genre of the Book"
   ]
  },
  {
   "cell_type": "code",
   "execution_count": 251,
   "metadata": {},
   "outputs": [
    {
     "data": {
      "text/plain": [
       "\"Some books offer a chance to escape, while others provide space for contemplation and reflection. It’s the rare book that does both. Bursting with insight, Shawn Harris’ Have You Ever Seen a Flower? transforms a trip to the mountains into a spirited voyage into our very consciousness.The book begins with a tiny, colorful child, the only pop of brightness amid an intricate graphite city. Buildings tower around her, looming and glum. When the girl gets in a car and travels down a dark road away from the city, gray buildings give way to white emptiness before the book explodes with color. The vibrant hues that once gilded only the girl now surround her, with fields of warm-toned flowers and triangular mountains filled with all the shades of the rainbow. The illustrations grow and bloom surrealistically, as outstretched arms become the leaves of flowers, reaching toward the sun, and a drop of blood from a pricked finger becomes a meadow of crimson blossoms.\\xa0All the while, Harris addresses readers directly in a series of wide-eyed observations and imaginative questions. “Have you ever seen a flower using nothing but your nose? Breathe deep . . . what do you see?” His language is playful and sprinkled with subtle moments of alliteration and assonance.\\xa0Composed of sweeping colored pencil strokes, Harris’ art has a simplicity that belies its expert use of negative space and perspective. The illustrations don’t just carry the book’s narrative; they also deliver a beautiful metaphor as Have You Ever Seen a Flower? builds to an astonishing, all-encompassing declaration of connectedness: We are all flowers.Have You Ever Seen a Flower? is an invitation to pause and take a moment to feel, imagine and experience the worlds around us and inside us. Its joy, color and hopefulness will ignite the imagination of anyone lucky enough to experience its magic.★ Have You Ever Seen a Flower?ByShawn HarrisChronicleISBN9781452182704Published05/04/2021Ages 3 to 5Children's / Children's Picture Book\""
      ]
     },
     "execution_count": 251,
     "metadata": {},
     "output_type": "execute_result"
    }
   ],
   "source": [
    "first_book.find('div',{\"class\":\"content-well article-show\"}).text.replace('\\n','')           #Review of the Book"
   ]
  }
 ],
 "metadata": {
  "kernelspec": {
   "display_name": "Python 3",
   "language": "python",
   "name": "python3"
  },
  "language_info": {
   "codemirror_mode": {
    "name": "ipython",
    "version": 3
   },
   "file_extension": ".py",
   "mimetype": "text/x-python",
   "name": "python",
   "nbconvert_exporter": "python",
   "pygments_lexer": "ipython3",
   "version": "3.8.5"
  }
 },
 "nbformat": 4,
 "nbformat_minor": 4
}
