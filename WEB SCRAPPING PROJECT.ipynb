{
 "cells": [
  {
   "cell_type": "markdown",
   "metadata": {},
   "source": [
    "# Web Scrapping Using BeautifulSoup\n"
   ]
  },
  {
   "cell_type": "markdown",
   "metadata": {},
   "source": [
    "1. Program 1 - Wikipedia"
   ]
  },
  {
   "cell_type": "code",
   "execution_count": 1,
   "metadata": {},
   "outputs": [],
   "source": [
    "#importing all the libraries for Programs\n",
    "\n",
    "from requests import get\n",
    "from bs4 import BeautifulSoup \n",
    "import pandas as pd\n",
    "import requests\n",
    "from urllib.request import urlopen"
   ]
  },
  {
   "cell_type": "code",
   "execution_count": 2,
   "metadata": {},
   "outputs": [],
   "source": [
    "html = urlopen('https://en.wikipedia.org/wiki/Main_Page')"
   ]
  },
  {
   "cell_type": "code",
   "execution_count": 3,
   "metadata": {},
   "outputs": [],
   "source": [
    "bs = BeautifulSoup(html, \"html.parser\")"
   ]
  },
  {
   "cell_type": "code",
   "execution_count": 4,
   "metadata": {},
   "outputs": [
    {
     "name": "stdout",
     "output_type": "stream",
     "text": [
      "List all the header tags :\n",
      "\n",
      "<h1 class=\"firstHeading\" id=\"firstHeading\">Main Page</h1>\n",
      "\n",
      "<h2 class=\"mp-h2\" id=\"mp-tfa-h2\"><span id=\"From_today.27s_featured_article\"></span><span class=\"mw-headline\" id=\"From_today's_featured_article\">From today's featured article</span></h2>\n",
      "\n",
      "<h2 class=\"mp-h2\" id=\"mp-dyk-h2\"><span class=\"mw-headline\" id=\"Did_you_know_...\">Did you know ...</span></h2>\n",
      "\n",
      "<h2 class=\"mp-h2\" id=\"mp-itn-h2\"><span class=\"mw-headline\" id=\"In_the_news\">In the news</span></h2>\n",
      "\n",
      "<h2 class=\"mp-h2\" id=\"mp-otd-h2\"><span class=\"mw-headline\" id=\"On_this_day\">On this day</span></h2>\n",
      "\n",
      "<h2 class=\"mp-h2\" id=\"mp-tfp-h2\"><span id=\"Today.27s_featured_picture\"></span><span class=\"mw-headline\" id=\"Today's_featured_picture\">Today's featured picture</span></h2>\n",
      "\n",
      "<h2 class=\"mp-h2\" id=\"mp-other\"><span class=\"mw-headline\" id=\"Other_areas_of_Wikipedia\">Other areas of Wikipedia</span></h2>\n",
      "\n",
      "<h2 class=\"mp-h2\" id=\"mp-sister\"><span id=\"Wikipedia.27s_sister_projects\"></span><span class=\"mw-headline\" id=\"Wikipedia's_sister_projects\">Wikipedia's sister projects</span></h2>\n",
      "\n",
      "<h2 class=\"mp-h2\" id=\"mp-lang\"><span class=\"mw-headline\" id=\"Wikipedia_languages\">Wikipedia languages</span></h2>\n",
      "\n",
      "<h2>Navigation menu</h2>\n",
      "\n",
      "<h3 class=\"vector-menu-heading\" id=\"p-personal-label\">\n",
      "<span>Personal tools</span>\n",
      "</h3>\n",
      "\n",
      "<h3 class=\"vector-menu-heading\" id=\"p-namespaces-label\">\n",
      "<span>Namespaces</span>\n",
      "</h3>\n",
      "\n",
      "<h3 class=\"vector-menu-heading\" id=\"p-variants-label\">\n",
      "<span>Variants</span>\n",
      "</h3>\n",
      "\n",
      "<h3 class=\"vector-menu-heading\" id=\"p-views-label\">\n",
      "<span>Views</span>\n",
      "</h3>\n",
      "\n",
      "<h3 class=\"vector-menu-heading\" id=\"p-cactions-label\">\n",
      "<span>More</span>\n",
      "</h3>\n",
      "\n",
      "<h3>\n",
      "<label for=\"searchInput\">Search</label>\n",
      "</h3>\n",
      "\n",
      "<h3 class=\"vector-menu-heading\" id=\"p-navigation-label\">\n",
      "<span>Navigation</span>\n",
      "</h3>\n",
      "\n",
      "<h3 class=\"vector-menu-heading\" id=\"p-interaction-label\">\n",
      "<span>Contribute</span>\n",
      "</h3>\n",
      "\n",
      "<h3 class=\"vector-menu-heading\" id=\"p-tb-label\">\n",
      "<span>Tools</span>\n",
      "</h3>\n",
      "\n",
      "<h3 class=\"vector-menu-heading\" id=\"p-coll-print_export-label\">\n",
      "<span>Print/export</span>\n",
      "</h3>\n",
      "\n",
      "<h3 class=\"vector-menu-heading\" id=\"p-wikibase-otherprojects-label\">\n",
      "<span>In other projects</span>\n",
      "</h3>\n",
      "\n",
      "<h3 class=\"vector-menu-heading\" id=\"p-lang-label\">\n",
      "<span>Languages</span>\n",
      "</h3>\n"
     ]
    }
   ],
   "source": [
    "titles = bs.find_all(['h1','h2','h3','h4','h5','h6',])\n",
    "print('List all the header tags :', *titles, sep='\\n\\n')"
   ]
  },
  {
   "cell_type": "code",
   "execution_count": 5,
   "metadata": {},
   "outputs": [
    {
     "data": {
      "text/plain": [
       "['Main Page',\n",
       " \"From today's featured article\",\n",
       " 'Did you know\\xa0...',\n",
       " 'In the news',\n",
       " 'On this day',\n",
       " \"Today's featured picture\",\n",
       " 'Other areas of Wikipedia',\n",
       " \"Wikipedia's sister projects\",\n",
       " 'Wikipedia languages',\n",
       " 'Navigation menu',\n",
       " '\\nPersonal tools\\n',\n",
       " '\\nNamespaces\\n',\n",
       " '\\nVariants\\n',\n",
       " '\\nViews\\n',\n",
       " '\\nMore\\n',\n",
       " '\\nSearch\\n',\n",
       " '\\nNavigation\\n',\n",
       " '\\nContribute\\n',\n",
       " '\\nTools\\n',\n",
       " '\\nPrint/export\\n',\n",
       " '\\nIn other projects\\n',\n",
       " '\\nLanguages\\n']"
      ]
     },
     "execution_count": 5,
     "metadata": {},
     "output_type": "execute_result"
    }
   ],
   "source": [
    "titles = [titles.text for titles in bs.find_all(['h1','h2','h3','h4','h5','h6'])]\n",
    "titles"
   ]
  },
  {
   "cell_type": "code",
   "execution_count": 6,
   "metadata": {},
   "outputs": [
    {
     "data": {
      "text/plain": [
       "['MainPage',\n",
       " \"Fromtoday'sfeaturedarticle\",\n",
       " 'Didyouknow\\xa0...',\n",
       " 'Inthenews',\n",
       " 'Onthisday',\n",
       " \"Today'sfeaturedpicture\",\n",
       " 'OtherareasofWikipedia',\n",
       " \"Wikipedia'ssisterprojects\",\n",
       " 'Wikipedialanguages',\n",
       " 'Navigationmenu',\n",
       " 'Personaltools',\n",
       " 'Namespaces',\n",
       " 'Variants',\n",
       " 'Views',\n",
       " 'More',\n",
       " 'Search',\n",
       " 'Navigation',\n",
       " 'Contribute',\n",
       " 'Tools',\n",
       " 'Print/export',\n",
       " 'Inotherprojects',\n",
       " 'Languages']"
      ]
     },
     "execution_count": 6,
     "metadata": {},
     "output_type": "execute_result"
    }
   ],
   "source": [
    "titles= [titles.replace('\\n','').replace(' ', '')for titles in titles]\n",
    "titles"
   ]
  },
  {
   "cell_type": "markdown",
   "metadata": {},
   "source": [
    "# 2. Program 2 - IMDB Top 100 Movies"
   ]
  },
  {
   "cell_type": "code",
   "execution_count": 7,
   "metadata": {},
   "outputs": [],
   "source": [
    "#Top 100 highest rated movies on imdb\n",
    "url = get(\"https://www.imdb.com/search/title/?groups=top_100&sort=user_rating\") #0nly first 50 movies for this url\n",
    "\n"
   ]
  },
  {
   "cell_type": "code",
   "execution_count": 8,
   "metadata": {},
   "outputs": [],
   "source": [
    "request = url.text"
   ]
  },
  {
   "cell_type": "code",
   "execution_count": 9,
   "metadata": {},
   "outputs": [],
   "source": [
    "soup_data = BeautifulSoup(request,'html.parser')"
   ]
  },
  {
   "cell_type": "code",
   "execution_count": 10,
   "metadata": {},
   "outputs": [
    {
     "data": {
      "text/plain": [
       "'IMDb \"Top 100\"\\n(Sorted by IMDb Rating Descending) - IMDb'"
      ]
     },
     "execution_count": 10,
     "metadata": {},
     "output_type": "execute_result"
    }
   ],
   "source": [
    "soup_data.title.text"
   ]
  },
  {
   "cell_type": "code",
   "execution_count": 11,
   "metadata": {},
   "outputs": [],
   "source": [
    "movies = soup_data.findAll('div',{'class':'lister-item mode-advanced'})\n",
    "first_movie = movies[0]\n"
   ]
  },
  {
   "cell_type": "code",
   "execution_count": 12,
   "metadata": {},
   "outputs": [
    {
     "data": {
      "text/plain": [
       "'The Shawshank Redemption'"
      ]
     },
     "execution_count": 12,
     "metadata": {},
     "output_type": "execute_result"
    }
   ],
   "source": [
    "first_movie.h3.a.text   #name of the movie\n"
   ]
  },
  {
   "cell_type": "code",
   "execution_count": 13,
   "metadata": {},
   "outputs": [
    {
     "data": {
      "text/plain": [
       "'(1994)'"
      ]
     },
     "execution_count": 13,
     "metadata": {},
     "output_type": "execute_result"
    }
   ],
   "source": [
    "first_movie.find('span',{\"class\":\"lister-item-year text-muted unbold\"}).text   #year"
   ]
  },
  {
   "cell_type": "code",
   "execution_count": 14,
   "metadata": {},
   "outputs": [
    {
     "data": {
      "text/plain": [
       "'9.3'"
      ]
     },
     "execution_count": 14,
     "metadata": {},
     "output_type": "execute_result"
    }
   ],
   "source": [
    "first_movie.find('div',{\"class\":\"inline-block ratings-imdb-rating\"}).text.replace('\\n','')"
   ]
  },
  {
   "cell_type": "code",
   "execution_count": 15,
   "metadata": {},
   "outputs": [],
   "source": [
    "Name = []\n",
    "Year = []\n",
    "Rating = []\n",
    "for i in movies:\n",
    "    Name.append(i.h3.a.text)\n",
    "    Year.append(i.find('span',{\"class\":\"lister-item-year text-muted unbold\"}).text)\n",
    "    Rating.append(i.find('div',{\"class\":\"inline-block ratings-imdb-rating\"}).text.replace('\\n',''))"
   ]
  },
  {
   "cell_type": "code",
   "execution_count": 16,
   "metadata": {},
   "outputs": [
    {
     "data": {
      "text/html": [
       "<div>\n",
       "<style scoped>\n",
       "    .dataframe tbody tr th:only-of-type {\n",
       "        vertical-align: middle;\n",
       "    }\n",
       "\n",
       "    .dataframe tbody tr th {\n",
       "        vertical-align: top;\n",
       "    }\n",
       "\n",
       "    .dataframe thead th {\n",
       "        text-align: right;\n",
       "    }\n",
       "</style>\n",
       "<table border=\"1\" class=\"dataframe\">\n",
       "  <thead>\n",
       "    <tr style=\"text-align: right;\">\n",
       "      <th></th>\n",
       "      <th>Name</th>\n",
       "      <th>Year</th>\n",
       "      <th>Rating</th>\n",
       "    </tr>\n",
       "  </thead>\n",
       "  <tbody>\n",
       "    <tr>\n",
       "      <th>0</th>\n",
       "      <td>The Shawshank Redemption</td>\n",
       "      <td>(1994)</td>\n",
       "      <td>9.3</td>\n",
       "    </tr>\n",
       "    <tr>\n",
       "      <th>1</th>\n",
       "      <td>The Godfather</td>\n",
       "      <td>(1972)</td>\n",
       "      <td>9.2</td>\n",
       "    </tr>\n",
       "    <tr>\n",
       "      <th>2</th>\n",
       "      <td>The Dark Knight</td>\n",
       "      <td>(2008)</td>\n",
       "      <td>9.0</td>\n",
       "    </tr>\n",
       "    <tr>\n",
       "      <th>3</th>\n",
       "      <td>The Godfather: Part II</td>\n",
       "      <td>(1974)</td>\n",
       "      <td>9.0</td>\n",
       "    </tr>\n",
       "    <tr>\n",
       "      <th>4</th>\n",
       "      <td>12 Angry Men</td>\n",
       "      <td>(1957)</td>\n",
       "      <td>9.0</td>\n",
       "    </tr>\n",
       "    <tr>\n",
       "      <th>5</th>\n",
       "      <td>The Lord of the Rings: The Return of the King</td>\n",
       "      <td>(2003)</td>\n",
       "      <td>8.9</td>\n",
       "    </tr>\n",
       "    <tr>\n",
       "      <th>6</th>\n",
       "      <td>Pulp Fiction</td>\n",
       "      <td>(1994)</td>\n",
       "      <td>8.9</td>\n",
       "    </tr>\n",
       "    <tr>\n",
       "      <th>7</th>\n",
       "      <td>Schindler's List</td>\n",
       "      <td>(1993)</td>\n",
       "      <td>8.9</td>\n",
       "    </tr>\n",
       "    <tr>\n",
       "      <th>8</th>\n",
       "      <td>Inception</td>\n",
       "      <td>(2010)</td>\n",
       "      <td>8.8</td>\n",
       "    </tr>\n",
       "    <tr>\n",
       "      <th>9</th>\n",
       "      <td>Fight Club</td>\n",
       "      <td>(1999)</td>\n",
       "      <td>8.8</td>\n",
       "    </tr>\n",
       "    <tr>\n",
       "      <th>10</th>\n",
       "      <td>The Lord of the Rings: The Fellowship of the Ring</td>\n",
       "      <td>(2001)</td>\n",
       "      <td>8.8</td>\n",
       "    </tr>\n",
       "    <tr>\n",
       "      <th>11</th>\n",
       "      <td>Forrest Gump</td>\n",
       "      <td>(1994)</td>\n",
       "      <td>8.8</td>\n",
       "    </tr>\n",
       "    <tr>\n",
       "      <th>12</th>\n",
       "      <td>Il buono, il brutto, il cattivo</td>\n",
       "      <td>(1966)</td>\n",
       "      <td>8.8</td>\n",
       "    </tr>\n",
       "    <tr>\n",
       "      <th>13</th>\n",
       "      <td>The Lord of the Rings: The Two Towers</td>\n",
       "      <td>(2002)</td>\n",
       "      <td>8.7</td>\n",
       "    </tr>\n",
       "    <tr>\n",
       "      <th>14</th>\n",
       "      <td>The Matrix</td>\n",
       "      <td>(1999)</td>\n",
       "      <td>8.7</td>\n",
       "    </tr>\n",
       "    <tr>\n",
       "      <th>15</th>\n",
       "      <td>Goodfellas</td>\n",
       "      <td>(1990)</td>\n",
       "      <td>8.7</td>\n",
       "    </tr>\n",
       "    <tr>\n",
       "      <th>16</th>\n",
       "      <td>Star Wars: Episode V - The Empire Strikes Back</td>\n",
       "      <td>(1980)</td>\n",
       "      <td>8.7</td>\n",
       "    </tr>\n",
       "    <tr>\n",
       "      <th>17</th>\n",
       "      <td>One Flew Over the Cuckoo's Nest</td>\n",
       "      <td>(1975)</td>\n",
       "      <td>8.7</td>\n",
       "    </tr>\n",
       "    <tr>\n",
       "      <th>18</th>\n",
       "      <td>Gisaengchung</td>\n",
       "      <td>(2019)</td>\n",
       "      <td>8.6</td>\n",
       "    </tr>\n",
       "    <tr>\n",
       "      <th>19</th>\n",
       "      <td>Interstellar</td>\n",
       "      <td>(2014)</td>\n",
       "      <td>8.6</td>\n",
       "    </tr>\n",
       "    <tr>\n",
       "      <th>20</th>\n",
       "      <td>Cidade de Deus</td>\n",
       "      <td>(2002)</td>\n",
       "      <td>8.6</td>\n",
       "    </tr>\n",
       "    <tr>\n",
       "      <th>21</th>\n",
       "      <td>Sen to Chihiro no kamikakushi</td>\n",
       "      <td>(2001)</td>\n",
       "      <td>8.6</td>\n",
       "    </tr>\n",
       "    <tr>\n",
       "      <th>22</th>\n",
       "      <td>Saving Private Ryan</td>\n",
       "      <td>(1998)</td>\n",
       "      <td>8.6</td>\n",
       "    </tr>\n",
       "    <tr>\n",
       "      <th>23</th>\n",
       "      <td>The Green Mile</td>\n",
       "      <td>(1999)</td>\n",
       "      <td>8.6</td>\n",
       "    </tr>\n",
       "    <tr>\n",
       "      <th>24</th>\n",
       "      <td>La vita è bella</td>\n",
       "      <td>(1997)</td>\n",
       "      <td>8.6</td>\n",
       "    </tr>\n",
       "    <tr>\n",
       "      <th>25</th>\n",
       "      <td>Se7en</td>\n",
       "      <td>(1995)</td>\n",
       "      <td>8.6</td>\n",
       "    </tr>\n",
       "    <tr>\n",
       "      <th>26</th>\n",
       "      <td>The Silence of the Lambs</td>\n",
       "      <td>(1991)</td>\n",
       "      <td>8.6</td>\n",
       "    </tr>\n",
       "    <tr>\n",
       "      <th>27</th>\n",
       "      <td>Star Wars</td>\n",
       "      <td>(1977)</td>\n",
       "      <td>8.6</td>\n",
       "    </tr>\n",
       "    <tr>\n",
       "      <th>28</th>\n",
       "      <td>Seppuku</td>\n",
       "      <td>(1962)</td>\n",
       "      <td>8.6</td>\n",
       "    </tr>\n",
       "    <tr>\n",
       "      <th>29</th>\n",
       "      <td>Shichinin no samurai</td>\n",
       "      <td>(1954)</td>\n",
       "      <td>8.6</td>\n",
       "    </tr>\n",
       "    <tr>\n",
       "      <th>30</th>\n",
       "      <td>It's a Wonderful Life</td>\n",
       "      <td>(1946)</td>\n",
       "      <td>8.6</td>\n",
       "    </tr>\n",
       "    <tr>\n",
       "      <th>31</th>\n",
       "      <td>Hamilton</td>\n",
       "      <td>(2020)</td>\n",
       "      <td>8.5</td>\n",
       "    </tr>\n",
       "    <tr>\n",
       "      <th>32</th>\n",
       "      <td>Whiplash</td>\n",
       "      <td>(2014)</td>\n",
       "      <td>8.5</td>\n",
       "    </tr>\n",
       "    <tr>\n",
       "      <th>33</th>\n",
       "      <td>The Intouchables</td>\n",
       "      <td>(2011)</td>\n",
       "      <td>8.5</td>\n",
       "    </tr>\n",
       "    <tr>\n",
       "      <th>34</th>\n",
       "      <td>The Prestige</td>\n",
       "      <td>(2006)</td>\n",
       "      <td>8.5</td>\n",
       "    </tr>\n",
       "    <tr>\n",
       "      <th>35</th>\n",
       "      <td>The Departed</td>\n",
       "      <td>(2006)</td>\n",
       "      <td>8.5</td>\n",
       "    </tr>\n",
       "    <tr>\n",
       "      <th>36</th>\n",
       "      <td>The Pianist</td>\n",
       "      <td>(2002)</td>\n",
       "      <td>8.5</td>\n",
       "    </tr>\n",
       "    <tr>\n",
       "      <th>37</th>\n",
       "      <td>Gladiator</td>\n",
       "      <td>(2000)</td>\n",
       "      <td>8.5</td>\n",
       "    </tr>\n",
       "    <tr>\n",
       "      <th>38</th>\n",
       "      <td>American History X</td>\n",
       "      <td>(1998)</td>\n",
       "      <td>8.5</td>\n",
       "    </tr>\n",
       "    <tr>\n",
       "      <th>39</th>\n",
       "      <td>The Usual Suspects</td>\n",
       "      <td>(1995)</td>\n",
       "      <td>8.5</td>\n",
       "    </tr>\n",
       "    <tr>\n",
       "      <th>40</th>\n",
       "      <td>Léon</td>\n",
       "      <td>(1994)</td>\n",
       "      <td>8.5</td>\n",
       "    </tr>\n",
       "    <tr>\n",
       "      <th>41</th>\n",
       "      <td>The Lion King</td>\n",
       "      <td>(1994)</td>\n",
       "      <td>8.5</td>\n",
       "    </tr>\n",
       "    <tr>\n",
       "      <th>42</th>\n",
       "      <td>Terminator 2: Judgment Day</td>\n",
       "      <td>(1991)</td>\n",
       "      <td>8.5</td>\n",
       "    </tr>\n",
       "    <tr>\n",
       "      <th>43</th>\n",
       "      <td>Nuovo Cinema Paradiso</td>\n",
       "      <td>(1988)</td>\n",
       "      <td>8.5</td>\n",
       "    </tr>\n",
       "    <tr>\n",
       "      <th>44</th>\n",
       "      <td>Hotaru no haka</td>\n",
       "      <td>(1988)</td>\n",
       "      <td>8.5</td>\n",
       "    </tr>\n",
       "    <tr>\n",
       "      <th>45</th>\n",
       "      <td>Back to the Future</td>\n",
       "      <td>(1985)</td>\n",
       "      <td>8.5</td>\n",
       "    </tr>\n",
       "    <tr>\n",
       "      <th>46</th>\n",
       "      <td>Once Upon a Time in the West</td>\n",
       "      <td>(1968)</td>\n",
       "      <td>8.5</td>\n",
       "    </tr>\n",
       "    <tr>\n",
       "      <th>47</th>\n",
       "      <td>Psycho</td>\n",
       "      <td>(1960)</td>\n",
       "      <td>8.5</td>\n",
       "    </tr>\n",
       "    <tr>\n",
       "      <th>48</th>\n",
       "      <td>Casablanca</td>\n",
       "      <td>(1942)</td>\n",
       "      <td>8.5</td>\n",
       "    </tr>\n",
       "    <tr>\n",
       "      <th>49</th>\n",
       "      <td>Modern Times</td>\n",
       "      <td>(1936)</td>\n",
       "      <td>8.5</td>\n",
       "    </tr>\n",
       "  </tbody>\n",
       "</table>\n",
       "</div>"
      ],
      "text/plain": [
       "                                                 Name    Year Rating\n",
       "0                            The Shawshank Redemption  (1994)    9.3\n",
       "1                                       The Godfather  (1972)    9.2\n",
       "2                                     The Dark Knight  (2008)    9.0\n",
       "3                              The Godfather: Part II  (1974)    9.0\n",
       "4                                        12 Angry Men  (1957)    9.0\n",
       "5       The Lord of the Rings: The Return of the King  (2003)    8.9\n",
       "6                                        Pulp Fiction  (1994)    8.9\n",
       "7                                    Schindler's List  (1993)    8.9\n",
       "8                                           Inception  (2010)    8.8\n",
       "9                                          Fight Club  (1999)    8.8\n",
       "10  The Lord of the Rings: The Fellowship of the Ring  (2001)    8.8\n",
       "11                                       Forrest Gump  (1994)    8.8\n",
       "12                    Il buono, il brutto, il cattivo  (1966)    8.8\n",
       "13              The Lord of the Rings: The Two Towers  (2002)    8.7\n",
       "14                                         The Matrix  (1999)    8.7\n",
       "15                                         Goodfellas  (1990)    8.7\n",
       "16     Star Wars: Episode V - The Empire Strikes Back  (1980)    8.7\n",
       "17                    One Flew Over the Cuckoo's Nest  (1975)    8.7\n",
       "18                                       Gisaengchung  (2019)    8.6\n",
       "19                                       Interstellar  (2014)    8.6\n",
       "20                                     Cidade de Deus  (2002)    8.6\n",
       "21                      Sen to Chihiro no kamikakushi  (2001)    8.6\n",
       "22                                Saving Private Ryan  (1998)    8.6\n",
       "23                                     The Green Mile  (1999)    8.6\n",
       "24                                    La vita è bella  (1997)    8.6\n",
       "25                                              Se7en  (1995)    8.6\n",
       "26                           The Silence of the Lambs  (1991)    8.6\n",
       "27                                          Star Wars  (1977)    8.6\n",
       "28                                            Seppuku  (1962)    8.6\n",
       "29                               Shichinin no samurai  (1954)    8.6\n",
       "30                              It's a Wonderful Life  (1946)    8.6\n",
       "31                                           Hamilton  (2020)    8.5\n",
       "32                                           Whiplash  (2014)    8.5\n",
       "33                                   The Intouchables  (2011)    8.5\n",
       "34                                       The Prestige  (2006)    8.5\n",
       "35                                       The Departed  (2006)    8.5\n",
       "36                                        The Pianist  (2002)    8.5\n",
       "37                                          Gladiator  (2000)    8.5\n",
       "38                                 American History X  (1998)    8.5\n",
       "39                                 The Usual Suspects  (1995)    8.5\n",
       "40                                               Léon  (1994)    8.5\n",
       "41                                      The Lion King  (1994)    8.5\n",
       "42                         Terminator 2: Judgment Day  (1991)    8.5\n",
       "43                              Nuovo Cinema Paradiso  (1988)    8.5\n",
       "44                                     Hotaru no haka  (1988)    8.5\n",
       "45                                 Back to the Future  (1985)    8.5\n",
       "46                       Once Upon a Time in the West  (1968)    8.5\n",
       "47                                             Psycho  (1960)    8.5\n",
       "48                                         Casablanca  (1942)    8.5\n",
       "49                                       Modern Times  (1936)    8.5"
      ]
     },
     "execution_count": 16,
     "metadata": {},
     "output_type": "execute_result"
    }
   ],
   "source": [
    "data = list(zip(Name,Year,Rating))\n",
    "df = pd.DataFrame (data,columns=['Name','Year','Rating'])\n",
    "df.head(50)"
   ]
  },
  {
   "cell_type": "code",
   "execution_count": 17,
   "metadata": {},
   "outputs": [],
   "source": [
    "url = get(\"https://www.imdb.com/search/title/?groups=top_100&sort=user_rating,desc&start=51&ref_=adv_nxt\")\n",
    "request = url.text  # Last 50 movies for this url"
   ]
  },
  {
   "cell_type": "code",
   "execution_count": 18,
   "metadata": {},
   "outputs": [
    {
     "data": {
      "text/plain": [
       "'IMDb \"Top 100\"\\n(Sorted by IMDb Rating Descending) - IMDb'"
      ]
     },
     "execution_count": 18,
     "metadata": {},
     "output_type": "execute_result"
    }
   ],
   "source": [
    "soup_data = BeautifulSoup(request,'html.parser')\n",
    "soup_data.title.text"
   ]
  },
  {
   "cell_type": "code",
   "execution_count": 19,
   "metadata": {},
   "outputs": [
    {
     "data": {
      "text/plain": [
       "'City Lights'"
      ]
     },
     "execution_count": 19,
     "metadata": {},
     "output_type": "execute_result"
    }
   ],
   "source": [
    "movies = soup_data.findAll('div',{'class':'lister-item mode-advanced'})\n",
    "first_movie = movies[0]\n",
    "first_movie.h3.a.text   #name of the movie"
   ]
  },
  {
   "cell_type": "code",
   "execution_count": 20,
   "metadata": {},
   "outputs": [
    {
     "data": {
      "text/plain": [
       "'(1931)'"
      ]
     },
     "execution_count": 20,
     "metadata": {},
     "output_type": "execute_result"
    }
   ],
   "source": [
    "first_movie.find('span',{\"class\":\"lister-item-year text-muted unbold\"}).text   #year"
   ]
  },
  {
   "cell_type": "code",
   "execution_count": 21,
   "metadata": {},
   "outputs": [
    {
     "data": {
      "text/plain": [
       "'8.5'"
      ]
     },
     "execution_count": 21,
     "metadata": {},
     "output_type": "execute_result"
    }
   ],
   "source": [
    "first_movie.find('div',{\"class\":\"inline-block ratings-imdb-rating\"}).text.replace('\\n','')"
   ]
  },
  {
   "cell_type": "code",
   "execution_count": 22,
   "metadata": {},
   "outputs": [],
   "source": [
    "Name = []\n",
    "Year = []\n",
    "Rating = []\n",
    "for i in movies:\n",
    "    Name.append(i.h3.a.text)\n",
    "    Year.append(i.find('span',{\"class\":\"lister-item-year text-muted unbold\"}).text)\n",
    "    Rating.append(i.find('div',{\"class\":\"inline-block ratings-imdb-rating\"}).text.replace('\\n',''))"
   ]
  },
  {
   "cell_type": "code",
   "execution_count": 23,
   "metadata": {},
   "outputs": [
    {
     "data": {
      "text/html": [
       "<div>\n",
       "<style scoped>\n",
       "    .dataframe tbody tr th:only-of-type {\n",
       "        vertical-align: middle;\n",
       "    }\n",
       "\n",
       "    .dataframe tbody tr th {\n",
       "        vertical-align: top;\n",
       "    }\n",
       "\n",
       "    .dataframe thead th {\n",
       "        text-align: right;\n",
       "    }\n",
       "</style>\n",
       "<table border=\"1\" class=\"dataframe\">\n",
       "  <thead>\n",
       "    <tr style=\"text-align: right;\">\n",
       "      <th></th>\n",
       "      <th>Name</th>\n",
       "      <th>Year</th>\n",
       "      <th>Rating</th>\n",
       "    </tr>\n",
       "  </thead>\n",
       "  <tbody>\n",
       "    <tr>\n",
       "      <th>0</th>\n",
       "      <td>City Lights</td>\n",
       "      <td>(1931)</td>\n",
       "      <td>8.5</td>\n",
       "    </tr>\n",
       "    <tr>\n",
       "      <th>1</th>\n",
       "      <td>Capharnaüm</td>\n",
       "      <td>(2018)</td>\n",
       "      <td>8.4</td>\n",
       "    </tr>\n",
       "    <tr>\n",
       "      <th>2</th>\n",
       "      <td>Joker</td>\n",
       "      <td>(2019)</td>\n",
       "      <td>8.4</td>\n",
       "    </tr>\n",
       "    <tr>\n",
       "      <th>3</th>\n",
       "      <td>Kimi no na wa.</td>\n",
       "      <td>(2016)</td>\n",
       "      <td>8.4</td>\n",
       "    </tr>\n",
       "    <tr>\n",
       "      <th>4</th>\n",
       "      <td>Dangal</td>\n",
       "      <td>(2016)</td>\n",
       "      <td>8.4</td>\n",
       "    </tr>\n",
       "    <tr>\n",
       "      <th>5</th>\n",
       "      <td>Spider-Man: Into the Spider-Verse</td>\n",
       "      <td>(2018)</td>\n",
       "      <td>8.4</td>\n",
       "    </tr>\n",
       "    <tr>\n",
       "      <th>6</th>\n",
       "      <td>Avengers: Endgame</td>\n",
       "      <td>(2019)</td>\n",
       "      <td>8.4</td>\n",
       "    </tr>\n",
       "    <tr>\n",
       "      <th>7</th>\n",
       "      <td>Avengers: Infinity War</td>\n",
       "      <td>(2018)</td>\n",
       "      <td>8.4</td>\n",
       "    </tr>\n",
       "    <tr>\n",
       "      <th>8</th>\n",
       "      <td>Coco</td>\n",
       "      <td>(I) (2017)</td>\n",
       "      <td>8.4</td>\n",
       "    </tr>\n",
       "    <tr>\n",
       "      <th>9</th>\n",
       "      <td>Django Unchained</td>\n",
       "      <td>(2012)</td>\n",
       "      <td>8.4</td>\n",
       "    </tr>\n",
       "    <tr>\n",
       "      <th>10</th>\n",
       "      <td>The Dark Knight Rises</td>\n",
       "      <td>(2012)</td>\n",
       "      <td>8.4</td>\n",
       "    </tr>\n",
       "    <tr>\n",
       "      <th>11</th>\n",
       "      <td>3 Idiots</td>\n",
       "      <td>(2009)</td>\n",
       "      <td>8.4</td>\n",
       "    </tr>\n",
       "    <tr>\n",
       "      <th>12</th>\n",
       "      <td>Taare Zameen Par</td>\n",
       "      <td>(2007)</td>\n",
       "      <td>8.4</td>\n",
       "    </tr>\n",
       "    <tr>\n",
       "      <th>13</th>\n",
       "      <td>WALL·E</td>\n",
       "      <td>(2008)</td>\n",
       "      <td>8.4</td>\n",
       "    </tr>\n",
       "    <tr>\n",
       "      <th>14</th>\n",
       "      <td>The Lives of Others</td>\n",
       "      <td>(2006)</td>\n",
       "      <td>8.4</td>\n",
       "    </tr>\n",
       "    <tr>\n",
       "      <th>15</th>\n",
       "      <td>Oldeuboi</td>\n",
       "      <td>(2003)</td>\n",
       "      <td>8.4</td>\n",
       "    </tr>\n",
       "    <tr>\n",
       "      <th>16</th>\n",
       "      <td>Memento</td>\n",
       "      <td>(2000)</td>\n",
       "      <td>8.4</td>\n",
       "    </tr>\n",
       "    <tr>\n",
       "      <th>17</th>\n",
       "      <td>Mononoke-hime</td>\n",
       "      <td>(1997)</td>\n",
       "      <td>8.4</td>\n",
       "    </tr>\n",
       "    <tr>\n",
       "      <th>18</th>\n",
       "      <td>Once Upon a Time in America</td>\n",
       "      <td>(1984)</td>\n",
       "      <td>8.4</td>\n",
       "    </tr>\n",
       "    <tr>\n",
       "      <th>19</th>\n",
       "      <td>Raiders of the Lost Ark</td>\n",
       "      <td>(1981)</td>\n",
       "      <td>8.4</td>\n",
       "    </tr>\n",
       "    <tr>\n",
       "      <th>20</th>\n",
       "      <td>The Shining</td>\n",
       "      <td>(1980)</td>\n",
       "      <td>8.4</td>\n",
       "    </tr>\n",
       "    <tr>\n",
       "      <th>21</th>\n",
       "      <td>Apocalypse Now</td>\n",
       "      <td>(1979)</td>\n",
       "      <td>8.4</td>\n",
       "    </tr>\n",
       "    <tr>\n",
       "      <th>22</th>\n",
       "      <td>Alien</td>\n",
       "      <td>(1979)</td>\n",
       "      <td>8.4</td>\n",
       "    </tr>\n",
       "    <tr>\n",
       "      <th>23</th>\n",
       "      <td>Tengoku to jigoku</td>\n",
       "      <td>(1963)</td>\n",
       "      <td>8.4</td>\n",
       "    </tr>\n",
       "    <tr>\n",
       "      <th>24</th>\n",
       "      <td>Dr. Strangelove or: How I Learned to Stop Worr...</td>\n",
       "      <td>(1964)</td>\n",
       "      <td>8.4</td>\n",
       "    </tr>\n",
       "    <tr>\n",
       "      <th>25</th>\n",
       "      <td>Witness for the Prosecution</td>\n",
       "      <td>(1957)</td>\n",
       "      <td>8.4</td>\n",
       "    </tr>\n",
       "    <tr>\n",
       "      <th>26</th>\n",
       "      <td>Paths of Glory</td>\n",
       "      <td>(1957)</td>\n",
       "      <td>8.4</td>\n",
       "    </tr>\n",
       "    <tr>\n",
       "      <th>27</th>\n",
       "      <td>Rear Window</td>\n",
       "      <td>(1954)</td>\n",
       "      <td>8.4</td>\n",
       "    </tr>\n",
       "    <tr>\n",
       "      <th>28</th>\n",
       "      <td>Sunset Blvd.</td>\n",
       "      <td>(1950)</td>\n",
       "      <td>8.4</td>\n",
       "    </tr>\n",
       "    <tr>\n",
       "      <th>29</th>\n",
       "      <td>The Great Dictator</td>\n",
       "      <td>(1940)</td>\n",
       "      <td>8.4</td>\n",
       "    </tr>\n",
       "    <tr>\n",
       "      <th>30</th>\n",
       "      <td>Jagten</td>\n",
       "      <td>(2012)</td>\n",
       "      <td>8.3</td>\n",
       "    </tr>\n",
       "    <tr>\n",
       "      <th>31</th>\n",
       "      <td>Inglourious Basterds</td>\n",
       "      <td>(2009)</td>\n",
       "      <td>8.3</td>\n",
       "    </tr>\n",
       "    <tr>\n",
       "      <th>32</th>\n",
       "      <td>Eternal Sunshine of the Spotless Mind</td>\n",
       "      <td>(2004)</td>\n",
       "      <td>8.3</td>\n",
       "    </tr>\n",
       "    <tr>\n",
       "      <th>33</th>\n",
       "      <td>Requiem for a Dream</td>\n",
       "      <td>(2000)</td>\n",
       "      <td>8.3</td>\n",
       "    </tr>\n",
       "    <tr>\n",
       "      <th>34</th>\n",
       "      <td>American Beauty</td>\n",
       "      <td>(1999)</td>\n",
       "      <td>8.3</td>\n",
       "    </tr>\n",
       "    <tr>\n",
       "      <th>35</th>\n",
       "      <td>Good Will Hunting</td>\n",
       "      <td>(1997)</td>\n",
       "      <td>8.3</td>\n",
       "    </tr>\n",
       "    <tr>\n",
       "      <th>36</th>\n",
       "      <td>Toy Story</td>\n",
       "      <td>(1995)</td>\n",
       "      <td>8.3</td>\n",
       "    </tr>\n",
       "    <tr>\n",
       "      <th>37</th>\n",
       "      <td>Braveheart</td>\n",
       "      <td>(1995)</td>\n",
       "      <td>8.3</td>\n",
       "    </tr>\n",
       "    <tr>\n",
       "      <th>38</th>\n",
       "      <td>Reservoir Dogs</td>\n",
       "      <td>(1992)</td>\n",
       "      <td>8.3</td>\n",
       "    </tr>\n",
       "    <tr>\n",
       "      <th>39</th>\n",
       "      <td>Idi i smotri</td>\n",
       "      <td>(1985)</td>\n",
       "      <td>8.3</td>\n",
       "    </tr>\n",
       "    <tr>\n",
       "      <th>40</th>\n",
       "      <td>Aliens</td>\n",
       "      <td>(1986)</td>\n",
       "      <td>8.3</td>\n",
       "    </tr>\n",
       "    <tr>\n",
       "      <th>41</th>\n",
       "      <td>Amadeus</td>\n",
       "      <td>(1984)</td>\n",
       "      <td>8.3</td>\n",
       "    </tr>\n",
       "    <tr>\n",
       "      <th>42</th>\n",
       "      <td>Star Wars: Episode VI - Return of the Jedi</td>\n",
       "      <td>(1983)</td>\n",
       "      <td>8.3</td>\n",
       "    </tr>\n",
       "    <tr>\n",
       "      <th>43</th>\n",
       "      <td>Das Boot</td>\n",
       "      <td>(1981)</td>\n",
       "      <td>8.3</td>\n",
       "    </tr>\n",
       "    <tr>\n",
       "      <th>44</th>\n",
       "      <td>2001: A Space Odyssey</td>\n",
       "      <td>(1968)</td>\n",
       "      <td>8.3</td>\n",
       "    </tr>\n",
       "    <tr>\n",
       "      <th>45</th>\n",
       "      <td>Vertigo</td>\n",
       "      <td>(1958)</td>\n",
       "      <td>8.3</td>\n",
       "    </tr>\n",
       "    <tr>\n",
       "      <th>46</th>\n",
       "      <td>Singin' in the Rain</td>\n",
       "      <td>(1952)</td>\n",
       "      <td>8.3</td>\n",
       "    </tr>\n",
       "    <tr>\n",
       "      <th>47</th>\n",
       "      <td>Citizen Kane</td>\n",
       "      <td>(1941)</td>\n",
       "      <td>8.3</td>\n",
       "    </tr>\n",
       "    <tr>\n",
       "      <th>48</th>\n",
       "      <td>M - Eine Stadt sucht einen Mörder</td>\n",
       "      <td>(1931)</td>\n",
       "      <td>8.3</td>\n",
       "    </tr>\n",
       "    <tr>\n",
       "      <th>49</th>\n",
       "      <td>The Kid</td>\n",
       "      <td>(1921)</td>\n",
       "      <td>8.3</td>\n",
       "    </tr>\n",
       "  </tbody>\n",
       "</table>\n",
       "</div>"
      ],
      "text/plain": [
       "                                                 Name        Year Rating\n",
       "0                                         City Lights      (1931)    8.5\n",
       "1                                          Capharnaüm      (2018)    8.4\n",
       "2                                               Joker      (2019)    8.4\n",
       "3                                      Kimi no na wa.      (2016)    8.4\n",
       "4                                              Dangal      (2016)    8.4\n",
       "5                   Spider-Man: Into the Spider-Verse      (2018)    8.4\n",
       "6                                   Avengers: Endgame      (2019)    8.4\n",
       "7                              Avengers: Infinity War      (2018)    8.4\n",
       "8                                                Coco  (I) (2017)    8.4\n",
       "9                                    Django Unchained      (2012)    8.4\n",
       "10                              The Dark Knight Rises      (2012)    8.4\n",
       "11                                           3 Idiots      (2009)    8.4\n",
       "12                                   Taare Zameen Par      (2007)    8.4\n",
       "13                                             WALL·E      (2008)    8.4\n",
       "14                                The Lives of Others      (2006)    8.4\n",
       "15                                           Oldeuboi      (2003)    8.4\n",
       "16                                            Memento      (2000)    8.4\n",
       "17                                      Mononoke-hime      (1997)    8.4\n",
       "18                        Once Upon a Time in America      (1984)    8.4\n",
       "19                            Raiders of the Lost Ark      (1981)    8.4\n",
       "20                                        The Shining      (1980)    8.4\n",
       "21                                     Apocalypse Now      (1979)    8.4\n",
       "22                                              Alien      (1979)    8.4\n",
       "23                                  Tengoku to jigoku      (1963)    8.4\n",
       "24  Dr. Strangelove or: How I Learned to Stop Worr...      (1964)    8.4\n",
       "25                        Witness for the Prosecution      (1957)    8.4\n",
       "26                                     Paths of Glory      (1957)    8.4\n",
       "27                                        Rear Window      (1954)    8.4\n",
       "28                                       Sunset Blvd.      (1950)    8.4\n",
       "29                                 The Great Dictator      (1940)    8.4\n",
       "30                                             Jagten      (2012)    8.3\n",
       "31                               Inglourious Basterds      (2009)    8.3\n",
       "32              Eternal Sunshine of the Spotless Mind      (2004)    8.3\n",
       "33                                Requiem for a Dream      (2000)    8.3\n",
       "34                                    American Beauty      (1999)    8.3\n",
       "35                                  Good Will Hunting      (1997)    8.3\n",
       "36                                          Toy Story      (1995)    8.3\n",
       "37                                         Braveheart      (1995)    8.3\n",
       "38                                     Reservoir Dogs      (1992)    8.3\n",
       "39                                       Idi i smotri      (1985)    8.3\n",
       "40                                             Aliens      (1986)    8.3\n",
       "41                                            Amadeus      (1984)    8.3\n",
       "42         Star Wars: Episode VI - Return of the Jedi      (1983)    8.3\n",
       "43                                           Das Boot      (1981)    8.3\n",
       "44                              2001: A Space Odyssey      (1968)    8.3\n",
       "45                                            Vertigo      (1958)    8.3\n",
       "46                                Singin' in the Rain      (1952)    8.3\n",
       "47                                       Citizen Kane      (1941)    8.3\n",
       "48                  M - Eine Stadt sucht einen Mörder      (1931)    8.3\n",
       "49                                            The Kid      (1921)    8.3"
      ]
     },
     "execution_count": 23,
     "metadata": {},
     "output_type": "execute_result"
    }
   ],
   "source": [
    "data = list(zip(Name,Year,Rating))\n",
    "df = pd.DataFrame (data,columns=['Name','Year','Rating'])\n",
    "df.tail(50)"
   ]
  },
  {
   "cell_type": "markdown",
   "metadata": {},
   "source": [
    "# 3. Program 3 - Top 100 Indian Movies on IMDB"
   ]
  },
  {
   "cell_type": "code",
   "execution_count": 24,
   "metadata": {},
   "outputs": [],
   "source": [
    "url = get(\"https://www.imdb.com/list/ls009997493/?sort=user_rating,desc&st_dt=&mode=detail&page=1\")\n",
    "request = url.text\n"
   ]
  },
  {
   "cell_type": "code",
   "execution_count": 25,
   "metadata": {},
   "outputs": [
    {
     "data": {
      "text/plain": [
       "'IMDB Top 100 Hindi Movies - IMDb'"
      ]
     },
     "execution_count": 25,
     "metadata": {},
     "output_type": "execute_result"
    }
   ],
   "source": [
    "soup_data = BeautifulSoup(request,'html.parser')\n",
    "soup_data.title.text"
   ]
  },
  {
   "cell_type": "code",
   "execution_count": 26,
   "metadata": {},
   "outputs": [
    {
     "data": {
      "text/plain": [
       "'Gol Maal'"
      ]
     },
     "execution_count": 26,
     "metadata": {},
     "output_type": "execute_result"
    }
   ],
   "source": [
    "movies = soup_data.findAll('div',{'class':'lister-item mode-detail'})\n",
    "first_movie = movies[0]\n",
    "first_movie.h3.a.text   #name of the movie"
   ]
  },
  {
   "cell_type": "code",
   "execution_count": 27,
   "metadata": {},
   "outputs": [
    {
     "data": {
      "text/plain": [
       "'(1979)'"
      ]
     },
     "execution_count": 27,
     "metadata": {},
     "output_type": "execute_result"
    }
   ],
   "source": [
    "first_movie.find('span',{\"class\":\"lister-item-year text-muted unbold\"}).text   #year"
   ]
  },
  {
   "cell_type": "code",
   "execution_count": 28,
   "metadata": {},
   "outputs": [
    {
     "data": {
      "text/plain": [
       "'8.6'"
      ]
     },
     "execution_count": 28,
     "metadata": {},
     "output_type": "execute_result"
    }
   ],
   "source": [
    "first_movie.find('span',{\"class\":\"ipl-rating-star__rating\"}).text  #Rating\n"
   ]
  },
  {
   "cell_type": "code",
   "execution_count": 29,
   "metadata": {},
   "outputs": [],
   "source": [
    "Name = []\n",
    "Year = []\n",
    "Rating = []\n",
    "for i in movies:\n",
    "    Name.append(i.h3.a.text)\n",
    "    Year.append(i.find('span',{\"class\":\"lister-item-year text-muted unbold\"}).text)\n",
    "    Rating.append(i.find('span',{\"class\":\"ipl-rating-star__rating\"}).text)"
   ]
  },
  {
   "cell_type": "code",
   "execution_count": 30,
   "metadata": {},
   "outputs": [
    {
     "data": {
      "text/html": [
       "<div>\n",
       "<style scoped>\n",
       "    .dataframe tbody tr th:only-of-type {\n",
       "        vertical-align: middle;\n",
       "    }\n",
       "\n",
       "    .dataframe tbody tr th {\n",
       "        vertical-align: top;\n",
       "    }\n",
       "\n",
       "    .dataframe thead th {\n",
       "        text-align: right;\n",
       "    }\n",
       "</style>\n",
       "<table border=\"1\" class=\"dataframe\">\n",
       "  <thead>\n",
       "    <tr style=\"text-align: right;\">\n",
       "      <th></th>\n",
       "      <th>Name</th>\n",
       "      <th>Year</th>\n",
       "      <th>Rating</th>\n",
       "    </tr>\n",
       "  </thead>\n",
       "  <tbody>\n",
       "    <tr>\n",
       "      <th>0</th>\n",
       "      <td>Gol Maal</td>\n",
       "      <td>(1979)</td>\n",
       "      <td>8.6</td>\n",
       "    </tr>\n",
       "    <tr>\n",
       "      <th>1</th>\n",
       "      <td>Black Friday</td>\n",
       "      <td>(2004)</td>\n",
       "      <td>8.5</td>\n",
       "    </tr>\n",
       "    <tr>\n",
       "      <th>2</th>\n",
       "      <td>Pyaasa</td>\n",
       "      <td>(1957)</td>\n",
       "      <td>8.5</td>\n",
       "    </tr>\n",
       "    <tr>\n",
       "      <th>3</th>\n",
       "      <td>3 Idiots</td>\n",
       "      <td>(2009)</td>\n",
       "      <td>8.4</td>\n",
       "    </tr>\n",
       "    <tr>\n",
       "      <th>4</th>\n",
       "      <td>Taare Zameen Par</td>\n",
       "      <td>(2007)</td>\n",
       "      <td>8.4</td>\n",
       "    </tr>\n",
       "    <tr>\n",
       "      <th>...</th>\n",
       "      <td>...</td>\n",
       "      <td>...</td>\n",
       "      <td>...</td>\n",
       "    </tr>\n",
       "    <tr>\n",
       "      <th>95</th>\n",
       "      <td>Ek Hasina Thi</td>\n",
       "      <td>(2004)</td>\n",
       "      <td>7.5</td>\n",
       "    </tr>\n",
       "    <tr>\n",
       "      <th>96</th>\n",
       "      <td>Rangeela</td>\n",
       "      <td>(1995)</td>\n",
       "      <td>7.5</td>\n",
       "    </tr>\n",
       "    <tr>\n",
       "      <th>97</th>\n",
       "      <td>Qayamat Se Qayamat Tak</td>\n",
       "      <td>(1988)</td>\n",
       "      <td>7.5</td>\n",
       "    </tr>\n",
       "    <tr>\n",
       "      <th>98</th>\n",
       "      <td>Socha Na Tha</td>\n",
       "      <td>(2005)</td>\n",
       "      <td>7.4</td>\n",
       "    </tr>\n",
       "    <tr>\n",
       "      <th>99</th>\n",
       "      <td>Gunda</td>\n",
       "      <td>(1998)</td>\n",
       "      <td>7.3</td>\n",
       "    </tr>\n",
       "  </tbody>\n",
       "</table>\n",
       "<p>100 rows × 3 columns</p>\n",
       "</div>"
      ],
      "text/plain": [
       "                      Name    Year Rating\n",
       "0                 Gol Maal  (1979)    8.6\n",
       "1             Black Friday  (2004)    8.5\n",
       "2                   Pyaasa  (1957)    8.5\n",
       "3                 3 Idiots  (2009)    8.4\n",
       "4         Taare Zameen Par  (2007)    8.4\n",
       "..                     ...     ...    ...\n",
       "95           Ek Hasina Thi  (2004)    7.5\n",
       "96                Rangeela  (1995)    7.5\n",
       "97  Qayamat Se Qayamat Tak  (1988)    7.5\n",
       "98            Socha Na Tha  (2005)    7.4\n",
       "99                   Gunda  (1998)    7.3\n",
       "\n",
       "[100 rows x 3 columns]"
      ]
     },
     "execution_count": 30,
     "metadata": {},
     "output_type": "execute_result"
    }
   ],
   "source": [
    "data = list(zip(Name,Year,Rating))\n",
    "df = pd.DataFrame (data,columns=['Name','Year','Rating'])\n",
    "df.head(100)"
   ]
  },
  {
   "cell_type": "markdown",
   "metadata": {},
   "source": [
    "# 4. Program 4 - Book Scrapping from BookPage"
   ]
  },
  {
   "cell_type": "code",
   "execution_count": 31,
   "metadata": {},
   "outputs": [
    {
     "data": {
      "text/plain": [
       "<Response [200]>"
      ]
     },
     "execution_count": 31,
     "metadata": {},
     "output_type": "execute_result"
    }
   ],
   "source": [
    "page = requests.get('https://bookpage.com/reviews')\n",
    "page"
   ]
  },
  {
   "cell_type": "code",
   "execution_count": 32,
   "metadata": {},
   "outputs": [],
   "source": [
    "soup=BeautifulSoup(page.content)\n"
   ]
  },
  {
   "cell_type": "code",
   "execution_count": 33,
   "metadata": {},
   "outputs": [
    {
     "data": {
      "text/plain": [
       "' ★ Facing the Mountain'"
      ]
     },
     "execution_count": 33,
     "metadata": {},
     "output_type": "execute_result"
    }
   ],
   "source": [
    "first_book=soup.find('h4',class_=\"italic\")                                       #Book Name\n",
    "first_book.text.replace('\\n','')"
   ]
  },
  {
   "cell_type": "code",
   "execution_count": 34,
   "metadata": {},
   "outputs": [
    {
     "data": {
      "text/plain": [
       "'Daniel James Brown'"
      ]
     },
     "execution_count": 34,
     "metadata": {},
     "output_type": "execute_result"
    }
   ],
   "source": [
    "first_auth=soup.find('p',class_=\"sans bold\")                                     #Author Name\n",
    "first_auth.text.replace('\\n','')"
   ]
  },
  {
   "cell_type": "code",
   "execution_count": 35,
   "metadata": {},
   "outputs": [
    {
     "data": {
      "text/plain": [
       "'Nonfiction / History / American History'"
      ]
     },
     "execution_count": 35,
     "metadata": {},
     "output_type": "execute_result"
    }
   ],
   "source": [
    "first_genre=soup.find('p',class_=\"genre-links\")                                   #Genre\n",
    "first_genre.text.replace('\\n','')"
   ]
  },
  {
   "cell_type": "code",
   "execution_count": 36,
   "metadata": {},
   "outputs": [
    {
     "data": {
      "text/plain": [
       "'Most of the Japanese American patriots who formed the 442nd Infantry Regiment are gone, but their stories live on in this empathetic tribute to their courage.'"
      ]
     },
     "execution_count": 36,
     "metadata": {},
     "output_type": "execute_result"
    }
   ],
   "source": [
    "first_rev=soup.find('p',class_=\"excerpt\")                                          # Short Review\n",
    "first_rev.text.replace('\\n','')"
   ]
  },
  {
   "cell_type": "code",
   "execution_count": 37,
   "metadata": {},
   "outputs": [
    {
     "name": "stdout",
     "output_type": "stream",
     "text": [
      "★ Facing the Mountain\n",
      "Lucky Girl\n",
      "★ On Juneteenth\n",
      "Pawcasso\n",
      "The Most Beautiful Girl in Cuba\n",
      "Why Peacocks?\n",
      "The Last Thing He Told Me\n",
      "The Secret History of Home Economics\n",
      "Little and Often\n",
      "The Wreckage of My Presence\n"
     ]
    }
   ],
   "source": [
    "book = soup.find_all('h4',class_=\"italic\")\n",
    "  \n",
    "for item in book:\n",
    "  print(item.text.strip())"
   ]
  },
  {
   "cell_type": "code",
   "execution_count": 38,
   "metadata": {},
   "outputs": [
    {
     "name": "stdout",
     "output_type": "stream",
     "text": [
      "\n",
      "Daniel James Brown\n",
      "\n",
      "\n",
      "Jamie Pacton\n",
      "\n",
      "\n",
      "Annette Gordon-Reed\n",
      "\n",
      "\n",
      "Remy Lai\n",
      "\n",
      "\n",
      "Chanel Cleeton\n",
      "\n",
      "\n",
      "Sean Flynn\n",
      "\n",
      "\n",
      "Laura Dave\n",
      "\n",
      "\n",
      "Danielle Dreilinger\n",
      "\n",
      "\n",
      "Trent Preszler\n",
      "\n",
      "\n",
      "Casey Wilson\n",
      "\n"
     ]
    }
   ],
   "source": [
    "authors = soup.find_all('p',class_=\"sans bold\")\n",
    "  \n",
    "for item in authors:\n",
    "  print(item.text)"
   ]
  },
  {
   "cell_type": "code",
   "execution_count": 39,
   "metadata": {},
   "outputs": [
    {
     "name": "stdout",
     "output_type": "stream",
     "text": [
      "\n",
      "Nonfiction\n",
      " / \n",
      "History\n",
      " / \n",
      "American History\n",
      "\n",
      "\n",
      "YA Fiction\n",
      " / \n",
      "YA\n",
      "\n",
      "\n",
      "Nonfiction\n",
      " / \n",
      "History\n",
      " / \n",
      "American History\n",
      "\n",
      "\n",
      "Children's\n",
      " / \n",
      "Middle Grade\n",
      "\n",
      "\n",
      "Fiction\n",
      " / \n",
      "Historical Fiction\n",
      "\n",
      "\n",
      "Nonfiction\n",
      " / \n",
      "Science & Nature\n",
      " / \n",
      "Animals\n",
      "\n",
      "\n",
      "Fiction\n",
      " / \n",
      "Family Drama\n",
      "\n",
      "\n",
      "Nonfiction\n",
      " / \n",
      "History\n",
      " / \n",
      "Women's History\n",
      "\n",
      "\n",
      "Nonfiction\n",
      " / \n",
      "Memoir\n",
      " / \n",
      "Family & Relationships\n",
      "\n",
      "\n",
      "Nonfiction\n",
      " / \n",
      "Essays\n",
      " / \n",
      "Humor\n",
      "\n"
     ]
    }
   ],
   "source": [
    " genre = soup.find_all('p',class_=\"genre-links\")\n",
    "  \n",
    "for item in genre:\n",
    "  print(item.text)"
   ]
  },
  {
   "cell_type": "code",
   "execution_count": 40,
   "metadata": {},
   "outputs": [
    {
     "name": "stdout",
     "output_type": "stream",
     "text": [
      "\n",
      "Most of the Japanese American patriots who formed the 442nd Infantry Regiment are gone, but their stories live on in this empathetic tribute to their courage.\n",
      "\n",
      "\n",
      "\n",
      "\n",
      "Gordon-Reed’s essays seamlessly merge history, memoir and family history into a complex portrait of her beloved, turbulent Texas.\n",
      "\n",
      "\n",
      "\n",
      "\n",
      "Chanel Cleeton delivers a sweeping story of love and courage, as well as a sobering reminder of the power and responsibility of the media.\n",
      "\n",
      "\n",
      "Have you ever thought, What my household needs is a few peacocks? Me neither. But that didn’t stop me from enjoying this entertaining, sweet and often funny book.\n",
      "\n",
      "\n",
      "Laura Dave has given us what we crave right now—a thoroughly engrossing yet comforting distraction.\n",
      "\n",
      "\n",
      "Whatever stereotypes we associate with home economics, Danielle Dreilinger is here to assure us that everything we think we know is wrong.\n",
      "\n",
      "\n",
      "This lucid, lyrical memoir recalls father-son episodes in South Dakota, with its biblical weather, rattlesnakes, long horseback rides and rodeos.\n",
      "\n",
      "\n",
      "The Wreckage of My Presence is funny and bold, occasionally manic or melancholy, and always hilarious and heartfelt. Fans will turn the last page wanting more.\n",
      "\n"
     ]
    }
   ],
   "source": [
    "reviews = soup.find_all('p',class_=\"excerpt\")\n",
    "  \n",
    "for item in reviews:\n",
    "  print(item.text)"
   ]
  },
  {
   "cell_type": "code",
   "execution_count": 41,
   "metadata": {},
   "outputs": [],
   "source": [
    "data = list(zip(book,authors,genre,reviews))\n",
    "df = pd.DataFrame (data,columns=['book','authors','genre','review'])"
   ]
  },
  {
   "cell_type": "code",
   "execution_count": 42,
   "metadata": {},
   "outputs": [
    {
     "data": {
      "text/html": [
       "<div>\n",
       "<style scoped>\n",
       "    .dataframe tbody tr th:only-of-type {\n",
       "        vertical-align: middle;\n",
       "    }\n",
       "\n",
       "    .dataframe tbody tr th {\n",
       "        vertical-align: top;\n",
       "    }\n",
       "\n",
       "    .dataframe thead th {\n",
       "        text-align: right;\n",
       "    }\n",
       "</style>\n",
       "<table border=\"1\" class=\"dataframe\">\n",
       "  <thead>\n",
       "    <tr style=\"text-align: right;\">\n",
       "      <th></th>\n",
       "      <th>book</th>\n",
       "      <th>authors</th>\n",
       "      <th>genre</th>\n",
       "      <th>review</th>\n",
       "    </tr>\n",
       "  </thead>\n",
       "  <tbody>\n",
       "    <tr>\n",
       "      <th>0</th>\n",
       "      <td>[\\n, [ , [★ ], Facing the Mountain], \\n]</td>\n",
       "      <td>[\\nDaniel James Brown\\n]</td>\n",
       "      <td>[\\n, [Nonfiction], \\n / \\n, [History], \\n / \\n...</td>\n",
       "      <td>[\\nMost of the Japanese American patriots who ...</td>\n",
       "    </tr>\n",
       "    <tr>\n",
       "      <th>1</th>\n",
       "      <td>[\\n, [Lucky Girl], \\n]</td>\n",
       "      <td>[\\nJamie Pacton\\n]</td>\n",
       "      <td>[\\n, [YA Fiction], \\n / \\n, [YA], \\n]</td>\n",
       "      <td>[\\n]</td>\n",
       "    </tr>\n",
       "    <tr>\n",
       "      <th>2</th>\n",
       "      <td>[\\n, [ , [★ ], On Juneteenth], \\n]</td>\n",
       "      <td>[\\nAnnette Gordon-Reed\\n]</td>\n",
       "      <td>[\\n, [Nonfiction], \\n / \\n, [History], \\n / \\n...</td>\n",
       "      <td>[\\nGordon-Reed’s essays seamlessly merge histo...</td>\n",
       "    </tr>\n",
       "    <tr>\n",
       "      <th>3</th>\n",
       "      <td>[\\n, [Pawcasso], \\n]</td>\n",
       "      <td>[\\nRemy Lai\\n]</td>\n",
       "      <td>[\\n, [Children's], \\n / \\n, [Middle Grade], \\n]</td>\n",
       "      <td>[\\n]</td>\n",
       "    </tr>\n",
       "    <tr>\n",
       "      <th>4</th>\n",
       "      <td>[\\n, [The Most Beautiful Girl in Cuba], \\n]</td>\n",
       "      <td>[\\nChanel Cleeton\\n]</td>\n",
       "      <td>[\\n, [Fiction], \\n / \\n, [Historical Fiction],...</td>\n",
       "      <td>[\\nChanel Cleeton delivers a sweeping story of...</td>\n",
       "    </tr>\n",
       "    <tr>\n",
       "      <th>5</th>\n",
       "      <td>[\\n, [Why Peacocks?], \\n]</td>\n",
       "      <td>[\\nSean Flynn\\n]</td>\n",
       "      <td>[\\n, [Nonfiction], \\n / \\n, [Science &amp; Nature]...</td>\n",
       "      <td>[\\nHave you ever thought, , [What my household...</td>\n",
       "    </tr>\n",
       "    <tr>\n",
       "      <th>6</th>\n",
       "      <td>[\\n, [The Last Thing He Told Me], \\n]</td>\n",
       "      <td>[\\nLaura Dave\\n]</td>\n",
       "      <td>[\\n, [Fiction], \\n / \\n, [Family Drama], \\n]</td>\n",
       "      <td>[\\nLaura Dave has given us what we crave right...</td>\n",
       "    </tr>\n",
       "    <tr>\n",
       "      <th>7</th>\n",
       "      <td>[\\n, [The Secret History of Home Economics], \\n]</td>\n",
       "      <td>[\\nDanielle Dreilinger\\n]</td>\n",
       "      <td>[\\n, [Nonfiction], \\n / \\n, [History], \\n / \\n...</td>\n",
       "      <td>[\\nWhatever stereotypes we associate with home...</td>\n",
       "    </tr>\n",
       "    <tr>\n",
       "      <th>8</th>\n",
       "      <td>[\\n, [Little and Often], \\n]</td>\n",
       "      <td>[\\nTrent Preszler\\n]</td>\n",
       "      <td>[\\n, [Nonfiction], \\n / \\n, [Memoir], \\n / \\n,...</td>\n",
       "      <td>[\\nThis lucid, lyrical memoir recalls father-s...</td>\n",
       "    </tr>\n",
       "    <tr>\n",
       "      <th>9</th>\n",
       "      <td>[\\n, [The Wreckage of My Presence], \\n]</td>\n",
       "      <td>[\\nCasey Wilson\\n]</td>\n",
       "      <td>[\\n, [Nonfiction], \\n / \\n, [Essays], \\n / \\n,...</td>\n",
       "      <td>[\\n, [The Wreckage of My Presence],  is funny ...</td>\n",
       "    </tr>\n",
       "  </tbody>\n",
       "</table>\n",
       "</div>"
      ],
      "text/plain": [
       "                                               book  \\\n",
       "0          [\\n, [ , [★ ], Facing the Mountain], \\n]   \n",
       "1                            [\\n, [Lucky Girl], \\n]   \n",
       "2                [\\n, [ , [★ ], On Juneteenth], \\n]   \n",
       "3                              [\\n, [Pawcasso], \\n]   \n",
       "4       [\\n, [The Most Beautiful Girl in Cuba], \\n]   \n",
       "5                         [\\n, [Why Peacocks?], \\n]   \n",
       "6             [\\n, [The Last Thing He Told Me], \\n]   \n",
       "7  [\\n, [The Secret History of Home Economics], \\n]   \n",
       "8                      [\\n, [Little and Often], \\n]   \n",
       "9           [\\n, [The Wreckage of My Presence], \\n]   \n",
       "\n",
       "                     authors  \\\n",
       "0   [\\nDaniel James Brown\\n]   \n",
       "1         [\\nJamie Pacton\\n]   \n",
       "2  [\\nAnnette Gordon-Reed\\n]   \n",
       "3             [\\nRemy Lai\\n]   \n",
       "4       [\\nChanel Cleeton\\n]   \n",
       "5           [\\nSean Flynn\\n]   \n",
       "6           [\\nLaura Dave\\n]   \n",
       "7  [\\nDanielle Dreilinger\\n]   \n",
       "8       [\\nTrent Preszler\\n]   \n",
       "9         [\\nCasey Wilson\\n]   \n",
       "\n",
       "                                               genre  \\\n",
       "0  [\\n, [Nonfiction], \\n / \\n, [History], \\n / \\n...   \n",
       "1              [\\n, [YA Fiction], \\n / \\n, [YA], \\n]   \n",
       "2  [\\n, [Nonfiction], \\n / \\n, [History], \\n / \\n...   \n",
       "3    [\\n, [Children's], \\n / \\n, [Middle Grade], \\n]   \n",
       "4  [\\n, [Fiction], \\n / \\n, [Historical Fiction],...   \n",
       "5  [\\n, [Nonfiction], \\n / \\n, [Science & Nature]...   \n",
       "6       [\\n, [Fiction], \\n / \\n, [Family Drama], \\n]   \n",
       "7  [\\n, [Nonfiction], \\n / \\n, [History], \\n / \\n...   \n",
       "8  [\\n, [Nonfiction], \\n / \\n, [Memoir], \\n / \\n,...   \n",
       "9  [\\n, [Nonfiction], \\n / \\n, [Essays], \\n / \\n,...   \n",
       "\n",
       "                                              review  \n",
       "0  [\\nMost of the Japanese American patriots who ...  \n",
       "1                                               [\\n]  \n",
       "2  [\\nGordon-Reed’s essays seamlessly merge histo...  \n",
       "3                                               [\\n]  \n",
       "4  [\\nChanel Cleeton delivers a sweeping story of...  \n",
       "5  [\\nHave you ever thought, , [What my household...  \n",
       "6  [\\nLaura Dave has given us what we crave right...  \n",
       "7  [\\nWhatever stereotypes we associate with home...  \n",
       "8  [\\nThis lucid, lyrical memoir recalls father-s...  \n",
       "9  [\\n, [The Wreckage of My Presence],  is funny ...  "
      ]
     },
     "metadata": {},
     "output_type": "display_data"
    }
   ],
   "source": [
    "display(df)"
   ]
  },
  {
   "cell_type": "markdown",
   "metadata": {},
   "source": [
    "# 5. Program 5 - ICC Mens Ranking ODI  Team,Players"
   ]
  },
  {
   "cell_type": "code",
   "execution_count": 43,
   "metadata": {},
   "outputs": [
    {
     "data": {
      "text/plain": [
       "<Response [200]>"
      ]
     },
     "execution_count": 43,
     "metadata": {},
     "output_type": "execute_result"
    }
   ],
   "source": [
    "page = requests.get('https://www.icc-cricket.com/rankings/mens/team-rankings/odi')\n",
    "page"
   ]
  },
  {
   "cell_type": "code",
   "execution_count": 44,
   "metadata": {},
   "outputs": [],
   "source": [
    "soup=BeautifulSoup(page.content)"
   ]
  },
  {
   "cell_type": "code",
   "execution_count": 45,
   "metadata": {},
   "outputs": [
    {
     "data": {
      "text/plain": [
       "'1'"
      ]
     },
     "execution_count": 45,
     "metadata": {},
     "output_type": "execute_result"
    }
   ],
   "source": [
    "pos=soup.find('td',class_=\"rankings-block__banner--pos\")\n",
    "pos.text\n"
   ]
  },
  {
   "cell_type": "code",
   "execution_count": 46,
   "metadata": {},
   "outputs": [
    {
     "data": {
      "text/plain": [
       "'New Zealand'"
      ]
     },
     "execution_count": 46,
     "metadata": {},
     "output_type": "execute_result"
    }
   ],
   "source": [
    "team=soup.find('span',class_=\"u-hide-phablet\")\n",
    "team.text"
   ]
  },
  {
   "cell_type": "code",
   "execution_count": 47,
   "metadata": {},
   "outputs": [
    {
     "data": {
      "text/plain": [
       "'17'"
      ]
     },
     "execution_count": 47,
     "metadata": {},
     "output_type": "execute_result"
    }
   ],
   "source": [
    "matches=soup.find('td',class_=\"rankings-block__banner--matches\")\n",
    "matches.text"
   ]
  },
  {
   "cell_type": "code",
   "execution_count": 48,
   "metadata": {},
   "outputs": [
    {
     "data": {
      "text/plain": [
       "'2,054'"
      ]
     },
     "execution_count": 48,
     "metadata": {},
     "output_type": "execute_result"
    }
   ],
   "source": [
    "points=soup.find('td',class_=\"rankings-block__banner--points\")\n",
    "points.text"
   ]
  },
  {
   "cell_type": "code",
   "execution_count": 49,
   "metadata": {},
   "outputs": [
    {
     "data": {
      "text/plain": [
       "'                            121                            '"
      ]
     },
     "execution_count": 49,
     "metadata": {},
     "output_type": "execute_result"
    }
   ],
   "source": [
    "ratings=soup.find('td',class_=\"rankings-block__banner--rating u-text-right\")\n",
    "ratings.text.replace('\\n','' )"
   ]
  },
  {
   "cell_type": "code",
   "execution_count": 50,
   "metadata": {},
   "outputs": [
    {
     "name": "stdout",
     "output_type": "stream",
     "text": [
      "2\n",
      "3\n",
      "4\n",
      "5\n",
      "6\n",
      "7\n",
      "8\n",
      "9\n",
      "10\n",
      "11\n",
      "12\n",
      "13\n",
      "14\n",
      "15\n",
      "16\n",
      "17\n",
      "18\n",
      "19\n",
      "20\n"
     ]
    }
   ],
   "source": [
    "pos = soup.find_all('td',class_=\"table-body__cell table-body__cell--position u-text-right\")\n",
    "  \n",
    "for item in pos:\n",
    "  print(item.text)"
   ]
  },
  {
   "cell_type": "code",
   "execution_count": 51,
   "metadata": {},
   "outputs": [
    {
     "name": "stdout",
     "output_type": "stream",
     "text": [
      "New Zealand\n",
      "Australia\n",
      "India\n",
      "England\n",
      "South Africa\n",
      "Pakistan\n",
      "Bangladesh\n",
      "West Indies\n",
      "Sri Lanka\n",
      "Afghanistan\n",
      "Netherlands\n",
      "Ireland\n",
      "Zimbabwe\n",
      "Oman\n",
      "Scotland\n",
      "Nepal\n",
      "UAE\n",
      "Namibia\n",
      "United States\n",
      "Papua New Guinea\n",
      "\n",
      "\n",
      "\n",
      "\n",
      "\n"
     ]
    }
   ],
   "source": [
    "team = soup.find_all('span',class_=\"u-hide-phablet\")\n",
    "  \n",
    "for item in team:\n",
    "  print(item.text)"
   ]
  },
  {
   "cell_type": "code",
   "execution_count": 52,
   "metadata": {},
   "outputs": [
    {
     "name": "stdout",
     "output_type": "stream",
     "text": [
      "\n",
      "\n",
      "1\n",
      "\n",
      "\n",
      "New Zealand\n",
      "NZ\n",
      "\n",
      "17\n",
      "2,054\n",
      "\n",
      "                            121\n",
      "                            \n",
      "\n",
      "\n",
      "\n",
      "\n",
      "2\n",
      "\n",
      "\n",
      "Australia\n",
      "AUS\n",
      "\n",
      "25\n",
      "2,945\n",
      "118\n",
      "\n",
      "\n",
      "3\n",
      "\n",
      "\n",
      "India\n",
      "IND\n",
      "\n",
      "29\n",
      "3,344\n",
      "115\n",
      "\n",
      "\n",
      "4\n",
      "\n",
      "\n",
      "England\n",
      "ENG\n",
      "\n",
      "27\n",
      "3,100\n",
      "115\n",
      "\n",
      "\n",
      "5\n",
      "\n",
      "\n",
      "South Africa\n",
      "SA\n",
      "\n",
      "20\n",
      "2,137\n",
      "107\n",
      "\n",
      "\n",
      "6\n",
      "\n",
      "\n",
      "Pakistan\n",
      "PAK\n",
      "\n",
      "24\n",
      "2,323\n",
      "97\n",
      "\n",
      "\n",
      "7\n",
      "\n",
      "\n",
      "Bangladesh\n",
      "BAN\n",
      "\n",
      "24\n",
      "2,157\n",
      "90\n",
      "\n",
      "\n",
      "8\n",
      "\n",
      "\n",
      "West Indies\n",
      "WI\n",
      "\n",
      "27\n",
      "2,222\n",
      "82\n",
      "\n",
      "\n",
      "9\n",
      "\n",
      "\n",
      "Sri Lanka\n",
      "SL\n",
      "\n",
      "21\n",
      "1,652\n",
      "79\n",
      "\n",
      "\n",
      "10\n",
      "\n",
      "\n",
      "Afghanistan\n",
      "AFG\n",
      "\n",
      "17\n",
      "1,054\n",
      "62\n",
      "\n",
      "\n",
      "11\n",
      "\n",
      "\n",
      "Netherlands\n",
      "NED\n",
      "\n",
      "2\n",
      "99\n",
      "50\n",
      "\n",
      "\n",
      "12\n",
      "\n",
      "\n",
      "Ireland\n",
      "IRE\n",
      "\n",
      "18\n",
      "818\n",
      "45\n",
      "\n",
      "\n",
      "13\n",
      "\n",
      "\n",
      "Zimbabwe\n",
      "ZIM\n",
      "\n",
      "15\n",
      "588\n",
      "39\n",
      "\n",
      "\n",
      "14\n",
      "\n",
      "\n",
      "Oman\n",
      "OMA\n",
      "\n",
      "7\n",
      "240\n",
      "34\n",
      "\n",
      "\n",
      "15\n",
      "\n",
      "\n",
      "Scotland\n",
      "SCO\n",
      "\n",
      "5\n",
      "148\n",
      "30\n",
      "\n",
      "\n",
      "16\n",
      "\n",
      "\n",
      "Nepal\n",
      "NEP\n",
      "\n",
      "5\n",
      "119\n",
      "24\n",
      "\n",
      "\n",
      "17\n",
      "\n",
      "\n",
      "UAE\n",
      "UAE\n",
      "\n",
      "9\n",
      "190\n",
      "21\n",
      "\n",
      "\n",
      "18\n",
      "\n",
      "\n",
      "Namibia\n",
      "NAM\n",
      "\n",
      "6\n",
      "97\n",
      "16\n",
      "\n",
      "\n",
      "19\n",
      "\n",
      "\n",
      "United States\n",
      "USA\n",
      "\n",
      "8\n",
      "93\n",
      "12\n",
      "\n",
      "\n",
      "20\n",
      "\n",
      "\n",
      "Papua New Guinea\n",
      "PNG\n",
      "\n",
      "5\n",
      "0\n",
      "0\n",
      "\n",
      "\n"
     ]
    }
   ],
   "source": [
    "matches = soup.find_all('tbody')\n",
    "  \n",
    "for item in matches:\n",
    "  print(item.text)"
   ]
  },
  {
   "cell_type": "markdown",
   "metadata": {},
   "source": [
    "ODI PLAYERS RANKING "
   ]
  },
  {
   "cell_type": "code",
   "execution_count": 70,
   "metadata": {},
   "outputs": [],
   "source": [
    "url = \"https://www.icc-cricket.com/rankings/mens/player-rankings/odi\""
   ]
  },
  {
   "cell_type": "code",
   "execution_count": 71,
   "metadata": {},
   "outputs": [],
   "source": [
    "r  = requests.get(url)\n",
    "htmlContent = r.content\n"
   ]
  },
  {
   "cell_type": "code",
   "execution_count": 72,
   "metadata": {},
   "outputs": [
    {
     "name": "stdout",
     "output_type": "stream",
     "text": [
      "ICC ODI Match Player Rankings International Cricket Council\n"
     ]
    }
   ],
   "source": [
    "soup = BeautifulSoup(htmlContent, 'html.parser')\n",
    "title = soup.title\n",
    "print(title.text)"
   ]
  },
  {
   "cell_type": "code",
   "execution_count": 75,
   "metadata": {},
   "outputs": [],
   "source": [
    "first_table= soup.find(\"table\")\n",
    "assert first_table.find(\"th\").get_text() == \"Pos\"\n",
    "rows = first_table.find_all(\"tr\",)"
   ]
  },
  {
   "cell_type": "code",
   "execution_count": 76,
   "metadata": {},
   "outputs": [
    {
     "data": {
      "text/plain": [
       "['2This player has moved down in the rankings since the previous rankings update',\n",
       " 'Virat Kohli',\n",
       " 'IND',\n",
       " '857']"
      ]
     },
     "metadata": {},
     "output_type": "display_data"
    },
    {
     "data": {
      "text/plain": [
       "['3', 'Rohit Sharma', 'IND', '825']"
      ]
     },
     "metadata": {},
     "output_type": "display_data"
    },
    {
     "data": {
      "text/plain": [
       "['4', 'Ross Taylor', 'NZ', '801']"
      ]
     },
     "metadata": {},
     "output_type": "display_data"
    },
    {
     "data": {
      "text/plain": [
       "['5', 'Aaron Finch', 'AUS', '791']"
      ]
     },
     "metadata": {},
     "output_type": "display_data"
    },
    {
     "data": {
      "text/plain": [
       "['6', 'Jonny Bairstow', 'ENG', '785']"
      ]
     },
     "metadata": {},
     "output_type": "display_data"
    },
    {
     "data": {
      "text/plain": [
       "['7This player has moved up in the rankings since the previous rankings update',\n",
       " 'Fakhar Zaman',\n",
       " 'PAK',\n",
       " '778']"
      ]
     },
     "metadata": {},
     "output_type": "display_data"
    },
    {
     "data": {
      "text/plain": [
       "['This player has moved down in the rankings since the previous rankings update',\n",
       " 'Francois du Plessis',\n",
       " 'SA',\n",
       " '778']"
      ]
     },
     "metadata": {},
     "output_type": "display_data"
    },
    {
     "data": {
      "text/plain": [
       "['9This player has moved down in the rankings since the previous rankings update',\n",
       " 'David Warner',\n",
       " 'AUS',\n",
       " '773']"
      ]
     },
     "metadata": {},
     "output_type": "display_data"
    }
   ],
   "source": [
    "for row in rows[1:-1]:\n",
    "    cells = row.find_all([\"td\"])\n",
    "    cells_text = [cell.get_text(strip=True) for cell in cells]\n",
    "    \n",
    "    display(cells_text)\n",
    "    \n",
    "    "
   ]
  },
  {
   "cell_type": "markdown",
   "metadata": {},
   "source": [
    "# 6. Program 6 - ICC ODI Womens Rankings Team,Players"
   ]
  },
  {
   "cell_type": "code",
   "execution_count": 77,
   "metadata": {},
   "outputs": [],
   "source": [
    "url = \"https://www.icc-cricket.com/rankings/womens/team-rankings/odi\"        #fetching the url\n",
    "r  = requests.get(url)\n",
    "htmlContent = r.content\n"
   ]
  },
  {
   "cell_type": "code",
   "execution_count": 78,
   "metadata": {},
   "outputs": [
    {
     "name": "stdout",
     "output_type": "stream",
     "text": [
      "ICC Ranking for ODI teams International Cricket Council\n"
     ]
    }
   ],
   "source": [
    "soup = BeautifulSoup(htmlContent, 'html.parser')\n",
    "title = soup.title\n",
    "print(title.string)"
   ]
  },
  {
   "cell_type": "code",
   "execution_count": 79,
   "metadata": {},
   "outputs": [],
   "source": [
    "first_table= soup.find(\"table\")\n",
    "assert first_table.find(\"th\").get_text() == \"Pos\"\n",
    "rows = first_table.find_all(\"tr\",)"
   ]
  },
  {
   "cell_type": "code",
   "execution_count": 80,
   "metadata": {},
   "outputs": [
    {
     "data": {
      "text/plain": [
       "['1', 'AustraliaAUS', '18', '2,955', '164']"
      ]
     },
     "metadata": {},
     "output_type": "display_data"
    },
    {
     "data": {
      "text/plain": [
       "['2', 'South AfricaSA', '24', '2,828', '118']"
      ]
     },
     "metadata": {},
     "output_type": "display_data"
    },
    {
     "data": {
      "text/plain": [
       "['3', 'EnglandENG', '17', '1,993', '117']"
      ]
     },
     "metadata": {},
     "output_type": "display_data"
    },
    {
     "data": {
      "text/plain": [
       "['4', 'IndiaIND', '20', '2,226', '111']"
      ]
     },
     "metadata": {},
     "output_type": "display_data"
    },
    {
     "data": {
      "text/plain": [
       "['5', 'New ZealandNZ', '21', '1,947', '93']"
      ]
     },
     "metadata": {},
     "output_type": "display_data"
    },
    {
     "data": {
      "text/plain": [
       "['6', 'West IndiesWI', '12', '1,025', '85']"
      ]
     },
     "metadata": {},
     "output_type": "display_data"
    },
    {
     "data": {
      "text/plain": [
       "['7', 'PakistanPAK', '15', '1,101', '73']"
      ]
     },
     "metadata": {},
     "output_type": "display_data"
    },
    {
     "data": {
      "text/plain": [
       "['8', 'BangladeshBAN', '5', '306', '61']"
      ]
     },
     "metadata": {},
     "output_type": "display_data"
    },
    {
     "data": {
      "text/plain": [
       "['9', 'Sri LankaSL', '11', '519', '47']"
      ]
     },
     "metadata": {},
     "output_type": "display_data"
    }
   ],
   "source": [
    "for row in rows[1:-1]:\n",
    "    cells = row.find_all([\"td\"])\n",
    "    cells_text = [cell.get_text(strip=True) for cell in cells]\n",
    "    \n",
    "    display(cells_text)\n",
    "    \n",
    "    "
   ]
  },
  {
   "cell_type": "markdown",
   "metadata": {},
   "source": [
    "# Top 10 Odi Womens Batsman"
   ]
  },
  {
   "cell_type": "code",
   "execution_count": 82,
   "metadata": {},
   "outputs": [],
   "source": [
    "url = \"https://www.icc-cricket.com/rankings/womens/player-rankings/odi\"\n",
    "r  = requests.get(url)\n",
    "htmlContent = r.content\n"
   ]
  },
  {
   "cell_type": "code",
   "execution_count": 83,
   "metadata": {},
   "outputs": [
    {
     "name": "stdout",
     "output_type": "stream",
     "text": [
      "ICC ODI Match Player Rankings International Cricket Council\n"
     ]
    }
   ],
   "source": [
    "soup = BeautifulSoup(htmlContent, 'html.parser')\n",
    "title = soup.title\n",
    "print(title.string)"
   ]
  },
  {
   "cell_type": "code",
   "execution_count": 84,
   "metadata": {},
   "outputs": [],
   "source": [
    "first_table= soup.find(\"table\")\n",
    "assert first_table.find(\"th\").get_text() == \"Pos\"\n",
    "rows = first_table.find_all(\"tr\",)"
   ]
  },
  {
   "cell_type": "code",
   "execution_count": 85,
   "metadata": {},
   "outputs": [
    {
     "data": {
      "text/plain": [
       "['2', 'Lizelle Lee', 'SA', '758']"
      ]
     },
     "metadata": {},
     "output_type": "display_data"
    },
    {
     "data": {
      "text/plain": [
       "['3', 'Alyssa Healy', 'AUS', '756']"
      ]
     },
     "metadata": {},
     "output_type": "display_data"
    },
    {
     "data": {
      "text/plain": [
       "['4', 'Stafanie Taylor', 'WI', '746']"
      ]
     },
     "metadata": {},
     "output_type": "display_data"
    },
    {
     "data": {
      "text/plain": [
       "['5', 'Meg Lanning', 'AUS', '723']"
      ]
     },
     "metadata": {},
     "output_type": "display_data"
    },
    {
     "data": {
      "text/plain": [
       "['6', 'Amy Satterthwaite', 'NZ', '715']"
      ]
     },
     "metadata": {},
     "output_type": "display_data"
    },
    {
     "data": {
      "text/plain": [
       "['7', 'Smriti Mandhana', 'IND', '710']"
      ]
     },
     "metadata": {},
     "output_type": "display_data"
    },
    {
     "data": {
      "text/plain": [
       "['8', 'Mithali Raj', 'IND', '709']"
      ]
     },
     "metadata": {},
     "output_type": "display_data"
    },
    {
     "data": {
      "text/plain": [
       "['9This player has moved up in the rankings since the previous rankings update',\n",
       " 'Natalie Sciver',\n",
       " 'ENG',\n",
       " '685']"
      ]
     },
     "metadata": {},
     "output_type": "display_data"
    }
   ],
   "source": [
    "for row in rows[1:-1]:\n",
    "    cells = row.find_all([\"td\"])\n",
    "    cells_text = [cell.get_text(strip=True) for cell in cells]\n",
    "    \n",
    "    display(cells_text)"
   ]
  },
  {
   "cell_type": "markdown",
   "metadata": {},
   "source": [
    "# 8. Program 8 - Weather Forecast Report"
   ]
  },
  {
   "cell_type": "code",
   "execution_count": 86,
   "metadata": {},
   "outputs": [
    {
     "data": {
      "text/plain": [
       "<Response [200]>"
      ]
     },
     "execution_count": 86,
     "metadata": {},
     "output_type": "execute_result"
    }
   ],
   "source": [
    "page = requests.get('https://forecast.weather.gov/MapClick.php?lat=37.777120000000025&lon=-122.41963999999996#.YJedFWYzY1I')\n",
    "page"
   ]
  },
  {
   "cell_type": "code",
   "execution_count": 87,
   "metadata": {},
   "outputs": [],
   "source": [
    "soup=BeautifulSoup(page.content)\n"
   ]
  },
  {
   "cell_type": "code",
   "execution_count": 88,
   "metadata": {},
   "outputs": [
    {
     "data": {
      "text/plain": [
       "'Today'"
      ]
     },
     "execution_count": 88,
     "metadata": {},
     "output_type": "execute_result"
    }
   ],
   "source": [
    "first_day=soup.find('p',class_=\"period-name\")\n",
    "first_day.text"
   ]
  },
  {
   "cell_type": "code",
   "execution_count": 89,
   "metadata": {},
   "outputs": [
    {
     "data": {
      "text/plain": [
       "'Sunny'"
      ]
     },
     "execution_count": 89,
     "metadata": {},
     "output_type": "execute_result"
    }
   ],
   "source": [
    "first_des=soup.find('p',class_=\"short-desc\")\n",
    "first_des.text"
   ]
  },
  {
   "cell_type": "code",
   "execution_count": 90,
   "metadata": {},
   "outputs": [
    {
     "data": {
      "text/plain": [
       "'Low: 52 °F'"
      ]
     },
     "execution_count": 90,
     "metadata": {},
     "output_type": "execute_result"
    }
   ],
   "source": [
    "first_temp=soup.find('p',class_=\"temp temp-low\")\n",
    "first_temp.text"
   ]
  },
  {
   "cell_type": "code",
   "execution_count": 91,
   "metadata": {},
   "outputs": [
    {
     "data": {
      "text/plain": [
       "'Sunny, with a high near 71. West wind 7 to 15 mph, with gusts as high as 20 mph. '"
      ]
     },
     "execution_count": 91,
     "metadata": {},
     "output_type": "execute_result"
    }
   ],
   "source": [
    "first_det=soup.find('div',class_=\"col-sm-10 forecast-text\")\n",
    "first_det.text"
   ]
  },
  {
   "cell_type": "code",
   "execution_count": 92,
   "metadata": {},
   "outputs": [
    {
     "name": "stdout",
     "output_type": "stream",
     "text": [
      "Today\n",
      "Tonight\n",
      "Monday\n",
      "MondayNight\n",
      "Tuesday\n",
      "TuesdayNight\n",
      "Wednesday\n",
      "WednesdayNight\n",
      "Thursday\n"
     ]
    }
   ],
   "source": [
    "day = soup.find_all('p',class_=\"period-name\")\n",
    "  \n",
    "for item in day:\n",
    "  print(item.text.strip())"
   ]
  },
  {
   "cell_type": "code",
   "execution_count": 93,
   "metadata": {},
   "outputs": [
    {
     "name": "stdout",
     "output_type": "stream",
     "text": [
      "Sunny\n",
      "Clear\n",
      "Sunny\n",
      "Mostly Clear\n",
      "Sunny\n",
      "Mostly Clear\n",
      "Sunny\n",
      "Partly Cloudy\n",
      "Mostly Sunny\n"
     ]
    }
   ],
   "source": [
    "desc = soup.find_all('p',class_=\"short-desc\")\n",
    "  \n",
    "for item in desc:\n",
    "  print(item.text.strip())"
   ]
  },
  {
   "cell_type": "code",
   "execution_count": 94,
   "metadata": {},
   "outputs": [
    {
     "name": "stdout",
     "output_type": "stream",
     "text": [
      "\n",
      "Today\n",
      "SunnyHigh: 71 °F\n",
      "\n",
      "Tonight\n",
      "ClearLow: 52 °F\n",
      "\n",
      "Monday\n",
      "SunnyHigh: 77 °F\n",
      "\n",
      "MondayNight\n",
      "Mostly ClearLow: 52 °F\n",
      "\n",
      "Tuesday\n",
      "SunnyHigh: 75 °F\n",
      "\n",
      "TuesdayNight\n",
      "Mostly ClearLow: 51 °F\n",
      "\n",
      "Wednesday\n",
      "SunnyHigh: 69 °F\n",
      "\n",
      "WednesdayNight\n",
      "Partly CloudyLow: 51 °F\n",
      "\n",
      "Thursday\n",
      "Mostly SunnyHigh: 67 °F\n"
     ]
    }
   ],
   "source": [
    "temp = soup.find_all('div',class_=\"tombstone-container\")\n",
    "  \n",
    "for item in temp:\n",
    "  print(item.text)\n"
   ]
  },
  {
   "cell_type": "code",
   "execution_count": 95,
   "metadata": {},
   "outputs": [
    {
     "name": "stdout",
     "output_type": "stream",
     "text": [
      "Sunny, with a high near 71. West wind 7 to 15 mph, with gusts as high as 20 mph. \n",
      "Clear, with a low around 52. West wind 6 to 14 mph, with gusts as high as 18 mph. \n",
      "Sunny, with a high near 77. Light west northwest wind becoming west 10 to 15 mph in the afternoon. Winds could gust as high as 20 mph. \n",
      "Mostly clear, with a low around 52. West wind 5 to 14 mph. \n",
      "Sunny, with a high near 75. Light west northwest wind becoming west 10 to 15 mph in the afternoon. Winds could gust as high as 20 mph. \n",
      "Mostly clear, with a low around 51.\n",
      "Sunny, with a high near 69.\n",
      "Partly cloudy, with a low around 51.\n",
      "Mostly sunny, with a high near 67.\n",
      "Partly cloudy, with a low around 51.\n",
      "Mostly sunny, with a high near 65.\n",
      "Partly cloudy, with a low around 51.\n",
      "Mostly sunny, with a high near 65.\n"
     ]
    }
   ],
   "source": [
    "detail_desc = soup.find_all('div',class_=\"col-sm-10 forecast-text\")\n",
    "  \n",
    "for item in detail_desc:\n",
    "  print(item.text)\n"
   ]
  },
  {
   "cell_type": "code",
   "execution_count": 96,
   "metadata": {},
   "outputs": [],
   "source": [
    "data = list(zip(day,desc,detail_desc))\n",
    "df = pd.DataFrame (data,columns=['day','desc','detail_desc'])"
   ]
  },
  {
   "cell_type": "code",
   "execution_count": 97,
   "metadata": {},
   "outputs": [
    {
     "data": {
      "text/html": [
       "<div>\n",
       "<style scoped>\n",
       "    .dataframe tbody tr th:only-of-type {\n",
       "        vertical-align: middle;\n",
       "    }\n",
       "\n",
       "    .dataframe tbody tr th {\n",
       "        vertical-align: top;\n",
       "    }\n",
       "\n",
       "    .dataframe thead th {\n",
       "        text-align: right;\n",
       "    }\n",
       "</style>\n",
       "<table border=\"1\" class=\"dataframe\">\n",
       "  <thead>\n",
       "    <tr style=\"text-align: right;\">\n",
       "      <th></th>\n",
       "      <th>day</th>\n",
       "      <th>desc</th>\n",
       "      <th>detail_desc</th>\n",
       "    </tr>\n",
       "  </thead>\n",
       "  <tbody>\n",
       "    <tr>\n",
       "      <th>0</th>\n",
       "      <td>[Today, [], []]</td>\n",
       "      <td>[Sunny]</td>\n",
       "      <td>[Sunny, with a high near 71. West wind 7 to 15...</td>\n",
       "    </tr>\n",
       "    <tr>\n",
       "      <th>1</th>\n",
       "      <td>[Tonight, [], []]</td>\n",
       "      <td>[Clear]</td>\n",
       "      <td>[Clear, with a low around 52. West wind 6 to 1...</td>\n",
       "    </tr>\n",
       "    <tr>\n",
       "      <th>2</th>\n",
       "      <td>[Monday, [], []]</td>\n",
       "      <td>[Sunny]</td>\n",
       "      <td>[Sunny, with a high near 77. Light west northw...</td>\n",
       "    </tr>\n",
       "    <tr>\n",
       "      <th>3</th>\n",
       "      <td>[Monday, [], Night]</td>\n",
       "      <td>[Mostly Clear]</td>\n",
       "      <td>[Mostly clear, with a low around 52. West wind...</td>\n",
       "    </tr>\n",
       "    <tr>\n",
       "      <th>4</th>\n",
       "      <td>[Tuesday, [], []]</td>\n",
       "      <td>[Sunny]</td>\n",
       "      <td>[Sunny, with a high near 75. Light west northw...</td>\n",
       "    </tr>\n",
       "    <tr>\n",
       "      <th>5</th>\n",
       "      <td>[Tuesday, [], Night]</td>\n",
       "      <td>[Mostly Clear]</td>\n",
       "      <td>[Mostly clear, with a low around 51.]</td>\n",
       "    </tr>\n",
       "    <tr>\n",
       "      <th>6</th>\n",
       "      <td>[Wednesday, [], []]</td>\n",
       "      <td>[Sunny]</td>\n",
       "      <td>[Sunny, with a high near 69.]</td>\n",
       "    </tr>\n",
       "    <tr>\n",
       "      <th>7</th>\n",
       "      <td>[Wednesday, [], Night]</td>\n",
       "      <td>[Partly Cloudy]</td>\n",
       "      <td>[Partly cloudy, with a low around 51.]</td>\n",
       "    </tr>\n",
       "    <tr>\n",
       "      <th>8</th>\n",
       "      <td>[Thursday, [], []]</td>\n",
       "      <td>[Mostly Sunny]</td>\n",
       "      <td>[Mostly sunny, with a high near 67.]</td>\n",
       "    </tr>\n",
       "  </tbody>\n",
       "</table>\n",
       "</div>"
      ],
      "text/plain": [
       "                      day             desc  \\\n",
       "0         [Today, [], []]          [Sunny]   \n",
       "1       [Tonight, [], []]          [Clear]   \n",
       "2        [Monday, [], []]          [Sunny]   \n",
       "3     [Monday, [], Night]   [Mostly Clear]   \n",
       "4       [Tuesday, [], []]          [Sunny]   \n",
       "5    [Tuesday, [], Night]   [Mostly Clear]   \n",
       "6     [Wednesday, [], []]          [Sunny]   \n",
       "7  [Wednesday, [], Night]  [Partly Cloudy]   \n",
       "8      [Thursday, [], []]   [Mostly Sunny]   \n",
       "\n",
       "                                         detail_desc  \n",
       "0  [Sunny, with a high near 71. West wind 7 to 15...  \n",
       "1  [Clear, with a low around 52. West wind 6 to 1...  \n",
       "2  [Sunny, with a high near 77. Light west northw...  \n",
       "3  [Mostly clear, with a low around 52. West wind...  \n",
       "4  [Sunny, with a high near 75. Light west northw...  \n",
       "5              [Mostly clear, with a low around 51.]  \n",
       "6                      [Sunny, with a high near 69.]  \n",
       "7             [Partly cloudy, with a low around 51.]  \n",
       "8               [Mostly sunny, with a high near 67.]  "
      ]
     },
     "execution_count": 97,
     "metadata": {},
     "output_type": "execute_result"
    }
   ],
   "source": [
    "df.head(10)"
   ]
  },
  {
   "cell_type": "code",
   "execution_count": null,
   "metadata": {},
   "outputs": [],
   "source": []
  }
 ],
 "metadata": {
  "kernelspec": {
   "display_name": "Python 3",
   "language": "python",
   "name": "python3"
  },
  "language_info": {
   "codemirror_mode": {
    "name": "ipython",
    "version": 3
   },
   "file_extension": ".py",
   "mimetype": "text/x-python",
   "name": "python",
   "nbconvert_exporter": "python",
   "pygments_lexer": "ipython3",
   "version": "3.8.5"
  }
 },
 "nbformat": 4,
 "nbformat_minor": 4
}
