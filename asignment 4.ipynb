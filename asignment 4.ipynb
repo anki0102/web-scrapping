{
 "cells": [
  {
   "cell_type": "markdown",
   "metadata": {},
   "source": [
    "# Program - 1"
   ]
  },
  {
   "cell_type": "code",
   "execution_count": 2,
   "metadata": {},
   "outputs": [],
   "source": [
    "import selenium\n",
    "from selenium import webdriver"
   ]
  },
  {
   "cell_type": "code",
   "execution_count": 2,
   "metadata": {},
   "outputs": [],
   "source": [
    "#First we will connect to webdriver\n",
    "driver=webdriver.Chrome(r'/Users/ankitraj1/chromedriver')"
   ]
  },
  {
   "cell_type": "code",
   "execution_count": 3,
   "metadata": {},
   "outputs": [],
   "source": [
    "#Open the webpage with webdriver\n",
    "driver.get('https://en.wikipedia.org/wiki/List_of_most-viewed_YouTube_videos')"
   ]
  },
  {
   "cell_type": "markdown",
   "metadata": {},
   "source": [
    "Creating empty list to store scrapped data"
   ]
  },
  {
   "cell_type": "code",
   "execution_count": 4,
   "metadata": {},
   "outputs": [],
   "source": [
    "RANK=[]\n",
    "VNAME=[]\n",
    "UPL=[]\n",
    "VIEW=[]\n",
    "DATE=[]"
   ]
  },
  {
   "cell_type": "markdown",
   "metadata": {},
   "source": [
    "Scrapping data in text format and appending it in coresponding list"
   ]
  },
  {
   "cell_type": "code",
   "execution_count": 5,
   "metadata": {},
   "outputs": [],
   "source": [
    "rank=driver.find_elements_by_xpath(\"//div[@class='mw-parser-output']/table[3]/tbody/tr/td[1]\")\n",
    "for i in rank:\n",
    "    RANK.append(i.text.replace('.',''))\n",
    "vname=driver.find_elements_by_xpath(\"//div[@class='mw-parser-output']/table[3]/tbody/tr/td[2]\")\n",
    "for i in vname:\n",
    "    VNAME.append(i.text)\n",
    "upl=driver.find_elements_by_xpath(\"//div[@class='mw-parser-output']/table[3]/tbody/tr/td[3]\")\n",
    "for i in upl:\n",
    "    UPL.append(i.text)\n",
    "view=driver.find_elements_by_xpath(\"//div[@class='mw-parser-output']/table[3]/tbody/tr/td[4]\")\n",
    "for i in view:\n",
    "    VIEW.append(i.text)\n",
    "date=driver.find_elements_by_xpath(\"//div[@class='mw-parser-output']/table[3]/tbody/tr/td[5]\")\n",
    "for i in date:\n",
    "    DATE.append(i.text)"
   ]
  },
  {
   "cell_type": "code",
   "execution_count": 6,
   "metadata": {},
   "outputs": [
    {
     "name": "stdout",
     "output_type": "stream",
     "text": [
      "30 30 30 30 30\n"
     ]
    }
   ],
   "source": [
    "print(len(RANK),len(VNAME),len(UPL),len(VIEW),len(DATE))"
   ]
  },
  {
   "cell_type": "markdown",
   "metadata": {},
   "source": [
    "\n",
    "Now, we will copy the data from the list to Data Frame"
   ]
  },
  {
   "cell_type": "code",
   "execution_count": 7,
   "metadata": {},
   "outputs": [],
   "source": [
    "import pandas as pd\n",
    "video=pd.DataFrame()"
   ]
  },
  {
   "cell_type": "code",
   "execution_count": 8,
   "metadata": {},
   "outputs": [],
   "source": [
    "video['RANK']=RANK[:]\n",
    "video['Video_Name']=VNAME[:]\n",
    "video['Uploader']=UPL[:]\n",
    "video['Views(Billions)']=VIEW[:]\n",
    "video['Upload_Date']=DATE[:]"
   ]
  },
  {
   "cell_type": "code",
   "execution_count": 9,
   "metadata": {},
   "outputs": [
    {
     "data": {
      "text/html": [
       "<div>\n",
       "<style scoped>\n",
       "    .dataframe tbody tr th:only-of-type {\n",
       "        vertical-align: middle;\n",
       "    }\n",
       "\n",
       "    .dataframe tbody tr th {\n",
       "        vertical-align: top;\n",
       "    }\n",
       "\n",
       "    .dataframe thead th {\n",
       "        text-align: right;\n",
       "    }\n",
       "</style>\n",
       "<table border=\"1\" class=\"dataframe\">\n",
       "  <thead>\n",
       "    <tr style=\"text-align: right;\">\n",
       "      <th></th>\n",
       "      <th>RANK</th>\n",
       "      <th>Video_Name</th>\n",
       "      <th>Uploader</th>\n",
       "      <th>Views(Billions)</th>\n",
       "      <th>Upload_Date</th>\n",
       "    </tr>\n",
       "  </thead>\n",
       "  <tbody>\n",
       "    <tr>\n",
       "      <th>0</th>\n",
       "      <td>1</td>\n",
       "      <td>\"Baby Shark Dance\"[22]</td>\n",
       "      <td>Pinkfong Kids' Songs &amp; Stories</td>\n",
       "      <td>8.71</td>\n",
       "      <td>June 17, 2016</td>\n",
       "    </tr>\n",
       "    <tr>\n",
       "      <th>1</th>\n",
       "      <td>2</td>\n",
       "      <td>\"Despacito\"[24]</td>\n",
       "      <td>Luis Fonsi</td>\n",
       "      <td>7.38</td>\n",
       "      <td>January 12, 2017</td>\n",
       "    </tr>\n",
       "    <tr>\n",
       "      <th>2</th>\n",
       "      <td>3</td>\n",
       "      <td>\"Johny Johny Yes Papa\"[25]</td>\n",
       "      <td>LooLoo Kids</td>\n",
       "      <td>5.41</td>\n",
       "      <td>October 8, 2016</td>\n",
       "    </tr>\n",
       "    <tr>\n",
       "      <th>3</th>\n",
       "      <td>4</td>\n",
       "      <td>\"Shape of You\"[26]</td>\n",
       "      <td>Ed Sheeran</td>\n",
       "      <td>5.34</td>\n",
       "      <td>January 30, 2017</td>\n",
       "    </tr>\n",
       "    <tr>\n",
       "      <th>4</th>\n",
       "      <td>5</td>\n",
       "      <td>\"See You Again\"[27]</td>\n",
       "      <td>Wiz Khalifa</td>\n",
       "      <td>5.13</td>\n",
       "      <td>April 6, 2015</td>\n",
       "    </tr>\n",
       "    <tr>\n",
       "      <th>5</th>\n",
       "      <td>6</td>\n",
       "      <td>\"Masha and the Bear – Recipe for Disaster\"[30]</td>\n",
       "      <td>Get Movies</td>\n",
       "      <td>4.44</td>\n",
       "      <td>January 31, 2012</td>\n",
       "    </tr>\n",
       "    <tr>\n",
       "      <th>6</th>\n",
       "      <td>7</td>\n",
       "      <td>\"Uptown Funk\"[31]</td>\n",
       "      <td>Mark Ronson</td>\n",
       "      <td>4.19</td>\n",
       "      <td>November 19, 2014</td>\n",
       "    </tr>\n",
       "    <tr>\n",
       "      <th>7</th>\n",
       "      <td>8</td>\n",
       "      <td>\"Learning Colors – Colorful Eggs on a Farm\"[32]</td>\n",
       "      <td>Miroshka TV</td>\n",
       "      <td>4.12</td>\n",
       "      <td>February 27, 2018</td>\n",
       "    </tr>\n",
       "    <tr>\n",
       "      <th>8</th>\n",
       "      <td>9</td>\n",
       "      <td>\"Bath Song\"[33]</td>\n",
       "      <td>Cocomelon – Nursery Rhymes</td>\n",
       "      <td>4.10</td>\n",
       "      <td>May 2, 2018</td>\n",
       "    </tr>\n",
       "    <tr>\n",
       "      <th>9</th>\n",
       "      <td>10</td>\n",
       "      <td>\"Gangnam Style\"[34]</td>\n",
       "      <td>Psy</td>\n",
       "      <td>4.08</td>\n",
       "      <td>July 15, 2012</td>\n",
       "    </tr>\n",
       "    <tr>\n",
       "      <th>10</th>\n",
       "      <td>11</td>\n",
       "      <td>\"Phonics Song with Two Words\"[36]</td>\n",
       "      <td>ChuChu TV</td>\n",
       "      <td>3.90</td>\n",
       "      <td>March 6, 2014</td>\n",
       "    </tr>\n",
       "    <tr>\n",
       "      <th>11</th>\n",
       "      <td>12</td>\n",
       "      <td>\"Sugar\"[37]</td>\n",
       "      <td>Maroon 5</td>\n",
       "      <td>3.48</td>\n",
       "      <td>January 14, 2015</td>\n",
       "    </tr>\n",
       "    <tr>\n",
       "      <th>12</th>\n",
       "      <td>13</td>\n",
       "      <td>\"Sorry\"[38]</td>\n",
       "      <td>Justin Bieber</td>\n",
       "      <td>3.44</td>\n",
       "      <td>October 22, 2015</td>\n",
       "    </tr>\n",
       "    <tr>\n",
       "      <th>13</th>\n",
       "      <td>14</td>\n",
       "      <td>\"Dame Tu Cosita\"[39]</td>\n",
       "      <td>El Chombo</td>\n",
       "      <td>3.37</td>\n",
       "      <td>April 5, 2018</td>\n",
       "    </tr>\n",
       "    <tr>\n",
       "      <th>14</th>\n",
       "      <td>15</td>\n",
       "      <td>\"Roar\"[40]</td>\n",
       "      <td>Katy Perry</td>\n",
       "      <td>3.36</td>\n",
       "      <td>September 5, 2013</td>\n",
       "    </tr>\n",
       "    <tr>\n",
       "      <th>15</th>\n",
       "      <td>16</td>\n",
       "      <td>\"Counting Stars\"[41]</td>\n",
       "      <td>OneRepublic</td>\n",
       "      <td>3.31</td>\n",
       "      <td>May 31, 2013</td>\n",
       "    </tr>\n",
       "    <tr>\n",
       "      <th>16</th>\n",
       "      <td>17</td>\n",
       "      <td>\"Thinking Out Loud\"[42]</td>\n",
       "      <td>Ed Sheeran</td>\n",
       "      <td>3.26</td>\n",
       "      <td>October 7, 2014</td>\n",
       "    </tr>\n",
       "    <tr>\n",
       "      <th>17</th>\n",
       "      <td>18</td>\n",
       "      <td>\"Dark Horse\"[43]</td>\n",
       "      <td>Katy Perry</td>\n",
       "      <td>3.08</td>\n",
       "      <td>February 20, 2014</td>\n",
       "    </tr>\n",
       "    <tr>\n",
       "      <th>18</th>\n",
       "      <td>19</td>\n",
       "      <td>\"Faded\"[44]</td>\n",
       "      <td>Alan Walker</td>\n",
       "      <td>3.07</td>\n",
       "      <td>December 3, 2015</td>\n",
       "    </tr>\n",
       "    <tr>\n",
       "      <th>19</th>\n",
       "      <td>20</td>\n",
       "      <td>\"Shake It Off\"[45]</td>\n",
       "      <td>Taylor Swift</td>\n",
       "      <td>3.06</td>\n",
       "      <td>August 18, 2014</td>\n",
       "    </tr>\n",
       "    <tr>\n",
       "      <th>20</th>\n",
       "      <td>21</td>\n",
       "      <td>\"Wheels on the Bus\"[46]</td>\n",
       "      <td>Cocomelon – Nursery Rhymes</td>\n",
       "      <td>3.05</td>\n",
       "      <td>May 24, 2018</td>\n",
       "    </tr>\n",
       "    <tr>\n",
       "      <th>21</th>\n",
       "      <td>22</td>\n",
       "      <td>\"Lean On\"[47]</td>\n",
       "      <td>Major Lazer</td>\n",
       "      <td>3.04</td>\n",
       "      <td>March 22, 2015</td>\n",
       "    </tr>\n",
       "    <tr>\n",
       "      <th>22</th>\n",
       "      <td>23</td>\n",
       "      <td>\"Bailando\"[48]</td>\n",
       "      <td>Enrique Iglesias</td>\n",
       "      <td>3.04</td>\n",
       "      <td>April 11, 2014</td>\n",
       "    </tr>\n",
       "    <tr>\n",
       "      <th>23</th>\n",
       "      <td>24</td>\n",
       "      <td>\"Girls Like You\"[49]</td>\n",
       "      <td>Maroon 5</td>\n",
       "      <td>3.04</td>\n",
       "      <td>May 31, 2018</td>\n",
       "    </tr>\n",
       "    <tr>\n",
       "      <th>24</th>\n",
       "      <td>25</td>\n",
       "      <td>\"Let Her Go\"[50]</td>\n",
       "      <td>Passenger</td>\n",
       "      <td>3.00</td>\n",
       "      <td>July 25, 2012</td>\n",
       "    </tr>\n",
       "    <tr>\n",
       "      <th>25</th>\n",
       "      <td>26</td>\n",
       "      <td>\"Mi Gente\"[51]</td>\n",
       "      <td>J Balvin</td>\n",
       "      <td>2.92</td>\n",
       "      <td>June 29, 2017</td>\n",
       "    </tr>\n",
       "    <tr>\n",
       "      <th>26</th>\n",
       "      <td>27</td>\n",
       "      <td>\"Perfect\"[52]</td>\n",
       "      <td>Ed Sheeran</td>\n",
       "      <td>2.86</td>\n",
       "      <td>November 9, 2017</td>\n",
       "    </tr>\n",
       "    <tr>\n",
       "      <th>27</th>\n",
       "      <td>28</td>\n",
       "      <td>\"Hello\"[53]</td>\n",
       "      <td>Adele</td>\n",
       "      <td>2.84</td>\n",
       "      <td>October 22, 2015</td>\n",
       "    </tr>\n",
       "    <tr>\n",
       "      <th>28</th>\n",
       "      <td>29</td>\n",
       "      <td>\"Waka Waka (This Time for Africa)\"[54]</td>\n",
       "      <td>Shakira</td>\n",
       "      <td>2.84</td>\n",
       "      <td>June 4, 2010</td>\n",
       "    </tr>\n",
       "    <tr>\n",
       "      <th>29</th>\n",
       "      <td>30</td>\n",
       "      <td>\"Axel F\"[55]</td>\n",
       "      <td>Crazy Frog</td>\n",
       "      <td>2.82</td>\n",
       "      <td>June 16, 2009</td>\n",
       "    </tr>\n",
       "  </tbody>\n",
       "</table>\n",
       "</div>"
      ],
      "text/plain": [
       "   RANK                                       Video_Name  \\\n",
       "0     1                           \"Baby Shark Dance\"[22]   \n",
       "1     2                                  \"Despacito\"[24]   \n",
       "2     3                       \"Johny Johny Yes Papa\"[25]   \n",
       "3     4                               \"Shape of You\"[26]   \n",
       "4     5                              \"See You Again\"[27]   \n",
       "5     6   \"Masha and the Bear – Recipe for Disaster\"[30]   \n",
       "6     7                                \"Uptown Funk\"[31]   \n",
       "7     8  \"Learning Colors – Colorful Eggs on a Farm\"[32]   \n",
       "8     9                                  \"Bath Song\"[33]   \n",
       "9    10                              \"Gangnam Style\"[34]   \n",
       "10   11                \"Phonics Song with Two Words\"[36]   \n",
       "11   12                                      \"Sugar\"[37]   \n",
       "12   13                                      \"Sorry\"[38]   \n",
       "13   14                             \"Dame Tu Cosita\"[39]   \n",
       "14   15                                       \"Roar\"[40]   \n",
       "15   16                             \"Counting Stars\"[41]   \n",
       "16   17                          \"Thinking Out Loud\"[42]   \n",
       "17   18                                 \"Dark Horse\"[43]   \n",
       "18   19                                      \"Faded\"[44]   \n",
       "19   20                               \"Shake It Off\"[45]   \n",
       "20   21                          \"Wheels on the Bus\"[46]   \n",
       "21   22                                    \"Lean On\"[47]   \n",
       "22   23                                   \"Bailando\"[48]   \n",
       "23   24                             \"Girls Like You\"[49]   \n",
       "24   25                                 \"Let Her Go\"[50]   \n",
       "25   26                                   \"Mi Gente\"[51]   \n",
       "26   27                                    \"Perfect\"[52]   \n",
       "27   28                                      \"Hello\"[53]   \n",
       "28   29           \"Waka Waka (This Time for Africa)\"[54]   \n",
       "29   30                                     \"Axel F\"[55]   \n",
       "\n",
       "                          Uploader Views(Billions)        Upload_Date  \n",
       "0   Pinkfong Kids' Songs & Stories            8.71      June 17, 2016  \n",
       "1                       Luis Fonsi            7.38   January 12, 2017  \n",
       "2                      LooLoo Kids            5.41    October 8, 2016  \n",
       "3                       Ed Sheeran            5.34   January 30, 2017  \n",
       "4                      Wiz Khalifa            5.13      April 6, 2015  \n",
       "5                       Get Movies            4.44   January 31, 2012  \n",
       "6                      Mark Ronson            4.19  November 19, 2014  \n",
       "7                      Miroshka TV            4.12  February 27, 2018  \n",
       "8       Cocomelon – Nursery Rhymes            4.10        May 2, 2018  \n",
       "9                              Psy            4.08      July 15, 2012  \n",
       "10                       ChuChu TV            3.90      March 6, 2014  \n",
       "11                        Maroon 5            3.48   January 14, 2015  \n",
       "12                   Justin Bieber            3.44   October 22, 2015  \n",
       "13                       El Chombo            3.37      April 5, 2018  \n",
       "14                      Katy Perry            3.36  September 5, 2013  \n",
       "15                     OneRepublic            3.31       May 31, 2013  \n",
       "16                      Ed Sheeran            3.26    October 7, 2014  \n",
       "17                      Katy Perry            3.08  February 20, 2014  \n",
       "18                     Alan Walker            3.07   December 3, 2015  \n",
       "19                    Taylor Swift            3.06    August 18, 2014  \n",
       "20      Cocomelon – Nursery Rhymes            3.05       May 24, 2018  \n",
       "21                     Major Lazer            3.04     March 22, 2015  \n",
       "22                Enrique Iglesias            3.04     April 11, 2014  \n",
       "23                        Maroon 5            3.04       May 31, 2018  \n",
       "24                       Passenger            3.00      July 25, 2012  \n",
       "25                        J Balvin            2.92      June 29, 2017  \n",
       "26                      Ed Sheeran            2.86   November 9, 2017  \n",
       "27                           Adele            2.84   October 22, 2015  \n",
       "28                         Shakira            2.84       June 4, 2010  \n",
       "29                      Crazy Frog            2.82      June 16, 2009  "
      ]
     },
     "execution_count": 9,
     "metadata": {},
     "output_type": "execute_result"
    }
   ],
   "source": [
    "video"
   ]
  },
  {
   "cell_type": "markdown",
   "metadata": {},
   "source": [
    "# Program - 2"
   ]
  },
  {
   "cell_type": "markdown",
   "metadata": {},
   "source": [
    "Q2)Scrape the details team India’s international fixtures from bcci.tv. Url = https://www.bcci.tv/. You need to find following details: A) Match title (I.e. 1st ODI) B) Series C) Place D) Date E) Time Note: - From bcci.tv home page you have reach to the international fixture page through code."
   ]
  },
  {
   "cell_type": "code",
   "execution_count": 10,
   "metadata": {},
   "outputs": [],
   "source": [
    "#First we will connect to webdriver\n",
    "driver=webdriver.Chrome(r'/Users/ankitraj1/chromedriver')"
   ]
  },
  {
   "cell_type": "code",
   "execution_count": 11,
   "metadata": {},
   "outputs": [],
   "source": [
    "#Open the webpage with webdriver\n",
    "driver.get('https://www.bcci.tv/.')"
   ]
  },
  {
   "cell_type": "code",
   "execution_count": 12,
   "metadata": {},
   "outputs": [],
   "source": [
    "from selenium.common.exceptions import ElementNotInteractableException"
   ]
  },
  {
   "cell_type": "code",
   "execution_count": 13,
   "metadata": {},
   "outputs": [],
   "source": [
    "try:\n",
    "    click1=driver.find_element_by_xpath(\"//ul[@class='navigation__list showMoreEnabled']/li[1]/div[2]/div/ul/li[1]/a\")\n",
    "    click1.click()\n",
    "except ElementNotInteractableException:\n",
    "    click2=click1.get_attribute('href')\n",
    "    driver.get(click2)"
   ]
  },
  {
   "cell_type": "markdown",
   "metadata": {},
   "source": [
    "Creating empty list to store scrapped data.\n",
    "\n"
   ]
  },
  {
   "cell_type": "code",
   "execution_count": 14,
   "metadata": {},
   "outputs": [],
   "source": [
    "TITLE=[]\n",
    "SERIES=[]\n",
    "PLACE=[]\n",
    "DATE=[]\n",
    "MONTH=[]\n",
    "TIME=[]"
   ]
  },
  {
   "cell_type": "markdown",
   "metadata": {},
   "source": [
    "Scrapping data in text format and appending it in coresponding list."
   ]
  },
  {
   "cell_type": "code",
   "execution_count": 15,
   "metadata": {},
   "outputs": [],
   "source": [
    "title=driver.find_elements_by_xpath(\"//strong[@class='fixture__name fixture__name--with-margin']\")\n",
    "for i in title:\n",
    "    TITLE.append(i.text)\n",
    "series=driver.find_elements_by_xpath(\"//span[@class='u-unskewed-text fixture__tournament-label u-truncated']\")\n",
    "for i in series:\n",
    "    SERIES.append(i.text)\n",
    "place=driver.find_elements_by_xpath(\"//p[@class='fixture__additional-info']/span\")\n",
    "for i in place:\n",
    "    PLACE.append(i.text)\n",
    "date=driver.find_elements_by_xpath(\"//span[@class='fixture__date']\")\n",
    "for i in date:\n",
    "    DATE.append(i.text)\n",
    "month=driver.find_elements_by_xpath(\"//span[@class='fixture__month']\")\n",
    "for i in month:\n",
    "    MONTH.append(i.text)\n",
    "time=driver.find_elements_by_xpath(\"//span[@class='fixture__time']\")\n",
    "for i in time:\n",
    "    TIME.append(i.text)"
   ]
  },
  {
   "cell_type": "markdown",
   "metadata": {},
   "source": [
    "We will crete a new List 'DATE2' and store date from 'DATE' & 'MO"
   ]
  },
  {
   "cell_type": "code",
   "execution_count": 16,
   "metadata": {},
   "outputs": [],
   "source": [
    "DATE2=[]\n",
    "for (i,j) in zip(DATE,MONTH):\n",
    "    DATE2.append(i+'-'+j)"
   ]
  },
  {
   "cell_type": "code",
   "execution_count": 17,
   "metadata": {},
   "outputs": [
    {
     "name": "stdout",
     "output_type": "stream",
     "text": [
      "6 6 6 6 6\n"
     ]
    }
   ],
   "source": [
    "print(len(TITLE),len(SERIES),len(PLACE),len(DATE2),len(TIME))"
   ]
  },
  {
   "cell_type": "markdown",
   "metadata": {},
   "source": [
    "All the lists have same length"
   ]
  },
  {
   "cell_type": "code",
   "execution_count": 19,
   "metadata": {},
   "outputs": [],
   "source": [
    "import pandas as pd\n",
    "icc=pd.DataFrame()"
   ]
  },
  {
   "cell_type": "code",
   "execution_count": 20,
   "metadata": {},
   "outputs": [],
   "source": [
    "icc['Match_title']=TITLE[:]\n",
    "icc['Series']=SERIES[:]\n",
    "icc['Place']=PLACE[:]\n",
    "icc['Date']=DATE2[:]\n",
    "icc['Time']=TIME[:]"
   ]
  },
  {
   "cell_type": "code",
   "execution_count": 21,
   "metadata": {},
   "outputs": [
    {
     "data": {
      "text/html": [
       "<div>\n",
       "<style scoped>\n",
       "    .dataframe tbody tr th:only-of-type {\n",
       "        vertical-align: middle;\n",
       "    }\n",
       "\n",
       "    .dataframe tbody tr th {\n",
       "        vertical-align: top;\n",
       "    }\n",
       "\n",
       "    .dataframe thead th {\n",
       "        text-align: right;\n",
       "    }\n",
       "</style>\n",
       "<table border=\"1\" class=\"dataframe\">\n",
       "  <thead>\n",
       "    <tr style=\"text-align: right;\">\n",
       "      <th></th>\n",
       "      <th>Match_title</th>\n",
       "      <th>Series</th>\n",
       "      <th>Place</th>\n",
       "      <th>Date</th>\n",
       "      <th>Time</th>\n",
       "    </tr>\n",
       "  </thead>\n",
       "  <tbody>\n",
       "    <tr>\n",
       "      <th>0</th>\n",
       "      <td>Final</td>\n",
       "      <td>ICC WORLD TEST CHAMPIONSHIP</td>\n",
       "      <td>The Ageas Bowl, Southampton</td>\n",
       "      <td>18-JUNE</td>\n",
       "      <td>15:00 IST</td>\n",
       "    </tr>\n",
       "    <tr>\n",
       "      <th>1</th>\n",
       "      <td>1st Test</td>\n",
       "      <td>ENGLAND V INDIA 2021</td>\n",
       "      <td>Trent Bridge, Nottingham</td>\n",
       "      <td>04-AUGUST</td>\n",
       "      <td>15:30 IST</td>\n",
       "    </tr>\n",
       "    <tr>\n",
       "      <th>2</th>\n",
       "      <td>2nd Test</td>\n",
       "      <td>ENGLAND V INDIA 2021</td>\n",
       "      <td>Lord's, London</td>\n",
       "      <td>12-AUGUST</td>\n",
       "      <td>15:30 IST</td>\n",
       "    </tr>\n",
       "    <tr>\n",
       "      <th>3</th>\n",
       "      <td>3rd Test</td>\n",
       "      <td>ENGLAND V INDIA 2021</td>\n",
       "      <td>Headingley, Leeds</td>\n",
       "      <td>25-AUGUST</td>\n",
       "      <td>15:30 IST</td>\n",
       "    </tr>\n",
       "    <tr>\n",
       "      <th>4</th>\n",
       "      <td>4th Test</td>\n",
       "      <td>ENGLAND V INDIA 2021</td>\n",
       "      <td>The Oval, London</td>\n",
       "      <td>02-SEPTEMBER</td>\n",
       "      <td>15:30 IST</td>\n",
       "    </tr>\n",
       "    <tr>\n",
       "      <th>5</th>\n",
       "      <td>5th Test</td>\n",
       "      <td>ENGLAND V INDIA 2021</td>\n",
       "      <td>Old Trafford, Manchester</td>\n",
       "      <td>10-SEPTEMBER</td>\n",
       "      <td>15:30 IST</td>\n",
       "    </tr>\n",
       "  </tbody>\n",
       "</table>\n",
       "</div>"
      ],
      "text/plain": [
       "  Match_title                       Series                        Place  \\\n",
       "0       Final  ICC WORLD TEST CHAMPIONSHIP  The Ageas Bowl, Southampton   \n",
       "1    1st Test         ENGLAND V INDIA 2021     Trent Bridge, Nottingham   \n",
       "2    2nd Test         ENGLAND V INDIA 2021               Lord's, London   \n",
       "3    3rd Test         ENGLAND V INDIA 2021            Headingley, Leeds   \n",
       "4    4th Test         ENGLAND V INDIA 2021             The Oval, London   \n",
       "5    5th Test         ENGLAND V INDIA 2021     Old Trafford, Manchester   \n",
       "\n",
       "           Date       Time  \n",
       "0       18-JUNE  15:00 IST  \n",
       "1     04-AUGUST  15:30 IST  \n",
       "2     12-AUGUST  15:30 IST  \n",
       "3     25-AUGUST  15:30 IST  \n",
       "4  02-SEPTEMBER  15:30 IST  \n",
       "5  10-SEPTEMBER  15:30 IST  "
      ]
     },
     "execution_count": 21,
     "metadata": {},
     "output_type": "execute_result"
    }
   ],
   "source": [
    "icc"
   ]
  },
  {
   "cell_type": "markdown",
   "metadata": {},
   "source": [
    "# Program - 3 "
   ]
  },
  {
   "cell_type": "markdown",
   "metadata": {},
   "source": [
    "Q3)Scrape the details of selenium exception from guru99.com. Url = https://www.guru99.com/ You need to find following details: A) Name B) Description Note: - From guru99 home page you have to reach to selenium exception handling page through code."
   ]
  },
  {
   "cell_type": "code",
   "execution_count": 22,
   "metadata": {},
   "outputs": [],
   "source": [
    "#First we will connect to webdriver\n",
    "driver=webdriver.Chrome(r'/Users/ankitraj1/chromedriver')\n"
   ]
  },
  {
   "cell_type": "code",
   "execution_count": 23,
   "metadata": {},
   "outputs": [],
   "source": [
    "#Open the webpage with webdriver\n",
    "driver.get(' https://www.guru99.com/')"
   ]
  },
  {
   "cell_type": "code",
   "execution_count": 24,
   "metadata": {},
   "outputs": [],
   "source": [
    "#Clicking on 'SELENIUM' option\n",
    "click1=driver.find_element_by_xpath(\"//div[@class='g-container']/div[1]/div/div/div/div/div/div[2]/div[2]/div/div\").click()"
   ]
  },
  {
   "cell_type": "code",
   "execution_count": 25,
   "metadata": {},
   "outputs": [],
   "source": [
    "#Then clicking on 'Selenium Exception Handling (Common Exceptions List)' option.\n",
    "click2=driver.find_element_by_xpath(\"//div[@class='item-page']/div[2]/table[5]/tbody/tr[34]/td[1]/a\").click()"
   ]
  },
  {
   "cell_type": "markdown",
   "metadata": {},
   "source": [
    "Creating Lists to store scrapped data.\n",
    "\n"
   ]
  },
  {
   "cell_type": "code",
   "execution_count": 26,
   "metadata": {},
   "outputs": [],
   "source": [
    "EXP=[]\n",
    "DES=[]"
   ]
  },
  {
   "cell_type": "markdown",
   "metadata": {},
   "source": [
    "Scrapping data in text format and appending it in coresponding list."
   ]
  },
  {
   "cell_type": "code",
   "execution_count": 28,
   "metadata": {},
   "outputs": [],
   "source": [
    "exp=driver.find_elements_by_xpath(\"//table[@class='table table-striped']/tbody/tr/td[1]\")\n",
    "for i in exp:\n",
    "    EXP.append(i.text)\n",
    "des=driver.find_elements_by_xpath(\"//table[@class='table table-striped']/tbody/tr/td[2]\")\n",
    "for i in des:\n",
    "    DES.append(i.text)"
   ]
  },
  {
   "cell_type": "code",
   "execution_count": 29,
   "metadata": {},
   "outputs": [
    {
     "name": "stdout",
     "output_type": "stream",
     "text": [
      "42 42\n"
     ]
    }
   ],
   "source": [
    "print(len(exp),len(des))"
   ]
  },
  {
   "cell_type": "code",
   "execution_count": null,
   "metadata": {},
   "outputs": [],
   "source": [
    "# We copy all the data from list to Data Frame"
   ]
  },
  {
   "cell_type": "code",
   "execution_count": 30,
   "metadata": {},
   "outputs": [],
   "source": [
    " import pandas as pd\n",
    "exp=pd.DataFrame()"
   ]
  },
  {
   "cell_type": "code",
   "execution_count": 31,
   "metadata": {},
   "outputs": [],
   "source": [
    "exp['Exception_Name']=EXP[1:]\n",
    "exp['Description']=DES[1:]"
   ]
  },
  {
   "cell_type": "code",
   "execution_count": 32,
   "metadata": {},
   "outputs": [
    {
     "data": {
      "text/html": [
       "<div>\n",
       "<style scoped>\n",
       "    .dataframe tbody tr th:only-of-type {\n",
       "        vertical-align: middle;\n",
       "    }\n",
       "\n",
       "    .dataframe tbody tr th {\n",
       "        vertical-align: top;\n",
       "    }\n",
       "\n",
       "    .dataframe thead th {\n",
       "        text-align: right;\n",
       "    }\n",
       "</style>\n",
       "<table border=\"1\" class=\"dataframe\">\n",
       "  <thead>\n",
       "    <tr style=\"text-align: right;\">\n",
       "      <th></th>\n",
       "      <th>Exception_Name</th>\n",
       "      <th>Description</th>\n",
       "    </tr>\n",
       "  </thead>\n",
       "  <tbody>\n",
       "    <tr>\n",
       "      <th>0</th>\n",
       "      <td>ElementNotVisibleException</td>\n",
       "      <td>This type of Selenium exception occurs when an...</td>\n",
       "    </tr>\n",
       "    <tr>\n",
       "      <th>1</th>\n",
       "      <td>ElementNotSelectableException</td>\n",
       "      <td>This Selenium exception occurs when an element...</td>\n",
       "    </tr>\n",
       "    <tr>\n",
       "      <th>2</th>\n",
       "      <td>NoSuchElementException</td>\n",
       "      <td>This Exception occurs if an element could not ...</td>\n",
       "    </tr>\n",
       "    <tr>\n",
       "      <th>3</th>\n",
       "      <td>NoSuchFrameException</td>\n",
       "      <td>This Exception occurs if the frame target to b...</td>\n",
       "    </tr>\n",
       "    <tr>\n",
       "      <th>4</th>\n",
       "      <td>NoAlertPresentException</td>\n",
       "      <td>This Exception occurs when you switch to no pr...</td>\n",
       "    </tr>\n",
       "    <tr>\n",
       "      <th>5</th>\n",
       "      <td>NoSuchWindowException</td>\n",
       "      <td>This Exception occurs if the window target to ...</td>\n",
       "    </tr>\n",
       "    <tr>\n",
       "      <th>6</th>\n",
       "      <td>StaleElementReferenceException</td>\n",
       "      <td>This Selenium exception occurs happens when th...</td>\n",
       "    </tr>\n",
       "    <tr>\n",
       "      <th>7</th>\n",
       "      <td>SessionNotFoundException</td>\n",
       "      <td>The WebDriver is acting after you quit the bro...</td>\n",
       "    </tr>\n",
       "    <tr>\n",
       "      <th>8</th>\n",
       "      <td>TimeoutException</td>\n",
       "      <td>Thrown when there is not enough time for a com...</td>\n",
       "    </tr>\n",
       "    <tr>\n",
       "      <th>9</th>\n",
       "      <td>WebDriverException</td>\n",
       "      <td>This Exception takes place when the WebDriver ...</td>\n",
       "    </tr>\n",
       "    <tr>\n",
       "      <th>10</th>\n",
       "      <td>ConnectionClosedException</td>\n",
       "      <td>This type of Exception takes place when there ...</td>\n",
       "    </tr>\n",
       "    <tr>\n",
       "      <th>11</th>\n",
       "      <td>ElementClickInterceptedException</td>\n",
       "      <td>The command may not be completed as the elemen...</td>\n",
       "    </tr>\n",
       "    <tr>\n",
       "      <th>12</th>\n",
       "      <td>ElementNotInteractableException</td>\n",
       "      <td>This Selenium exception is thrown when any ele...</td>\n",
       "    </tr>\n",
       "    <tr>\n",
       "      <th>13</th>\n",
       "      <td>ErrorInResponseException</td>\n",
       "      <td>This happens while interacting with the Firefo...</td>\n",
       "    </tr>\n",
       "    <tr>\n",
       "      <th>14</th>\n",
       "      <td>ErrorHandler.UnknownServerException</td>\n",
       "      <td>Exception is used as a placeholder in case if ...</td>\n",
       "    </tr>\n",
       "    <tr>\n",
       "      <th>15</th>\n",
       "      <td>ImeActivationFailedException</td>\n",
       "      <td>This expectation will occur when IME engine ac...</td>\n",
       "    </tr>\n",
       "    <tr>\n",
       "      <th>16</th>\n",
       "      <td>ImeNotAvailableException</td>\n",
       "      <td>It takes place when IME support is unavailable.</td>\n",
       "    </tr>\n",
       "    <tr>\n",
       "      <th>17</th>\n",
       "      <td>InsecureCertificateException</td>\n",
       "      <td>Navigation made the user agent to hit a certif...</td>\n",
       "    </tr>\n",
       "    <tr>\n",
       "      <th>18</th>\n",
       "      <td>InvalidArgumentException</td>\n",
       "      <td>It occurs when an argument does not belong to ...</td>\n",
       "    </tr>\n",
       "    <tr>\n",
       "      <th>19</th>\n",
       "      <td>InvalidCookieDomainException</td>\n",
       "      <td>This happens when you try to add a cookie unde...</td>\n",
       "    </tr>\n",
       "    <tr>\n",
       "      <th>20</th>\n",
       "      <td>InvalidCoordinatesException</td>\n",
       "      <td>This type of Exception matches an interacting ...</td>\n",
       "    </tr>\n",
       "    <tr>\n",
       "      <th>21</th>\n",
       "      <td>InvalidElementStateExceptio</td>\n",
       "      <td>It occurs when command can't be finished when ...</td>\n",
       "    </tr>\n",
       "    <tr>\n",
       "      <th>22</th>\n",
       "      <td>InvalidSessionIdException</td>\n",
       "      <td>This Exception took place when the given sessi...</td>\n",
       "    </tr>\n",
       "    <tr>\n",
       "      <th>23</th>\n",
       "      <td>InvalidSwitchToTargetException</td>\n",
       "      <td>This occurs when the frame or window target to...</td>\n",
       "    </tr>\n",
       "    <tr>\n",
       "      <th>24</th>\n",
       "      <td>JavascriptException</td>\n",
       "      <td>This issue occurs while executing JavaScript g...</td>\n",
       "    </tr>\n",
       "    <tr>\n",
       "      <th>25</th>\n",
       "      <td>JsonException</td>\n",
       "      <td>It occurs when you afford to get the session w...</td>\n",
       "    </tr>\n",
       "    <tr>\n",
       "      <th>26</th>\n",
       "      <td>NoSuchAttributeException</td>\n",
       "      <td>This kind of Exception occurs when the attribu...</td>\n",
       "    </tr>\n",
       "    <tr>\n",
       "      <th>27</th>\n",
       "      <td>MoveTargetOutOfBoundsException</td>\n",
       "      <td>It takes place if the target provided to the A...</td>\n",
       "    </tr>\n",
       "    <tr>\n",
       "      <th>28</th>\n",
       "      <td>NoSuchContextException</td>\n",
       "      <td>ContextAware does mobile device testing.</td>\n",
       "    </tr>\n",
       "    <tr>\n",
       "      <th>29</th>\n",
       "      <td>NoSuchCookieException</td>\n",
       "      <td>This Exception occurs when no cookie matching ...</td>\n",
       "    </tr>\n",
       "    <tr>\n",
       "      <th>30</th>\n",
       "      <td>NotFoundException</td>\n",
       "      <td>This Exception is a subclass of WebDriverExcep...</td>\n",
       "    </tr>\n",
       "    <tr>\n",
       "      <th>31</th>\n",
       "      <td>RemoteDriverServerException</td>\n",
       "      <td>This Selenium exception is thrown when the ser...</td>\n",
       "    </tr>\n",
       "    <tr>\n",
       "      <th>32</th>\n",
       "      <td>ScreenshotException</td>\n",
       "      <td>It is not possible to capture a screen.</td>\n",
       "    </tr>\n",
       "    <tr>\n",
       "      <th>33</th>\n",
       "      <td>SessionNotCreatedException</td>\n",
       "      <td>It happens when a new session could not be suc...</td>\n",
       "    </tr>\n",
       "    <tr>\n",
       "      <th>34</th>\n",
       "      <td>UnableToSetCookieException</td>\n",
       "      <td>This occurs if a driver is unable to set a coo...</td>\n",
       "    </tr>\n",
       "    <tr>\n",
       "      <th>35</th>\n",
       "      <td>UnexpectedTagNameException</td>\n",
       "      <td>Happens if a support class did not get a web e...</td>\n",
       "    </tr>\n",
       "    <tr>\n",
       "      <th>36</th>\n",
       "      <td>UnhandledAlertException</td>\n",
       "      <td>This expectation occurs when there is an alert...</td>\n",
       "    </tr>\n",
       "    <tr>\n",
       "      <th>37</th>\n",
       "      <td>UnexpectedAlertPresentException</td>\n",
       "      <td>It occurs when there is the appearance of an u...</td>\n",
       "    </tr>\n",
       "    <tr>\n",
       "      <th>38</th>\n",
       "      <td>UnknownMethodException</td>\n",
       "      <td>This Exception happens when the requested comm...</td>\n",
       "    </tr>\n",
       "    <tr>\n",
       "      <th>39</th>\n",
       "      <td>UnreachableBrowserException</td>\n",
       "      <td>This Exception occurs only when the browser is...</td>\n",
       "    </tr>\n",
       "    <tr>\n",
       "      <th>40</th>\n",
       "      <td>UnsupportedCommandException</td>\n",
       "      <td>This occurs when remote WebDriver does n't sen...</td>\n",
       "    </tr>\n",
       "  </tbody>\n",
       "</table>\n",
       "</div>"
      ],
      "text/plain": [
       "                         Exception_Name  \\\n",
       "0            ElementNotVisibleException   \n",
       "1         ElementNotSelectableException   \n",
       "2                NoSuchElementException   \n",
       "3                  NoSuchFrameException   \n",
       "4               NoAlertPresentException   \n",
       "5                 NoSuchWindowException   \n",
       "6        StaleElementReferenceException   \n",
       "7              SessionNotFoundException   \n",
       "8                      TimeoutException   \n",
       "9                    WebDriverException   \n",
       "10            ConnectionClosedException   \n",
       "11     ElementClickInterceptedException   \n",
       "12      ElementNotInteractableException   \n",
       "13             ErrorInResponseException   \n",
       "14  ErrorHandler.UnknownServerException   \n",
       "15         ImeActivationFailedException   \n",
       "16             ImeNotAvailableException   \n",
       "17         InsecureCertificateException   \n",
       "18             InvalidArgumentException   \n",
       "19         InvalidCookieDomainException   \n",
       "20          InvalidCoordinatesException   \n",
       "21          InvalidElementStateExceptio   \n",
       "22            InvalidSessionIdException   \n",
       "23       InvalidSwitchToTargetException   \n",
       "24                  JavascriptException   \n",
       "25                        JsonException   \n",
       "26             NoSuchAttributeException   \n",
       "27       MoveTargetOutOfBoundsException   \n",
       "28               NoSuchContextException   \n",
       "29                NoSuchCookieException   \n",
       "30                    NotFoundException   \n",
       "31          RemoteDriverServerException   \n",
       "32                  ScreenshotException   \n",
       "33           SessionNotCreatedException   \n",
       "34           UnableToSetCookieException   \n",
       "35           UnexpectedTagNameException   \n",
       "36              UnhandledAlertException   \n",
       "37      UnexpectedAlertPresentException   \n",
       "38               UnknownMethodException   \n",
       "39          UnreachableBrowserException   \n",
       "40          UnsupportedCommandException   \n",
       "\n",
       "                                          Description  \n",
       "0   This type of Selenium exception occurs when an...  \n",
       "1   This Selenium exception occurs when an element...  \n",
       "2   This Exception occurs if an element could not ...  \n",
       "3   This Exception occurs if the frame target to b...  \n",
       "4   This Exception occurs when you switch to no pr...  \n",
       "5   This Exception occurs if the window target to ...  \n",
       "6   This Selenium exception occurs happens when th...  \n",
       "7   The WebDriver is acting after you quit the bro...  \n",
       "8   Thrown when there is not enough time for a com...  \n",
       "9   This Exception takes place when the WebDriver ...  \n",
       "10  This type of Exception takes place when there ...  \n",
       "11  The command may not be completed as the elemen...  \n",
       "12  This Selenium exception is thrown when any ele...  \n",
       "13  This happens while interacting with the Firefo...  \n",
       "14  Exception is used as a placeholder in case if ...  \n",
       "15  This expectation will occur when IME engine ac...  \n",
       "16    It takes place when IME support is unavailable.  \n",
       "17  Navigation made the user agent to hit a certif...  \n",
       "18  It occurs when an argument does not belong to ...  \n",
       "19  This happens when you try to add a cookie unde...  \n",
       "20  This type of Exception matches an interacting ...  \n",
       "21  It occurs when command can't be finished when ...  \n",
       "22  This Exception took place when the given sessi...  \n",
       "23  This occurs when the frame or window target to...  \n",
       "24  This issue occurs while executing JavaScript g...  \n",
       "25  It occurs when you afford to get the session w...  \n",
       "26  This kind of Exception occurs when the attribu...  \n",
       "27  It takes place if the target provided to the A...  \n",
       "28           ContextAware does mobile device testing.  \n",
       "29  This Exception occurs when no cookie matching ...  \n",
       "30  This Exception is a subclass of WebDriverExcep...  \n",
       "31  This Selenium exception is thrown when the ser...  \n",
       "32            It is not possible to capture a screen.  \n",
       "33  It happens when a new session could not be suc...  \n",
       "34  This occurs if a driver is unable to set a coo...  \n",
       "35  Happens if a support class did not get a web e...  \n",
       "36  This expectation occurs when there is an alert...  \n",
       "37  It occurs when there is the appearance of an u...  \n",
       "38  This Exception happens when the requested comm...  \n",
       "39  This Exception occurs only when the browser is...  \n",
       "40  This occurs when remote WebDriver does n't sen...  "
      ]
     },
     "execution_count": 32,
     "metadata": {},
     "output_type": "execute_result"
    }
   ],
   "source": [
    "exp"
   ]
  },
  {
   "cell_type": "markdown",
   "metadata": {},
   "source": [
    "# Program - 4"
   ]
  },
  {
   "cell_type": "markdown",
   "metadata": {},
   "source": [
    "Q4Scrape the details of State-wise GDP of India from statisticstime.com. Url = http://statisticstimes.com/ You have to find following details: A) Rank B) State C) GSDP(18-19) D) GSDP(17-18) E) Share(2017) F) GDP($ billion) Note: - From statisticstimes home page you have to reach to economy page through code.\n",
    "\n"
   ]
  },
  {
   "cell_type": "code",
   "execution_count": 33,
   "metadata": {},
   "outputs": [],
   "source": [
    "#Open the webpage with webdriver\n",
    "driver.get(' http://statisticstimes.com/')"
   ]
  },
  {
   "cell_type": "code",
   "execution_count": 34,
   "metadata": {},
   "outputs": [],
   "source": [
    "from selenium.common.exceptions import ElementNotInteractableException,NoSuchElementException"
   ]
  },
  {
   "cell_type": "markdown",
   "metadata": {},
   "source": [
    "Since Element is not interable, we will scrape href from the source and then apply click function on it"
   ]
  },
  {
   "cell_type": "code",
   "execution_count": 35,
   "metadata": {},
   "outputs": [
    {
     "name": "stdout",
     "output_type": "stream",
     "text": [
      "Exception raised: Message: element not interactable\n",
      "  (Session info: chrome=91.0.4472.77)\n",
      "\n"
     ]
    }
   ],
   "source": [
    "try:\n",
    "    click1=driver.find_element_by_xpath(\"//div[@class='navbar']/div[2]/div[1]/a[3]\")\n",
    "    click1.click()\n",
    "except ElementNotInteractableException as e:\n",
    "    print('Exception raised:',e)\n",
    "    click2=click1.get_attribute('href')\n",
    "    driver.get(click2)"
   ]
  },
  {
   "cell_type": "code",
   "execution_count": 36,
   "metadata": {},
   "outputs": [
    {
     "name": "stdout",
     "output_type": "stream",
     "text": [
      "Exception raised: Message: no such element: Unable to locate element: {\"method\":\"xpath\",\"selector\":\"//a[@href='http://statisticstimes.com/economy/india/indian-states-gdp.php']\"}\n",
      "  (Session info: chrome=91.0.4472.77)\n",
      "\n"
     ]
    }
   ],
   "source": [
    "try:\n",
    "    click3=driver.find_element_by_xpath(\"//a[@href='http://statisticstimes.com/economy/india/indian-states-gdp.php']\").click()\n",
    "except NoSuchElementException as e:\n",
    "    print('Exception raised:',e)"
   ]
  },
  {
   "cell_type": "markdown",
   "metadata": {},
   "source": [
    "Since we are not able to located the element, we willscrape all the 'href' and store it in 'CLICK' list."
   ]
  },
  {
   "cell_type": "code",
   "execution_count": 37,
   "metadata": {},
   "outputs": [],
   "source": [
    "CLICK=[]\n",
    "click4=driver.find_elements_by_xpath(\"//a[@class='ec']\")\n",
    "for i in click4:\n",
    "    CLICK.append(i.get_attribute('href'))"
   ]
  },
  {
   "cell_type": "markdown",
   "metadata": {},
   "source": [
    "Now we get the thirteenth href from the 'CLICK' list"
   ]
  },
  {
   "cell_type": "code",
   "execution_count": 39,
   "metadata": {},
   "outputs": [],
   "source": [
    "driver.get(CLICK[13])"
   ]
  },
  {
   "cell_type": "markdown",
   "metadata": {},
   "source": [
    "Creating empty lists to store scrapped data"
   ]
  },
  {
   "cell_type": "code",
   "execution_count": 40,
   "metadata": {},
   "outputs": [],
   "source": [
    "RANK=[]\n",
    "STATE=[]\n",
    "G1920=[]\n",
    "G1819=[]\n",
    "SHARE=[]\n",
    "GDP=[]"
   ]
  },
  {
   "cell_type": "markdown",
   "metadata": {},
   "source": [
    "Scrapping data in text format and appending it in coresponding list."
   ]
  },
  {
   "cell_type": "code",
   "execution_count": 41,
   "metadata": {},
   "outputs": [],
   "source": [
    "rank=driver.find_elements_by_xpath(\"//table[@class='display dataTable']/tbody/tr/td[1]\")\n",
    "for i in rank:\n",
    "    RANK.append(i.text)\n",
    "state=driver.find_elements_by_xpath(\"//table[@class='display dataTable']/tbody/tr/td[2]\")\n",
    "for i in state:\n",
    "    STATE.append(i.text)\n",
    "g1=driver.find_elements_by_xpath(\"//table[@class='display dataTable']/tbody/tr/td[3]\")\n",
    "for i in g1:\n",
    "    G1920.append(i.text)\n",
    "g2=driver.find_elements_by_xpath(\"//table[@class='display dataTable']/tbody/tr/td[4]\")\n",
    "for i in g2:\n",
    "    G1819.append(i.text)\n",
    "share=driver.find_elements_by_xpath(\"//table[@class='display dataTable']/tbody/tr/td[5]\")\n",
    "for i in share:\n",
    "    SHARE.append(i.text)\n",
    "gdp=driver.find_elements_by_xpath(\"//table[@class='display dataTable']/tbody/tr/td[6]\")\n",
    "for i in gdp:\n",
    "    GDP.append(i.text)"
   ]
  },
  {
   "cell_type": "code",
   "execution_count": 42,
   "metadata": {},
   "outputs": [
    {
     "name": "stdout",
     "output_type": "stream",
     "text": [
      "66 66 66 66 66 66\n"
     ]
    }
   ],
   "source": [
    "print(len(RANK),len(STATE),len(G1920),len(G1819),len(SHARE),len(GDP))\n"
   ]
  },
  {
   "cell_type": "code",
   "execution_count": 43,
   "metadata": {},
   "outputs": [],
   "source": [
    "import pandas as pd\n",
    "stat=pd.DataFrame()"
   ]
  },
  {
   "cell_type": "code",
   "execution_count": 44,
   "metadata": {},
   "outputs": [],
   "source": [
    "stat['RANK']=RANK[:]\n",
    "stat['STATE']=STATE[:]\n",
    "stat['GSDP_19-20']=G1920[:]\n",
    "stat['GSDP_18-19']=G1819[:]\n",
    "stat['SHARE']=SHARE[:]\n",
    "stat['GDP']=GDP[:]"
   ]
  },
  {
   "cell_type": "code",
   "execution_count": 45,
   "metadata": {},
   "outputs": [
    {
     "data": {
      "text/html": [
       "<div>\n",
       "<style scoped>\n",
       "    .dataframe tbody tr th:only-of-type {\n",
       "        vertical-align: middle;\n",
       "    }\n",
       "\n",
       "    .dataframe tbody tr th {\n",
       "        vertical-align: top;\n",
       "    }\n",
       "\n",
       "    .dataframe thead th {\n",
       "        text-align: right;\n",
       "    }\n",
       "</style>\n",
       "<table border=\"1\" class=\"dataframe\">\n",
       "  <thead>\n",
       "    <tr style=\"text-align: right;\">\n",
       "      <th></th>\n",
       "      <th>RANK</th>\n",
       "      <th>STATE</th>\n",
       "      <th>GSDP_19-20</th>\n",
       "      <th>GSDP_18-19</th>\n",
       "      <th>SHARE</th>\n",
       "      <th>GDP</th>\n",
       "    </tr>\n",
       "  </thead>\n",
       "  <tbody>\n",
       "    <tr>\n",
       "      <th>0</th>\n",
       "      <td>1</td>\n",
       "      <td>Maharashtra</td>\n",
       "      <td>-</td>\n",
       "      <td>2,632,792</td>\n",
       "      <td>13.94%</td>\n",
       "      <td>399.921</td>\n",
       "    </tr>\n",
       "    <tr>\n",
       "      <th>1</th>\n",
       "      <td>2</td>\n",
       "      <td>Tamil Nadu</td>\n",
       "      <td>1,845,853</td>\n",
       "      <td>1,630,208</td>\n",
       "      <td>8.63%</td>\n",
       "      <td>247.629</td>\n",
       "    </tr>\n",
       "    <tr>\n",
       "      <th>2</th>\n",
       "      <td>3</td>\n",
       "      <td>Uttar Pradesh</td>\n",
       "      <td>1,687,818</td>\n",
       "      <td>1,584,764</td>\n",
       "      <td>8.39%</td>\n",
       "      <td>240.726</td>\n",
       "    </tr>\n",
       "    <tr>\n",
       "      <th>3</th>\n",
       "      <td>4</td>\n",
       "      <td>Gujarat</td>\n",
       "      <td>-</td>\n",
       "      <td>1,502,899</td>\n",
       "      <td>7.96%</td>\n",
       "      <td>228.290</td>\n",
       "    </tr>\n",
       "    <tr>\n",
       "      <th>4</th>\n",
       "      <td>5</td>\n",
       "      <td>Karnataka</td>\n",
       "      <td>1,631,977</td>\n",
       "      <td>1,493,127</td>\n",
       "      <td>7.91%</td>\n",
       "      <td>226.806</td>\n",
       "    </tr>\n",
       "    <tr>\n",
       "      <th>...</th>\n",
       "      <td>...</td>\n",
       "      <td>...</td>\n",
       "      <td>...</td>\n",
       "      <td>...</td>\n",
       "      <td>...</td>\n",
       "      <td>...</td>\n",
       "    </tr>\n",
       "    <tr>\n",
       "      <th>61</th>\n",
       "      <td>29</td>\n",
       "      <td>Sikkim</td>\n",
       "      <td>28,391</td>\n",
       "      <td>25,141</td>\n",
       "      <td>0.15%</td>\n",
       "      <td>17,060</td>\n",
       "    </tr>\n",
       "    <tr>\n",
       "      <th>62</th>\n",
       "      <td>30</td>\n",
       "      <td>Nagaland</td>\n",
       "      <td>-</td>\n",
       "      <td>24,534</td>\n",
       "      <td>0.15%</td>\n",
       "      <td>-</td>\n",
       "    </tr>\n",
       "    <tr>\n",
       "      <th>63</th>\n",
       "      <td>31</td>\n",
       "      <td>Arunachal Pradesh</td>\n",
       "      <td>-</td>\n",
       "      <td>22,488</td>\n",
       "      <td>0.13%</td>\n",
       "      <td>-</td>\n",
       "    </tr>\n",
       "    <tr>\n",
       "      <th>64</th>\n",
       "      <td>32</td>\n",
       "      <td>Mizoram</td>\n",
       "      <td>24,424</td>\n",
       "      <td>20,947</td>\n",
       "      <td>0.13%</td>\n",
       "      <td>17,797</td>\n",
       "    </tr>\n",
       "    <tr>\n",
       "      <th>65</th>\n",
       "      <td>33</td>\n",
       "      <td>Andaman &amp; Nicobar Islands</td>\n",
       "      <td>-</td>\n",
       "      <td>-</td>\n",
       "      <td>-</td>\n",
       "      <td>-</td>\n",
       "    </tr>\n",
       "  </tbody>\n",
       "</table>\n",
       "<p>66 rows × 6 columns</p>\n",
       "</div>"
      ],
      "text/plain": [
       "   RANK                      STATE GSDP_19-20 GSDP_18-19   SHARE      GDP\n",
       "0     1                Maharashtra          -  2,632,792  13.94%  399.921\n",
       "1     2                 Tamil Nadu  1,845,853  1,630,208   8.63%  247.629\n",
       "2     3              Uttar Pradesh  1,687,818  1,584,764   8.39%  240.726\n",
       "3     4                    Gujarat          -  1,502,899   7.96%  228.290\n",
       "4     5                  Karnataka  1,631,977  1,493,127   7.91%  226.806\n",
       "..  ...                        ...        ...        ...     ...      ...\n",
       "61   29                     Sikkim     28,391     25,141   0.15%   17,060\n",
       "62   30                   Nagaland          -     24,534   0.15%        -\n",
       "63   31          Arunachal Pradesh          -     22,488   0.13%        -\n",
       "64   32                    Mizoram     24,424     20,947   0.13%   17,797\n",
       "65   33  Andaman & Nicobar Islands          -          -       -        -\n",
       "\n",
       "[66 rows x 6 columns]"
      ]
     },
     "execution_count": 45,
     "metadata": {},
     "output_type": "execute_result"
    }
   ],
   "source": [
    "stat"
   ]
  },
  {
   "cell_type": "markdown",
   "metadata": {},
   "source": [
    "# Program- 5"
   ]
  },
  {
   "cell_type": "markdown",
   "metadata": {},
   "source": [
    "Q5. Scrape the details of trending repositories on Github.com. Url = https://github.com/ You have to find the following details: A) Repository title B) Repository description C) Contributors count D) Language used Note: - From the home page you have to click on the trending option from Explore menu through code."
   ]
  },
  {
   "cell_type": "code",
   "execution_count": 46,
   "metadata": {},
   "outputs": [],
   "source": [
    "#Open the webpage with webdriver\n",
    "driver.get(' https://github.com/ ')"
   ]
  },
  {
   "cell_type": "code",
   "execution_count": 47,
   "metadata": {},
   "outputs": [],
   "source": [
    "from selenium.common.exceptions import ElementNotInteractableException,NoSuchElementException"
   ]
  },
  {
   "cell_type": "code",
   "execution_count": 48,
   "metadata": {},
   "outputs": [
    {
     "name": "stdout",
     "output_type": "stream",
     "text": [
      "Exception raissed: Message: element not interactable\n",
      "  (Session info: chrome=91.0.4472.77)\n",
      "\n"
     ]
    }
   ],
   "source": [
    "#CLicking and getting href element.\n",
    "try:\n",
    "    click1=driver.find_element_by_xpath(\"//div[@class='HeaderMenu HeaderMenu--logged-out position-fixed top-0 right-0 bottom-0 height-fit position-lg-relative d-lg-flex flex-justify-between flex-items-center flex-auto']/nav/ul/li[4]/details/div/ul[2]/li[3]/a\")\n",
    "    click1.click()\n",
    "except ElementNotInteractableException as e:\n",
    "    print('Exception raissed:',e)\n",
    "    click1=driver.find_element_by_xpath(\"//div[@class='HeaderMenu HeaderMenu--logged-out position-fixed top-0 right-0 bottom-0 height-fit position-lg-relative d-lg-flex flex-justify-between flex-items-center flex-auto']/nav/ul/li[4]/details/div/ul[2]/li[3]/a\")\n",
    "    cl=click1.get_attribute('href')\n",
    "    driver.get(cl)"
   ]
  },
  {
   "cell_type": "code",
   "execution_count": 49,
   "metadata": {},
   "outputs": [],
   "source": [
    "RES_T=[]\n",
    "RES_D=[]\n",
    "CON=[]\n",
    "LAN=[]"
   ]
  },
  {
   "cell_type": "markdown",
   "metadata": {},
   "source": [
    "Storing 'Href' of all repository in URL list"
   ]
  },
  {
   "cell_type": "code",
   "execution_count": 50,
   "metadata": {},
   "outputs": [
    {
     "data": {
      "text/plain": [
       "['https://github.com/madMAx43v3r/chia-plotter',\n",
       " 'https://github.com/TuSimple/naive-ui',\n",
       " 'https://github.com/ToolJet/ToolJet']"
      ]
     },
     "execution_count": 50,
     "metadata": {},
     "output_type": "execute_result"
    }
   ],
   "source": [
    "URL=[]\n",
    "urls=driver.find_elements_by_xpath(\"//div[@class=('Box')]/div[2]/article/h1/a\")\n",
    "for url in urls:\n",
    "    URL.append(url.get_attribute('href'))\n",
    "URL[0:3]"
   ]
  },
  {
   "cell_type": "markdown",
   "metadata": {},
   "source": [
    "Scrapping data in text format and appending it in coresponding list."
   ]
  },
  {
   "cell_type": "code",
   "execution_count": 51,
   "metadata": {},
   "outputs": [],
   "source": [
    "for i in URL:\n",
    "    driver.get(i)\n",
    "    try:\n",
    "        rest=driver.find_element_by_xpath(\"//strong[@class=('mr-2 flex-self-stretch')]\")\n",
    "        RES_T.append(rest.text)\n",
    "    except NoSuchElementException:\n",
    "        REST_T.append('--')\n",
    "    try:\n",
    "        resd=driver.find_element_by_xpath(\"//div[@class=('repository-content ')]/div/div[2]/div[2]/div/div[1]/div/p\")\n",
    "        RES_D.append(resd.text)\n",
    "    except NoSuchElementException:\n",
    "        RES_D.append('--')\n",
    "    try:\n",
    "        if driver.find_element_by_xpath(\"//div[@class=('BorderGrid-row')][4]/div/h2/a\").text[0:12] == \"Contributors\":\n",
    "            con=driver.find_element_by_xpath(\"//div[@class=('BorderGrid-row')][4]/div/h2/a/span\")\n",
    "            CON.append(con.text)\n",
    "        elif driver.find_element_by_xpath(\"//div[@class=('BorderGrid-row')][3]/div/h2/a\").text[0:12] == 'Contributors':\n",
    "            con=driver.find_element_by_xpath(\"//div[@class=('BorderGrid-row')][3]/div/h2/a/span\")\n",
    "            CON.append(con.text)\n",
    "        elif driver.find_element_by_xpath(\"//div[@class=('BorderGrid-row')][2]/div/h2/a/\").text[0:12] == \"Contributors\":\n",
    "            con=driver.find_element_by_xpath(\"//div[@class=('BorderGrid-row')][2]/div/h2/a/span\")\n",
    "            CON.append(con.text)\n",
    "        else:    \n",
    "            raise NoSuchElementException\n",
    "    except NoSuchElementException:     \n",
    "        CON.append('--')\n",
    "    try:\n",
    "        lan=driver.find_element_by_xpath(\"//ul[@class=('list-style-none')]/li[1]/a/span\")\n",
    "        LAN.append(lan.text)\n",
    "    except NoSuchElementException:\n",
    "        LAN.append('--')"
   ]
  },
  {
   "cell_type": "code",
   "execution_count": 52,
   "metadata": {},
   "outputs": [
    {
     "name": "stdout",
     "output_type": "stream",
     "text": [
      "25 25 25 25\n"
     ]
    }
   ],
   "source": [
    "print(len(RES_T),len(RES_D),len(CON),len(LAN))\n"
   ]
  },
  {
   "cell_type": "code",
   "execution_count": 53,
   "metadata": {},
   "outputs": [],
   "source": [
    "import pandas as pd\n",
    "git=pd.DataFrame()\n"
   ]
  },
  {
   "cell_type": "code",
   "execution_count": 54,
   "metadata": {},
   "outputs": [],
   "source": [
    "git['Repositories_Name']=RES_T[:]\n",
    "git['Repositories_Description']=RES_D[:]\n",
    "git['Contributors_Count']=CON[:]\n",
    "git['Language_Used']=LAN[:]"
   ]
  },
  {
   "cell_type": "code",
   "execution_count": 55,
   "metadata": {},
   "outputs": [
    {
     "data": {
      "text/html": [
       "<div>\n",
       "<style scoped>\n",
       "    .dataframe tbody tr th:only-of-type {\n",
       "        vertical-align: middle;\n",
       "    }\n",
       "\n",
       "    .dataframe tbody tr th {\n",
       "        vertical-align: top;\n",
       "    }\n",
       "\n",
       "    .dataframe thead th {\n",
       "        text-align: right;\n",
       "    }\n",
       "</style>\n",
       "<table border=\"1\" class=\"dataframe\">\n",
       "  <thead>\n",
       "    <tr style=\"text-align: right;\">\n",
       "      <th></th>\n",
       "      <th>Repositories_Name</th>\n",
       "      <th>Repositories_Description</th>\n",
       "      <th>Contributors_Count</th>\n",
       "      <th>Language_Used</th>\n",
       "    </tr>\n",
       "  </thead>\n",
       "  <tbody>\n",
       "    <tr>\n",
       "      <th>0</th>\n",
       "      <td>chia-plotter</td>\n",
       "      <td>--</td>\n",
       "      <td>--</td>\n",
       "      <td>C</td>\n",
       "    </tr>\n",
       "    <tr>\n",
       "      <th>1</th>\n",
       "      <td>naive-ui</td>\n",
       "      <td>A Vue 3 Component Library. Fairly Complete. Cu...</td>\n",
       "      <td>--</td>\n",
       "      <td>Inu</td>\n",
       "    </tr>\n",
       "    <tr>\n",
       "      <th>2</th>\n",
       "      <td>ToolJet</td>\n",
       "      <td>Opensource internal tool builder. An alternati...</td>\n",
       "      <td>14</td>\n",
       "      <td>JavaScript</td>\n",
       "    </tr>\n",
       "    <tr>\n",
       "      <th>3</th>\n",
       "      <td>slides</td>\n",
       "      <td>Terminal based presentation tool</td>\n",
       "      <td>--</td>\n",
       "      <td>Go</td>\n",
       "    </tr>\n",
       "    <tr>\n",
       "      <th>4</th>\n",
       "      <td>PaddleHub</td>\n",
       "      <td>Awesome pre-trained models toolkit based on Pa...</td>\n",
       "      <td>--</td>\n",
       "      <td>Python</td>\n",
       "    </tr>\n",
       "    <tr>\n",
       "      <th>5</th>\n",
       "      <td>connectedhomeip</td>\n",
       "      <td>Matter (formerly Project CHIP) is creating mor...</td>\n",
       "      <td>--</td>\n",
       "      <td>C++</td>\n",
       "    </tr>\n",
       "    <tr>\n",
       "      <th>6</th>\n",
       "      <td>nodebestpractices</td>\n",
       "      <td>✅ The Node.js best practices list (June 2021)</td>\n",
       "      <td>--</td>\n",
       "      <td>JavaScript</td>\n",
       "    </tr>\n",
       "    <tr>\n",
       "      <th>7</th>\n",
       "      <td>computer-vision-in-action</td>\n",
       "      <td>《计算机视觉实战演练：算法与应用》中文电子书、源码、读者交流社区（更新中，可以先 star）</td>\n",
       "      <td>--</td>\n",
       "      <td>Jupyter Notebook</td>\n",
       "    </tr>\n",
       "    <tr>\n",
       "      <th>8</th>\n",
       "      <td>public-apis</td>\n",
       "      <td>A collective list of free APIs</td>\n",
       "      <td>--</td>\n",
       "      <td>Python</td>\n",
       "    </tr>\n",
       "    <tr>\n",
       "      <th>9</th>\n",
       "      <td>school2021</td>\n",
       "      <td>ESCAPE Summer School 2021</td>\n",
       "      <td>9</td>\n",
       "      <td>Jupyter Notebook</td>\n",
       "    </tr>\n",
       "    <tr>\n",
       "      <th>10</th>\n",
       "      <td>first-contributions</td>\n",
       "      <td>🚀✨ Help beginners to contribute to open source...</td>\n",
       "      <td>5,000+</td>\n",
       "      <td>--</td>\n",
       "    </tr>\n",
       "    <tr>\n",
       "      <th>11</th>\n",
       "      <td>PaddleNLP</td>\n",
       "      <td>An NLP library with Awesome pre-trained Transf...</td>\n",
       "      <td>--</td>\n",
       "      <td>Python</td>\n",
       "    </tr>\n",
       "    <tr>\n",
       "      <th>12</th>\n",
       "      <td>YYeTsBot</td>\n",
       "      <td>🎬 人人影视bot，完全对接人人影视全部无删减资源</td>\n",
       "      <td>--</td>\n",
       "      <td>Python</td>\n",
       "    </tr>\n",
       "    <tr>\n",
       "      <th>13</th>\n",
       "      <td>Map-of-Javascript</td>\n",
       "      <td>Javascript on one sheet. (and one for algorithms)</td>\n",
       "      <td>--</td>\n",
       "      <td>JavaScript</td>\n",
       "    </tr>\n",
       "    <tr>\n",
       "      <th>14</th>\n",
       "      <td>Tkinter-Designer</td>\n",
       "      <td>Create Beautiful Tkinter GUIs by Drag and Drop ☄️</td>\n",
       "      <td>--</td>\n",
       "      <td>Python</td>\n",
       "    </tr>\n",
       "    <tr>\n",
       "      <th>15</th>\n",
       "      <td>fullstack-course4</td>\n",
       "      <td>Example code for HTML, CSS, and Javascript for...</td>\n",
       "      <td>21</td>\n",
       "      <td>JavaScript</td>\n",
       "    </tr>\n",
       "    <tr>\n",
       "      <th>16</th>\n",
       "      <td>notepad-plus-plus</td>\n",
       "      <td>Notepad++ official repository</td>\n",
       "      <td>262</td>\n",
       "      <td>C++</td>\n",
       "    </tr>\n",
       "    <tr>\n",
       "      <th>17</th>\n",
       "      <td>jd_shell</td>\n",
       "      <td>京豆 京东 lxk0301 jd-base loon docker 羊毛 脚本</td>\n",
       "      <td>--</td>\n",
       "      <td>JavaScript</td>\n",
       "    </tr>\n",
       "    <tr>\n",
       "      <th>18</th>\n",
       "      <td>webpacker</td>\n",
       "      <td>Use Webpack to manage app-like JavaScript modu...</td>\n",
       "      <td>423</td>\n",
       "      <td>Ruby</td>\n",
       "    </tr>\n",
       "    <tr>\n",
       "      <th>19</th>\n",
       "      <td>calendso</td>\n",
       "      <td>The open-source Calendly alternative.</td>\n",
       "      <td>--</td>\n",
       "      <td>TypeScript</td>\n",
       "    </tr>\n",
       "    <tr>\n",
       "      <th>20</th>\n",
       "      <td>build-your-own-x</td>\n",
       "      <td>🤓 Build your own (insert technology here)</td>\n",
       "      <td>69</td>\n",
       "      <td>--</td>\n",
       "    </tr>\n",
       "    <tr>\n",
       "      <th>21</th>\n",
       "      <td>vue-next</td>\n",
       "      <td>🖖 Vue.js is a progressive, incrementally-adopt...</td>\n",
       "      <td>--</td>\n",
       "      <td>TypeScript</td>\n",
       "    </tr>\n",
       "    <tr>\n",
       "      <th>22</th>\n",
       "      <td>bypass-paywalls-chrome</td>\n",
       "      <td>Bypass Paywalls web browser extension for Chro...</td>\n",
       "      <td>--</td>\n",
       "      <td>JavaScript</td>\n",
       "    </tr>\n",
       "    <tr>\n",
       "      <th>23</th>\n",
       "      <td>the-art-of-command-line</td>\n",
       "      <td>Master the command line, in one page</td>\n",
       "      <td>162</td>\n",
       "      <td>--</td>\n",
       "    </tr>\n",
       "    <tr>\n",
       "      <th>24</th>\n",
       "      <td>OpenCore-Legacy-Patcher</td>\n",
       "      <td>Experience macOS just like before</td>\n",
       "      <td>--</td>\n",
       "      <td>Python</td>\n",
       "    </tr>\n",
       "  </tbody>\n",
       "</table>\n",
       "</div>"
      ],
      "text/plain": [
       "            Repositories_Name  \\\n",
       "0                chia-plotter   \n",
       "1                    naive-ui   \n",
       "2                     ToolJet   \n",
       "3                      slides   \n",
       "4                   PaddleHub   \n",
       "5             connectedhomeip   \n",
       "6           nodebestpractices   \n",
       "7   computer-vision-in-action   \n",
       "8                 public-apis   \n",
       "9                  school2021   \n",
       "10        first-contributions   \n",
       "11                  PaddleNLP   \n",
       "12                   YYeTsBot   \n",
       "13          Map-of-Javascript   \n",
       "14           Tkinter-Designer   \n",
       "15          fullstack-course4   \n",
       "16          notepad-plus-plus   \n",
       "17                   jd_shell   \n",
       "18                  webpacker   \n",
       "19                   calendso   \n",
       "20           build-your-own-x   \n",
       "21                   vue-next   \n",
       "22     bypass-paywalls-chrome   \n",
       "23    the-art-of-command-line   \n",
       "24    OpenCore-Legacy-Patcher   \n",
       "\n",
       "                             Repositories_Description Contributors_Count  \\\n",
       "0                                                  --                 --   \n",
       "1   A Vue 3 Component Library. Fairly Complete. Cu...                 --   \n",
       "2   Opensource internal tool builder. An alternati...                 14   \n",
       "3                    Terminal based presentation tool                 --   \n",
       "4   Awesome pre-trained models toolkit based on Pa...                 --   \n",
       "5   Matter (formerly Project CHIP) is creating mor...                 --   \n",
       "6       ✅ The Node.js best practices list (June 2021)                 --   \n",
       "7      《计算机视觉实战演练：算法与应用》中文电子书、源码、读者交流社区（更新中，可以先 star）                 --   \n",
       "8                      A collective list of free APIs                 --   \n",
       "9                           ESCAPE Summer School 2021                  9   \n",
       "10  🚀✨ Help beginners to contribute to open source...             5,000+   \n",
       "11  An NLP library with Awesome pre-trained Transf...                 --   \n",
       "12                          🎬 人人影视bot，完全对接人人影视全部无删减资源                 --   \n",
       "13  Javascript on one sheet. (and one for algorithms)                 --   \n",
       "14  Create Beautiful Tkinter GUIs by Drag and Drop ☄️                 --   \n",
       "15  Example code for HTML, CSS, and Javascript for...                 21   \n",
       "16                      Notepad++ official repository                262   \n",
       "17            京豆 京东 lxk0301 jd-base loon docker 羊毛 脚本                 --   \n",
       "18  Use Webpack to manage app-like JavaScript modu...                423   \n",
       "19              The open-source Calendly alternative.                 --   \n",
       "20          🤓 Build your own (insert technology here)                 69   \n",
       "21  🖖 Vue.js is a progressive, incrementally-adopt...                 --   \n",
       "22  Bypass Paywalls web browser extension for Chro...                 --   \n",
       "23               Master the command line, in one page                162   \n",
       "24                  Experience macOS just like before                 --   \n",
       "\n",
       "       Language_Used  \n",
       "0                  C  \n",
       "1                Inu  \n",
       "2         JavaScript  \n",
       "3                 Go  \n",
       "4             Python  \n",
       "5                C++  \n",
       "6         JavaScript  \n",
       "7   Jupyter Notebook  \n",
       "8             Python  \n",
       "9   Jupyter Notebook  \n",
       "10                --  \n",
       "11            Python  \n",
       "12            Python  \n",
       "13        JavaScript  \n",
       "14            Python  \n",
       "15        JavaScript  \n",
       "16               C++  \n",
       "17        JavaScript  \n",
       "18              Ruby  \n",
       "19        TypeScript  \n",
       "20                --  \n",
       "21        TypeScript  \n",
       "22        JavaScript  \n",
       "23                --  \n",
       "24            Python  "
      ]
     },
     "execution_count": 55,
     "metadata": {},
     "output_type": "execute_result"
    }
   ],
   "source": [
    "git"
   ]
  },
  {
   "cell_type": "markdown",
   "metadata": {},
   "source": [
    "# Program-6"
   ]
  },
  {
   "cell_type": "markdown",
   "metadata": {},
   "source": [
    "Scrape the details of top 100 songs on billiboard.com. Url = https://www.billboard.com/ You have to find the following details: A) Song name B) Artist name C) Last week rank D) Peak rank E) Weeks on board Note: - From the home page you have to click on the charts option then hot 100-page link through code.\n"
   ]
  },
  {
   "cell_type": "code",
   "execution_count": 56,
   "metadata": {},
   "outputs": [],
   "source": [
    "#Open the webpage with webdriver\n",
    "driver.get('https://www.billboard.com/')"
   ]
  },
  {
   "cell_type": "code",
   "execution_count": 57,
   "metadata": {},
   "outputs": [],
   "source": [
    "#Clicking throught xptah to 'chart option'\n",
    "click1=driver.find_element_by_xpath(\"//div[@class='header__sticky__child']/header/div/ul/li[1]\")\n",
    "click1.click()"
   ]
  },
  {
   "cell_type": "code",
   "execution_count": 58,
   "metadata": {},
   "outputs": [],
   "source": [
    "#Clicking  through xpath to hot-100page\n",
    "click2=driver.find_element_by_xpath(\"//div[@class='charts-landing first-group']/div[1]/a/div[2]/div[2]/div[1]\")\n",
    "click2.click()\n"
   ]
  },
  {
   "cell_type": "markdown",
   "metadata": {},
   "source": [
    "Creating Lists to store scrapped variable"
   ]
  },
  {
   "cell_type": "code",
   "execution_count": 59,
   "metadata": {},
   "outputs": [],
   "source": [
    "SNAME=[]\n",
    "ANAME=[]\n",
    "LWR=[]\n",
    "PR=[]\n",
    "WOB=[]"
   ]
  },
  {
   "cell_type": "markdown",
   "metadata": {},
   "source": [
    "We will extract the data in text form and store in respective lists\n",
    "\n"
   ]
  },
  {
   "cell_type": "code",
   "execution_count": 60,
   "metadata": {},
   "outputs": [],
   "source": [
    "sname=driver.find_elements_by_xpath(\"//ol[@class='chart-list__elements']/li/button/span[2]/span[1]\")\n",
    "for i in sname:\n",
    "    SNAME.append(i.text)\n",
    "aname=driver.find_elements_by_xpath(\"//ol[@class='chart-list__elements']/li/button/span[2]/span[2]\")\n",
    "for i in aname:\n",
    "    ANAME.append(i.text)\n",
    "lwr=driver.find_elements_by_xpath(\"//div[@class='chart-element__meta text--center color--secondary text--last']\")\n",
    "for i in lwr:\n",
    "    LWR.append(i.text)\n",
    "pr=driver.find_elements_by_xpath(\"//div[@class='chart-element__meta text--center color--secondary text--peak']\")\n",
    "for i in pr:\n",
    "    PR.append(i.text)\n",
    "wob=driver.find_elements_by_xpath(\"//div[@class='chart-element__meta text--center color--secondary text--week']\")\n",
    "for i in wob:\n",
    "    WOB.append(i.text)"
   ]
  },
  {
   "cell_type": "code",
   "execution_count": 61,
   "metadata": {},
   "outputs": [
    {
     "name": "stdout",
     "output_type": "stream",
     "text": [
      "100 100 100 100 100\n"
     ]
    }
   ],
   "source": [
    "print(len(SNAME),len(ANAME),len(LWR),len(PR),len(WOB))"
   ]
  },
  {
   "cell_type": "code",
   "execution_count": 62,
   "metadata": {},
   "outputs": [],
   "source": [
    "import pandas as pd\n",
    "TOP=pd.DataFrame()"
   ]
  },
  {
   "cell_type": "code",
   "execution_count": 63,
   "metadata": {},
   "outputs": [],
   "source": [
    "TOP['Song_Name']=SNAME[:]\n",
    "TOP['Artist_Name']=ANAME[:]\n",
    "TOP['Last_Week_Rank']=LWR[:]\n",
    "TOP['Peak_Rank']=PR[:]\n",
    "TOP['Weeks_on_Board']=WOB[:]\n"
   ]
  },
  {
   "cell_type": "code",
   "execution_count": 64,
   "metadata": {},
   "outputs": [
    {
     "data": {
      "text/html": [
       "<div>\n",
       "<style scoped>\n",
       "    .dataframe tbody tr th:only-of-type {\n",
       "        vertical-align: middle;\n",
       "    }\n",
       "\n",
       "    .dataframe tbody tr th {\n",
       "        vertical-align: top;\n",
       "    }\n",
       "\n",
       "    .dataframe thead th {\n",
       "        text-align: right;\n",
       "    }\n",
       "</style>\n",
       "<table border=\"1\" class=\"dataframe\">\n",
       "  <thead>\n",
       "    <tr style=\"text-align: right;\">\n",
       "      <th></th>\n",
       "      <th>Song_Name</th>\n",
       "      <th>Artist_Name</th>\n",
       "      <th>Last_Week_Rank</th>\n",
       "      <th>Peak_Rank</th>\n",
       "      <th>Weeks_on_Board</th>\n",
       "    </tr>\n",
       "  </thead>\n",
       "  <tbody>\n",
       "    <tr>\n",
       "      <th>0</th>\n",
       "      <td>Butter</td>\n",
       "      <td>BTS</td>\n",
       "      <td>1</td>\n",
       "      <td>1</td>\n",
       "      <td>2</td>\n",
       "    </tr>\n",
       "    <tr>\n",
       "      <th>1</th>\n",
       "      <td>Good 4 U</td>\n",
       "      <td>Olivia Rodrigo</td>\n",
       "      <td>2</td>\n",
       "      <td>1</td>\n",
       "      <td>3</td>\n",
       "    </tr>\n",
       "    <tr>\n",
       "      <th>2</th>\n",
       "      <td>Levitating</td>\n",
       "      <td>Dua Lipa Featuring DaBaby</td>\n",
       "      <td>4</td>\n",
       "      <td>2</td>\n",
       "      <td>35</td>\n",
       "    </tr>\n",
       "    <tr>\n",
       "      <th>3</th>\n",
       "      <td>Leave The Door Open</td>\n",
       "      <td>Silk Sonic (Bruno Mars &amp; Anderson .Paak)</td>\n",
       "      <td>5</td>\n",
       "      <td>1</td>\n",
       "      <td>13</td>\n",
       "    </tr>\n",
       "    <tr>\n",
       "      <th>4</th>\n",
       "      <td>Save Your Tears</td>\n",
       "      <td>The Weeknd &amp; Ariana Grande</td>\n",
       "      <td>7</td>\n",
       "      <td>1</td>\n",
       "      <td>25</td>\n",
       "    </tr>\n",
       "    <tr>\n",
       "      <th>...</th>\n",
       "      <td>...</td>\n",
       "      <td>...</td>\n",
       "      <td>...</td>\n",
       "      <td>...</td>\n",
       "      <td>...</td>\n",
       "    </tr>\n",
       "    <tr>\n",
       "      <th>95</th>\n",
       "      <td>All I Know So Far</td>\n",
       "      <td>P!nk</td>\n",
       "      <td>87</td>\n",
       "      <td>74</td>\n",
       "      <td>3</td>\n",
       "    </tr>\n",
       "    <tr>\n",
       "      <th>96</th>\n",
       "      <td>Hold On</td>\n",
       "      <td>Justin Bieber</td>\n",
       "      <td>86</td>\n",
       "      <td>20</td>\n",
       "      <td>13</td>\n",
       "    </tr>\n",
       "    <tr>\n",
       "      <th>97</th>\n",
       "      <td>Wasted On You</td>\n",
       "      <td>Morgan Wallen</td>\n",
       "      <td>98</td>\n",
       "      <td>9</td>\n",
       "      <td>19</td>\n",
       "    </tr>\n",
       "    <tr>\n",
       "      <th>98</th>\n",
       "      <td>Outside</td>\n",
       "      <td>MO3 X OG Bobby Billions</td>\n",
       "      <td>-</td>\n",
       "      <td>99</td>\n",
       "      <td>1</td>\n",
       "    </tr>\n",
       "    <tr>\n",
       "      <th>99</th>\n",
       "      <td>Botella Tras Botella</td>\n",
       "      <td>Gera MX + Christian Nodal</td>\n",
       "      <td>-</td>\n",
       "      <td>60</td>\n",
       "      <td>4</td>\n",
       "    </tr>\n",
       "  </tbody>\n",
       "</table>\n",
       "<p>100 rows × 5 columns</p>\n",
       "</div>"
      ],
      "text/plain": [
       "               Song_Name                               Artist_Name  \\\n",
       "0                 Butter                                       BTS   \n",
       "1               Good 4 U                            Olivia Rodrigo   \n",
       "2             Levitating                 Dua Lipa Featuring DaBaby   \n",
       "3    Leave The Door Open  Silk Sonic (Bruno Mars & Anderson .Paak)   \n",
       "4        Save Your Tears                The Weeknd & Ariana Grande   \n",
       "..                   ...                                       ...   \n",
       "95     All I Know So Far                                      P!nk   \n",
       "96               Hold On                             Justin Bieber   \n",
       "97         Wasted On You                             Morgan Wallen   \n",
       "98               Outside                   MO3 X OG Bobby Billions   \n",
       "99  Botella Tras Botella                 Gera MX + Christian Nodal   \n",
       "\n",
       "   Last_Week_Rank Peak_Rank Weeks_on_Board  \n",
       "0               1         1              2  \n",
       "1               2         1              3  \n",
       "2               4         2             35  \n",
       "3               5         1             13  \n",
       "4               7         1             25  \n",
       "..            ...       ...            ...  \n",
       "95             87        74              3  \n",
       "96             86        20             13  \n",
       "97             98         9             19  \n",
       "98              -        99              1  \n",
       "99              -        60              4  \n",
       "\n",
       "[100 rows x 5 columns]"
      ]
     },
     "execution_count": 64,
     "metadata": {},
     "output_type": "execute_result"
    }
   ],
   "source": [
    "TOP"
   ]
  },
  {
   "cell_type": "markdown",
   "metadata": {},
   "source": [
    "# Program - 7"
   ]
  },
  {
   "cell_type": "markdown",
   "metadata": {},
   "source": [
    "Scrape the details of Data science recruiters from naukri.com. Url = https://www.naukri.com/ You have to find the following details: A) Name B) Designation C) Company D) Skills they hire for E) Location Note: - From naukri.com homepage click on the recruiters option and the on the search pane type Data science and click on search. All this should be done through code"
   ]
  },
  {
   "cell_type": "code",
   "execution_count": 75,
   "metadata": {},
   "outputs": [],
   "source": [
    "#First we will connect to webdriver\n",
    "driver=webdriver.Chrome(r'/Users/ankitraj1/chromedriver')"
   ]
  },
  {
   "cell_type": "code",
   "execution_count": 76,
   "metadata": {},
   "outputs": [],
   "source": [
    "#Open the webpage with webdriver\n",
    "driver.get('https://www.naukri.com/')"
   ]
  },
  {
   "cell_type": "code",
   "execution_count": 77,
   "metadata": {},
   "outputs": [],
   "source": [
    "#Getting elemnet for clicking\n",
    "click1=driver.find_element_by_xpath(\"//ul[@class='midSec menu']/li[2]/a\")\n",
    "click1.click()\n"
   ]
  },
  {
   "cell_type": "code",
   "execution_count": 78,
   "metadata": {},
   "outputs": [],
   "source": [
    "#Since by click a new tab is now, we will extract 'href' and then open it with webdriver\n",
    "cl=click1.get_attribute('href')\n",
    "driver.get(cl)"
   ]
  },
  {
   "cell_type": "code",
   "execution_count": 80,
   "metadata": {},
   "outputs": [],
   "source": [
    "from selenium.common.exceptions import ElementNotInteractableException,NoSuchElementException, WebDriverException\n",
    "\n"
   ]
  },
  {
   "cell_type": "code",
   "execution_count": 81,
   "metadata": {},
   "outputs": [],
   "source": [
    "# Trying to get search\n",
    "try:\n",
    "    ch1=driver.find_element_by_xpath(\"/html/body/div[2]/div[2]/div[1]/div[1]/form/div[1]/div/div[1]/div[1]/div[2]/input\")\n",
    "    ch1.send_keys('Data Science')\n",
    "except WebDriverException as e:\n",
    "    print('Raised exception:', e)"
   ]
  },
  {
   "cell_type": "code",
   "execution_count": 82,
   "metadata": {},
   "outputs": [],
   "source": [
    "click2=driver.find_element_by_xpath(\"/html/body/div[2]/div[2]/div[1]/div[1]/form/div[1]/button\").click()"
   ]
  },
  {
   "cell_type": "markdown",
   "metadata": {},
   "source": [
    "Creating URL list and extracting all href of profiles into it"
   ]
  },
  {
   "cell_type": "code",
   "execution_count": 83,
   "metadata": {},
   "outputs": [
    {
     "data": {
      "text/plain": [
       "['https://www.naukri.com/recruiters/aakashharit-1986742?xid=162331437580039400&xp=1',\n",
       " 'https://www.naukri.com/recruiters/shravankumargaddam-353487?xid=162331437580039400&xp=2',\n",
       " 'https://www.naukri.com/recruiters/marsiantech?xid=162331437580039400&xp=3']"
      ]
     },
     "execution_count": 83,
     "metadata": {},
     "output_type": "execute_result"
    }
   ],
   "source": [
    "URL=[]\n",
    "urls=driver.find_elements_by_xpath(\"//div[@class='mainSec']/div/div[2]/div/div[2]/div/div/div[1]/div[1]/p/a[1]\")\n",
    "for url in urls:\n",
    "    URL.append(url.get_attribute('href'))\n",
    "URL[0:3]"
   ]
  },
  {
   "cell_type": "code",
   "execution_count": 84,
   "metadata": {},
   "outputs": [],
   "source": [
    "driver.find_element_by_xpath(\"/html/body/div[3]/div/div[2]/div/div[3]/button\").click()"
   ]
  },
  {
   "cell_type": "code",
   "execution_count": 85,
   "metadata": {},
   "outputs": [],
   "source": [
    "import time"
   ]
  },
  {
   "cell_type": "markdown",
   "metadata": {},
   "source": [
    "We will scrap all profile URL from all the pages"
   ]
  },
  {
   "cell_type": "code",
   "execution_count": null,
   "metadata": {},
   "outputs": [],
   "source": [
    "for j in range(115):\n",
    "    time.sleep(5)\n",
    "    try:\n",
    "        urls=driver.find_elements_by_xpath(\"//div[@class='mainSec']/div/div[2]/div/div[2]/div/div/div[1]/div[1]/p/a[1]\")\n",
    "        for url in urls:\n",
    "            URL.append(url.get_attribute('href'))\n",
    "    except NoSuchElementException as e:\n",
    "        print('Exception raised:',e)\n",
    "    driver.find_element_by_xpath(\"/html/body/div[3]/div/div[2]/div/div[3]/button[2]\").click()\n",
    "    time.sleep(5)"
   ]
  },
  {
   "cell_type": "code",
   "execution_count": 87,
   "metadata": {},
   "outputs": [
    {
     "name": "stdout",
     "output_type": "stream",
     "text": [
      "100\n"
     ]
    }
   ],
   "source": [
    "print(len(URL))"
   ]
  },
  {
   "cell_type": "code",
   "execution_count": 88,
   "metadata": {},
   "outputs": [],
   "source": [
    "NAME=[]\n",
    "DES=[]\n",
    "COM=[]\n",
    "SKILL=[]\n",
    "LOC=[]"
   ]
  },
  {
   "cell_type": "code",
   "execution_count": 89,
   "metadata": {},
   "outputs": [],
   "source": [
    "for j in URL:\n",
    "    driver.get(j)\n",
    "    time.sleep(3)\n",
    "    try:\n",
    "        name=driver.find_elements_by_xpath(\"//div[@class='frame oh']/div[2]/div[2]/h1\")\n",
    "        for i in name:\n",
    "            NAME.append(i.text)\n",
    "    except NoSuchElementException:\n",
    "        Name.append('--')\n",
    "    try:\n",
    "        des=driver.find_elements_by_xpath(\"//div[@class='frame oh']/div[2]/div[3]\")\n",
    "        for i in des:\n",
    "            DES.append(i.text)\n",
    "    except NoSuchElementException:\n",
    "        DES.append('')\n",
    "    try:\n",
    "        com=driver.find_elements_by_xpath(\"//div[@class='frame oh']/div[2]/div[4]/a\")\n",
    "        for i in com:\n",
    "            COM.append(i.text)\n",
    "    except NoSuchElementException:\n",
    "        COM.append('')\n",
    "    try: \n",
    "        loc=driver.find_elements_by_xpath(\"//div[@class='frame oh']/div[2]/div[5]/a\")\n",
    "        for i in loc:\n",
    "            LOC.append(i.text)\n",
    "    except NoSuchElementException:\n",
    "        LOC.append('--')\n",
    "    try:\n",
    "        skill=driver.find_elements_by_xpath(\"//div[@class='fadeOutParent readMoreHt100 ']/div[2]/div[1]/p[1]\")\n",
    "        for i in skill:\n",
    "            SKILL.append(i.text)\n",
    "    except NoSuchElementException:\n",
    "        SKILL.append('--')\n",
    "   "
   ]
  },
  {
   "cell_type": "code",
   "execution_count": 90,
   "metadata": {},
   "outputs": [
    {
     "name": "stdout",
     "output_type": "stream",
     "text": [
      "100 100 100 100 100\n"
     ]
    }
   ],
   "source": [
    "print(len(NAME),len(DES),len(COM),len(SKILL),len(LOC))"
   ]
  },
  {
   "cell_type": "code",
   "execution_count": 91,
   "metadata": {},
   "outputs": [],
   "source": [
    "import pandas as pd\n",
    "job=pd.DataFrame()"
   ]
  },
  {
   "cell_type": "code",
   "execution_count": 92,
   "metadata": {},
   "outputs": [],
   "source": [
    "job['Name']=NAME[0:1657]\n",
    "job['Designation']=DES[0:1657]\n",
    "job['Company_name']=COM[0:1657]\n",
    "job['Location']=LOC[0:1657]\n",
    "job['Skills_required']=SKILL[0:1657]\n"
   ]
  },
  {
   "cell_type": "code",
   "execution_count": 93,
   "metadata": {},
   "outputs": [
    {
     "data": {
      "text/html": [
       "<div>\n",
       "<style scoped>\n",
       "    .dataframe tbody tr th:only-of-type {\n",
       "        vertical-align: middle;\n",
       "    }\n",
       "\n",
       "    .dataframe tbody tr th {\n",
       "        vertical-align: top;\n",
       "    }\n",
       "\n",
       "    .dataframe thead th {\n",
       "        text-align: right;\n",
       "    }\n",
       "</style>\n",
       "<table border=\"1\" class=\"dataframe\">\n",
       "  <thead>\n",
       "    <tr style=\"text-align: right;\">\n",
       "      <th></th>\n",
       "      <th>Name</th>\n",
       "      <th>Designation</th>\n",
       "      <th>Company_name</th>\n",
       "      <th>Location</th>\n",
       "      <th>Skills_required</th>\n",
       "    </tr>\n",
       "  </thead>\n",
       "  <tbody>\n",
       "    <tr>\n",
       "      <th>0</th>\n",
       "      <td>Aakash Harit</td>\n",
       "      <td>HR Manager</td>\n",
       "      <td>Data Science Network</td>\n",
       "      <td>Delhi</td>\n",
       "      <td>Classic ASP Developer , Internet Marketing Pro...</td>\n",
       "    </tr>\n",
       "    <tr>\n",
       "      <th>1</th>\n",
       "      <td>shravan Kumar Gaddam</td>\n",
       "      <td>Company Recruiter</td>\n",
       "      <td>Shore Infotech India Pvt. Ltd</td>\n",
       "      <td>Hyderabad / Secunderabad</td>\n",
       "      <td>.Net , Java , Data Science , Linux Administrat...</td>\n",
       "    </tr>\n",
       "    <tr>\n",
       "      <th>2</th>\n",
       "      <td>MARSIAN Technologies LLP</td>\n",
       "      <td>Company HR</td>\n",
       "      <td>MARSIAN Technologies LLP</td>\n",
       "      <td>Pune</td>\n",
       "      <td>Mid Level, Junior Level</td>\n",
       "    </tr>\n",
       "    <tr>\n",
       "      <th>3</th>\n",
       "      <td>Anik Agrawal</td>\n",
       "      <td>Company Recruiter</td>\n",
       "      <td>Enerlytics Software Solutions Pvt Ltd</td>\n",
       "      <td>Ahmedabad</td>\n",
       "      <td>, Mean Stack , javascript , angularjs , mongod...</td>\n",
       "    </tr>\n",
       "    <tr>\n",
       "      <th>4</th>\n",
       "      <td>subhas patel</td>\n",
       "      <td>Founder &amp; CEO</td>\n",
       "      <td>LibraryXProject</td>\n",
       "      <td>UK - (london)</td>\n",
       "      <td>Hadoop , Spark , Digital Strategy , Data Archi...</td>\n",
       "    </tr>\n",
       "    <tr>\n",
       "      <th>...</th>\n",
       "      <td>...</td>\n",
       "      <td>...</td>\n",
       "      <td>...</td>\n",
       "      <td>...</td>\n",
       "      <td>...</td>\n",
       "    </tr>\n",
       "    <tr>\n",
       "      <th>95</th>\n",
       "      <td>Rajani Nagaraj</td>\n",
       "      <td>HR Manager</td>\n",
       "      <td>WildJasmine</td>\n",
       "      <td>Bengaluru / Bangalore</td>\n",
       "      <td>java , hadoop , r , Machine Learning , spark ,...</td>\n",
       "    </tr>\n",
       "    <tr>\n",
       "      <th>96</th>\n",
       "      <td>ROHIT Kumar</td>\n",
       "      <td>Architect</td>\n",
       "      <td>LNT Private Limited</td>\n",
       "      <td>Mumbai</td>\n",
       "      <td>Mid Level, High Level</td>\n",
       "    </tr>\n",
       "    <tr>\n",
       "      <th>97</th>\n",
       "      <td>Amir Chowdhury</td>\n",
       "      <td>Managing Partner</td>\n",
       "      <td>Granular.ai</td>\n",
       "      <td></td>\n",
       "      <td>Granular.ai</td>\n",
       "    </tr>\n",
       "    <tr>\n",
       "      <th>98</th>\n",
       "      <td>Shailja Mishra</td>\n",
       "      <td>HR Manager</td>\n",
       "      <td>Certybox Pvt.Ltd.</td>\n",
       "      <td>Noida</td>\n",
       "      <td>Certybox Pvt.Ltd.</td>\n",
       "    </tr>\n",
       "    <tr>\n",
       "      <th>99</th>\n",
       "      <td>Sunny Sharma</td>\n",
       "      <td>Managing Director - HR</td>\n",
       "      <td>Western Service Providers</td>\n",
       "      <td>Mumbai</td>\n",
       "      <td>Software Professionals , Engineering , Technic...</td>\n",
       "    </tr>\n",
       "  </tbody>\n",
       "</table>\n",
       "<p>100 rows × 5 columns</p>\n",
       "</div>"
      ],
      "text/plain": [
       "                        Name             Designation  \\\n",
       "0               Aakash Harit              HR Manager   \n",
       "1       shravan Kumar Gaddam       Company Recruiter   \n",
       "2   MARSIAN Technologies LLP              Company HR   \n",
       "3               Anik Agrawal       Company Recruiter   \n",
       "4               subhas patel           Founder & CEO   \n",
       "..                       ...                     ...   \n",
       "95            Rajani Nagaraj              HR Manager   \n",
       "96               ROHIT Kumar               Architect   \n",
       "97            Amir Chowdhury        Managing Partner   \n",
       "98            Shailja Mishra              HR Manager   \n",
       "99              Sunny Sharma  Managing Director - HR   \n",
       "\n",
       "                             Company_name                  Location  \\\n",
       "0                    Data Science Network                     Delhi   \n",
       "1           Shore Infotech India Pvt. Ltd  Hyderabad / Secunderabad   \n",
       "2                MARSIAN Technologies LLP                      Pune   \n",
       "3   Enerlytics Software Solutions Pvt Ltd                 Ahmedabad   \n",
       "4                         LibraryXProject             UK - (london)   \n",
       "..                                    ...                       ...   \n",
       "95                            WildJasmine     Bengaluru / Bangalore   \n",
       "96                    LNT Private Limited                    Mumbai   \n",
       "97                            Granular.ai                             \n",
       "98                      Certybox Pvt.Ltd.                     Noida   \n",
       "99              Western Service Providers                    Mumbai   \n",
       "\n",
       "                                      Skills_required  \n",
       "0   Classic ASP Developer , Internet Marketing Pro...  \n",
       "1   .Net , Java , Data Science , Linux Administrat...  \n",
       "2                             Mid Level, Junior Level  \n",
       "3   , Mean Stack , javascript , angularjs , mongod...  \n",
       "4   Hadoop , Spark , Digital Strategy , Data Archi...  \n",
       "..                                                ...  \n",
       "95  java , hadoop , r , Machine Learning , spark ,...  \n",
       "96                              Mid Level, High Level  \n",
       "97                                        Granular.ai  \n",
       "98                                  Certybox Pvt.Ltd.  \n",
       "99  Software Professionals , Engineering , Technic...  \n",
       "\n",
       "[100 rows x 5 columns]"
      ]
     },
     "execution_count": 93,
     "metadata": {},
     "output_type": "execute_result"
    }
   ],
   "source": [
    "job"
   ]
  },
  {
   "cell_type": "markdown",
   "metadata": {},
   "source": [
    "# Program - 8"
   ]
  },
  {
   "cell_type": "markdown",
   "metadata": {},
   "source": [
    "Scrape the details of Highest selling novels. Url = https://www.theguardian.com/news/datablog/2012/aug/09/best-selling-books-all-time-fifty-shades-greycompare/ You have to find the following details: A) Book name B) Author name C) Volum"
   ]
  },
  {
   "cell_type": "code",
   "execution_count": 4,
   "metadata": {},
   "outputs": [],
   "source": [
    "#First we will connect to webdriver\n",
    "driver=webdriver.Chrome(r'/Users/ankitraj1/chromedriver')"
   ]
  },
  {
   "cell_type": "code",
   "execution_count": 5,
   "metadata": {},
   "outputs": [],
   "source": [
    " #Open the webpage with webdriver\n",
    "driver.get(' https://www.theguardian.com/news/datablog/2012/aug/09/best-selling-books-all-time-fifty-shades-grey-compare/ ')"
   ]
  },
  {
   "cell_type": "markdown",
   "metadata": {},
   "source": [
    "Creating Lists to store scrapped data in text form"
   ]
  },
  {
   "cell_type": "code",
   "execution_count": 6,
   "metadata": {},
   "outputs": [],
   "source": [
    "BNAME=[]\n",
    "ANAME=[]\n",
    "VS=[]\n",
    "PUB=[]\n",
    "GEN=[]"
   ]
  },
  {
   "cell_type": "markdown",
   "metadata": {},
   "source": [
    "We will extract the data in text form and store in respective lists\n",
    "\n"
   ]
  },
  {
   "cell_type": "code",
   "execution_count": 7,
   "metadata": {},
   "outputs": [],
   "source": [
    "bname=driver.find_elements_by_xpath(\"//table[@class='in-article sortable']/tbody/tr/td[2]\")\n",
    "for i in bname:\n",
    "    BNAME.append(i.text)\n",
    "aname=driver.find_elements_by_xpath(\"//table[@class='in-article sortable']/tbody/tr/td[3]\")\n",
    "for i in aname:\n",
    "    ANAME.append(i.text)\n",
    "vs=driver.find_elements_by_xpath(\"//table[@class='in-article sortable']/tbody/tr/td[4]\")\n",
    "for i in vs:\n",
    "    VS.append(i.text)\n",
    "pub=driver.find_elements_by_xpath(\"//table[@class='in-article sortable']/tbody/tr/td[5]\")\n",
    "for i in pub:\n",
    "    PUB.append(i.text)\n",
    "gen=driver.find_elements_by_xpath(\"//table[@class='in-article sortable']/tbody/tr/td[6]\")\n",
    "for i in gen:\n",
    "    GEN.append(i.text)"
   ]
  },
  {
   "cell_type": "code",
   "execution_count": 8,
   "metadata": {},
   "outputs": [
    {
     "name": "stdout",
     "output_type": "stream",
     "text": [
      "100 100 100 100 100\n"
     ]
    }
   ],
   "source": [
    "print(len(BNAME),len(ANAME),len(VS),len(PUB),len(GEN))"
   ]
  },
  {
   "cell_type": "code",
   "execution_count": 9,
   "metadata": {},
   "outputs": [],
   "source": [
    "import pandas as pd\n",
    "book=pd.DataFrame()"
   ]
  },
  {
   "cell_type": "code",
   "execution_count": 10,
   "metadata": {},
   "outputs": [],
   "source": [
    "book['Title']=BNAME[:]\n",
    "book['Author']=ANAME[:]\n",
    "book['Volume_Sales']=VS[:]\n",
    "book['Publisher']=PUB[:]\n",
    "book['Genre']=GEN[:]\n"
   ]
  },
  {
   "cell_type": "code",
   "execution_count": 11,
   "metadata": {},
   "outputs": [
    {
     "data": {
      "text/html": [
       "<div>\n",
       "<style scoped>\n",
       "    .dataframe tbody tr th:only-of-type {\n",
       "        vertical-align: middle;\n",
       "    }\n",
       "\n",
       "    .dataframe tbody tr th {\n",
       "        vertical-align: top;\n",
       "    }\n",
       "\n",
       "    .dataframe thead th {\n",
       "        text-align: right;\n",
       "    }\n",
       "</style>\n",
       "<table border=\"1\" class=\"dataframe\">\n",
       "  <thead>\n",
       "    <tr style=\"text-align: right;\">\n",
       "      <th></th>\n",
       "      <th>Title</th>\n",
       "      <th>Author</th>\n",
       "      <th>Volume_Sales</th>\n",
       "      <th>Publisher</th>\n",
       "      <th>Genre</th>\n",
       "    </tr>\n",
       "  </thead>\n",
       "  <tbody>\n",
       "    <tr>\n",
       "      <th>0</th>\n",
       "      <td>Da Vinci Code,The</td>\n",
       "      <td>Brown, Dan</td>\n",
       "      <td>5,094,805</td>\n",
       "      <td>Transworld</td>\n",
       "      <td>Crime, Thriller &amp; Adventure</td>\n",
       "    </tr>\n",
       "    <tr>\n",
       "      <th>1</th>\n",
       "      <td>Harry Potter and the Deathly Hallows</td>\n",
       "      <td>Rowling, J.K.</td>\n",
       "      <td>4,475,152</td>\n",
       "      <td>Bloomsbury</td>\n",
       "      <td>Children's Fiction</td>\n",
       "    </tr>\n",
       "    <tr>\n",
       "      <th>2</th>\n",
       "      <td>Harry Potter and the Philosopher's Stone</td>\n",
       "      <td>Rowling, J.K.</td>\n",
       "      <td>4,200,654</td>\n",
       "      <td>Bloomsbury</td>\n",
       "      <td>Children's Fiction</td>\n",
       "    </tr>\n",
       "    <tr>\n",
       "      <th>3</th>\n",
       "      <td>Harry Potter and the Order of the Phoenix</td>\n",
       "      <td>Rowling, J.K.</td>\n",
       "      <td>4,179,479</td>\n",
       "      <td>Bloomsbury</td>\n",
       "      <td>Children's Fiction</td>\n",
       "    </tr>\n",
       "    <tr>\n",
       "      <th>4</th>\n",
       "      <td>Fifty Shades of Grey</td>\n",
       "      <td>James, E. L.</td>\n",
       "      <td>3,758,936</td>\n",
       "      <td>Random House</td>\n",
       "      <td>Romance &amp; Sagas</td>\n",
       "    </tr>\n",
       "    <tr>\n",
       "      <th>...</th>\n",
       "      <td>...</td>\n",
       "      <td>...</td>\n",
       "      <td>...</td>\n",
       "      <td>...</td>\n",
       "      <td>...</td>\n",
       "    </tr>\n",
       "    <tr>\n",
       "      <th>95</th>\n",
       "      <td>Ghost,The</td>\n",
       "      <td>Harris, Robert</td>\n",
       "      <td>807,311</td>\n",
       "      <td>Random House</td>\n",
       "      <td>General &amp; Literary Fiction</td>\n",
       "    </tr>\n",
       "    <tr>\n",
       "      <th>96</th>\n",
       "      <td>Happy Days with the Naked Chef</td>\n",
       "      <td>Oliver, Jamie</td>\n",
       "      <td>794,201</td>\n",
       "      <td>Penguin</td>\n",
       "      <td>Food &amp; Drink: General</td>\n",
       "    </tr>\n",
       "    <tr>\n",
       "      <th>97</th>\n",
       "      <td>Hunger Games,The:Hunger Games Trilogy</td>\n",
       "      <td>Collins, Suzanne</td>\n",
       "      <td>792,187</td>\n",
       "      <td>Scholastic Ltd.</td>\n",
       "      <td>Young Adult Fiction</td>\n",
       "    </tr>\n",
       "    <tr>\n",
       "      <th>98</th>\n",
       "      <td>Lost Boy,The:A Foster Child's Search for the L...</td>\n",
       "      <td>Pelzer, Dave</td>\n",
       "      <td>791,507</td>\n",
       "      <td>Orion</td>\n",
       "      <td>Biography: General</td>\n",
       "    </tr>\n",
       "    <tr>\n",
       "      <th>99</th>\n",
       "      <td>Jamie's Ministry of Food:Anyone Can Learn to C...</td>\n",
       "      <td>Oliver, Jamie</td>\n",
       "      <td>791,095</td>\n",
       "      <td>Penguin</td>\n",
       "      <td>Food &amp; Drink: General</td>\n",
       "    </tr>\n",
       "  </tbody>\n",
       "</table>\n",
       "<p>100 rows × 5 columns</p>\n",
       "</div>"
      ],
      "text/plain": [
       "                                                Title            Author  \\\n",
       "0                                   Da Vinci Code,The        Brown, Dan   \n",
       "1                Harry Potter and the Deathly Hallows     Rowling, J.K.   \n",
       "2            Harry Potter and the Philosopher's Stone     Rowling, J.K.   \n",
       "3           Harry Potter and the Order of the Phoenix     Rowling, J.K.   \n",
       "4                                Fifty Shades of Grey      James, E. L.   \n",
       "..                                                ...               ...   \n",
       "95                                          Ghost,The    Harris, Robert   \n",
       "96                     Happy Days with the Naked Chef     Oliver, Jamie   \n",
       "97              Hunger Games,The:Hunger Games Trilogy  Collins, Suzanne   \n",
       "98  Lost Boy,The:A Foster Child's Search for the L...      Pelzer, Dave   \n",
       "99  Jamie's Ministry of Food:Anyone Can Learn to C...     Oliver, Jamie   \n",
       "\n",
       "   Volume_Sales        Publisher                        Genre  \n",
       "0     5,094,805       Transworld  Crime, Thriller & Adventure  \n",
       "1     4,475,152       Bloomsbury           Children's Fiction  \n",
       "2     4,200,654       Bloomsbury           Children's Fiction  \n",
       "3     4,179,479       Bloomsbury           Children's Fiction  \n",
       "4     3,758,936     Random House              Romance & Sagas  \n",
       "..          ...              ...                          ...  \n",
       "95      807,311     Random House   General & Literary Fiction  \n",
       "96      794,201          Penguin        Food & Drink: General  \n",
       "97      792,187  Scholastic Ltd.          Young Adult Fiction  \n",
       "98      791,507            Orion           Biography: General  \n",
       "99      791,095          Penguin        Food & Drink: General  \n",
       "\n",
       "[100 rows x 5 columns]"
      ]
     },
     "execution_count": 11,
     "metadata": {},
     "output_type": "execute_result"
    }
   ],
   "source": [
    "book"
   ]
  },
  {
   "cell_type": "markdown",
   "metadata": {},
   "source": [
    "# Program - 9"
   ]
  },
  {
   "cell_type": "markdown",
   "metadata": {},
   "source": [
    " Scrape the details most watched tv series of all time from imdb.com. Url = https://www.imdb.com/list/ls095964455/ You have to find the following details: A) Name B) Year span C) Genre D) Run time E) Ratings F) Votes"
   ]
  },
  {
   "cell_type": "code",
   "execution_count": 12,
   "metadata": {},
   "outputs": [],
   "source": [
    "#Open the webpage with webdriver\n",
    "driver.get(' https://www.imdb.com/list/ls095964455/')"
   ]
  },
  {
   "cell_type": "code",
   "execution_count": 13,
   "metadata": {},
   "outputs": [],
   "source": [
    "NAME=[]\n",
    "YS=[]\n",
    "GEN=[]\n",
    "RT=[]\n",
    "RAT=[]\n",
    "VOT=[]"
   ]
  },
  {
   "cell_type": "code",
   "execution_count": 14,
   "metadata": {},
   "outputs": [],
   "source": [
    "name=driver.find_elements_by_xpath(\"//div[@class='lister-list']/div/div[2]/h3/a\")\n",
    "for i in name:\n",
    "    NAME.append(i.text)\n",
    "ys=driver.find_elements_by_xpath(\"//div[@class='lister-list']/div/div[2]/h3/span[2]\")\n",
    "for i in ys:\n",
    "    YS.append(i.text)\n",
    "gen=driver.find_elements_by_xpath(\"//div[@class='lister-list']/div/div[2]/p/span[5]\")\n",
    "for i in gen:\n",
    "    GEN.append(i.text)\n",
    "rt=driver.find_elements_by_xpath(\"//div[@class='lister-list']/div/div[2]/p/span[3]\")\n",
    "for i in rt:\n",
    "    RT.append(i.text)\n",
    "rat=driver.find_elements_by_xpath(\"//div[@class='lister-list']/div/div[2]/div[1]/div[1]/span[2]\")\n",
    "for i in rat:\n",
    "    RAT.append(i.text)\n",
    "vot=driver.find_elements_by_xpath(\"//div[@class='lister-list']/div/div[2]/p[4]/span[2]\")\n",
    "for i in vot:\n",
    "    VOT.append(i.text)"
   ]
  },
  {
   "cell_type": "code",
   "execution_count": 15,
   "metadata": {},
   "outputs": [
    {
     "data": {
      "text/plain": [
       "['(2011–2019)', '(2016– )', '(2010–2022)']"
      ]
     },
     "execution_count": 15,
     "metadata": {},
     "output_type": "execute_result"
    }
   ],
   "source": [
    "ys=driver.find_elements_by_xpath(\"//div[@class='lister-list']/div/div[2]/h3/span[2]\")\n",
    "for i in ys:\n",
    "    YS.append(i.text)\n",
    "YS[0:3]"
   ]
  },
  {
   "cell_type": "code",
   "execution_count": 16,
   "metadata": {},
   "outputs": [
    {
     "data": {
      "text/plain": [
       "['Action, Adventure, Drama',\n",
       " 'Drama, Fantasy, Horror',\n",
       " 'Drama, Horror, Thriller']"
      ]
     },
     "execution_count": 16,
     "metadata": {},
     "output_type": "execute_result"
    }
   ],
   "source": [
    "gen=driver.find_elements_by_xpath(\"//div[@class='lister-list']/div/div[2]/p/span[5]\")\n",
    "for i in gen:\n",
    "    GEN.append(i.text)\n",
    "GEN[0:3]"
   ]
  },
  {
   "cell_type": "code",
   "execution_count": 17,
   "metadata": {},
   "outputs": [
    {
     "data": {
      "text/plain": [
       "['57 min', '51 min', '44 min']"
      ]
     },
     "execution_count": 17,
     "metadata": {},
     "output_type": "execute_result"
    }
   ],
   "source": [
    "rt=driver.find_elements_by_xpath(\"//div[@class='lister-list']/div/div[2]/p/span[3]\")\n",
    "for i in rt:\n",
    "    RT.append(i.text)\n",
    "RT[0:3]"
   ]
  },
  {
   "cell_type": "code",
   "execution_count": 18,
   "metadata": {},
   "outputs": [
    {
     "data": {
      "text/plain": [
       "['9.3', '8.7', '8.2']"
      ]
     },
     "execution_count": 18,
     "metadata": {},
     "output_type": "execute_result"
    }
   ],
   "source": [
    "rat=driver.find_elements_by_xpath(\"//div[@class='lister-list']/div/div[2]/div[1]/div[1]/span[2]\")\n",
    "for i in rat:\n",
    "    RAT.append(i.text)\n",
    "RAT[0:3]"
   ]
  },
  {
   "cell_type": "code",
   "execution_count": 19,
   "metadata": {},
   "outputs": [
    {
     "data": {
      "text/plain": [
       "['1,821,471', '862,613', '873,930']"
      ]
     },
     "execution_count": 19,
     "metadata": {},
     "output_type": "execute_result"
    }
   ],
   "source": [
    "vot=driver.find_elements_by_xpath(\"//div[@class='lister-list']/div/div[2]/p[4]/span[2]\")\n",
    "for i in vot:\n",
    "    VOT.append(i.text)\n",
    "VOT[0:3]"
   ]
  },
  {
   "cell_type": "code",
   "execution_count": 22,
   "metadata": {},
   "outputs": [],
   "source": [
    "#creating the data frame for the outputs\n",
    "import pandas as pd\n",
    "\n",
    "data = list(zip(NAME,YS,GEN,RT,RAT,VOT))\n",
    "df = pd.DataFrame (data,columns=['NAME','YS','GEN','RT','RAT','VOT'])"
   ]
  },
  {
   "cell_type": "code",
   "execution_count": 25,
   "metadata": {},
   "outputs": [
    {
     "data": {
      "text/html": [
       "<div>\n",
       "<style scoped>\n",
       "    .dataframe tbody tr th:only-of-type {\n",
       "        vertical-align: middle;\n",
       "    }\n",
       "\n",
       "    .dataframe tbody tr th {\n",
       "        vertical-align: top;\n",
       "    }\n",
       "\n",
       "    .dataframe thead th {\n",
       "        text-align: right;\n",
       "    }\n",
       "</style>\n",
       "<table border=\"1\" class=\"dataframe\">\n",
       "  <thead>\n",
       "    <tr style=\"text-align: right;\">\n",
       "      <th></th>\n",
       "      <th>NAME</th>\n",
       "      <th>YS</th>\n",
       "      <th>GEN</th>\n",
       "      <th>RT</th>\n",
       "      <th>RAT</th>\n",
       "      <th>VOT</th>\n",
       "    </tr>\n",
       "  </thead>\n",
       "  <tbody>\n",
       "    <tr>\n",
       "      <th>0</th>\n",
       "      <td>Game of Thrones</td>\n",
       "      <td>(2011–2019)</td>\n",
       "      <td>Action, Adventure, Drama</td>\n",
       "      <td>57 min</td>\n",
       "      <td>9.3</td>\n",
       "      <td>1,821,471</td>\n",
       "    </tr>\n",
       "    <tr>\n",
       "      <th>1</th>\n",
       "      <td>Stranger Things</td>\n",
       "      <td>(2016– )</td>\n",
       "      <td>Drama, Fantasy, Horror</td>\n",
       "      <td>51 min</td>\n",
       "      <td>8.7</td>\n",
       "      <td>862,613</td>\n",
       "    </tr>\n",
       "    <tr>\n",
       "      <th>2</th>\n",
       "      <td>The Walking Dead</td>\n",
       "      <td>(2010–2022)</td>\n",
       "      <td>Drama, Horror, Thriller</td>\n",
       "      <td>44 min</td>\n",
       "      <td>8.2</td>\n",
       "      <td>873,930</td>\n",
       "    </tr>\n",
       "    <tr>\n",
       "      <th>3</th>\n",
       "      <td>13 Reasons Why</td>\n",
       "      <td>(2017–2020)</td>\n",
       "      <td>Drama, Mystery, Thriller</td>\n",
       "      <td>60 min</td>\n",
       "      <td>7.6</td>\n",
       "      <td>262,489</td>\n",
       "    </tr>\n",
       "    <tr>\n",
       "      <th>4</th>\n",
       "      <td>The 100</td>\n",
       "      <td>(2014–2020)</td>\n",
       "      <td>Drama, Mystery, Sci-Fi</td>\n",
       "      <td>43 min</td>\n",
       "      <td>7.6</td>\n",
       "      <td>223,790</td>\n",
       "    </tr>\n",
       "    <tr>\n",
       "      <th>...</th>\n",
       "      <td>...</td>\n",
       "      <td>...</td>\n",
       "      <td>...</td>\n",
       "      <td>...</td>\n",
       "      <td>...</td>\n",
       "      <td>...</td>\n",
       "    </tr>\n",
       "    <tr>\n",
       "      <th>95</th>\n",
       "      <td>Reign</td>\n",
       "      <td>(2013–2017)</td>\n",
       "      <td>Drama, Fantasy</td>\n",
       "      <td>42 min</td>\n",
       "      <td>7.5</td>\n",
       "      <td>44,545</td>\n",
       "    </tr>\n",
       "    <tr>\n",
       "      <th>96</th>\n",
       "      <td>A Series of Unfortunate Events</td>\n",
       "      <td>(2017–2019)</td>\n",
       "      <td>Adventure, Comedy, Drama</td>\n",
       "      <td>50 min</td>\n",
       "      <td>7.8</td>\n",
       "      <td>55,030</td>\n",
       "    </tr>\n",
       "    <tr>\n",
       "      <th>97</th>\n",
       "      <td>Criminal Minds</td>\n",
       "      <td>(2005–2020)</td>\n",
       "      <td>Crime, Drama, Mystery</td>\n",
       "      <td>42 min</td>\n",
       "      <td>8</td>\n",
       "      <td>167,433</td>\n",
       "    </tr>\n",
       "    <tr>\n",
       "      <th>98</th>\n",
       "      <td>Scream: The TV Series</td>\n",
       "      <td>(2015–2019)</td>\n",
       "      <td>Comedy, Crime, Drama</td>\n",
       "      <td>45 min</td>\n",
       "      <td>7.1</td>\n",
       "      <td>34,858</td>\n",
       "    </tr>\n",
       "    <tr>\n",
       "      <th>99</th>\n",
       "      <td>The Haunting of Hill House</td>\n",
       "      <td>(2018)</td>\n",
       "      <td>Drama, Horror, Mystery</td>\n",
       "      <td>572 min</td>\n",
       "      <td>8.6</td>\n",
       "      <td>191,157</td>\n",
       "    </tr>\n",
       "  </tbody>\n",
       "</table>\n",
       "<p>100 rows × 6 columns</p>\n",
       "</div>"
      ],
      "text/plain": [
       "                              NAME           YS                       GEN  \\\n",
       "0                  Game of Thrones  (2011–2019)  Action, Adventure, Drama   \n",
       "1                  Stranger Things     (2016– )    Drama, Fantasy, Horror   \n",
       "2                 The Walking Dead  (2010–2022)   Drama, Horror, Thriller   \n",
       "3                   13 Reasons Why  (2017–2020)  Drama, Mystery, Thriller   \n",
       "4                          The 100  (2014–2020)    Drama, Mystery, Sci-Fi   \n",
       "..                             ...          ...                       ...   \n",
       "95                           Reign  (2013–2017)            Drama, Fantasy   \n",
       "96  A Series of Unfortunate Events  (2017–2019)  Adventure, Comedy, Drama   \n",
       "97                  Criminal Minds  (2005–2020)     Crime, Drama, Mystery   \n",
       "98           Scream: The TV Series  (2015–2019)      Comedy, Crime, Drama   \n",
       "99      The Haunting of Hill House       (2018)    Drama, Horror, Mystery   \n",
       "\n",
       "         RT  RAT        VOT  \n",
       "0    57 min  9.3  1,821,471  \n",
       "1    51 min  8.7    862,613  \n",
       "2    44 min  8.2    873,930  \n",
       "3    60 min  7.6    262,489  \n",
       "4    43 min  7.6    223,790  \n",
       "..      ...  ...        ...  \n",
       "95   42 min  7.5     44,545  \n",
       "96   50 min  7.8     55,030  \n",
       "97   42 min    8    167,433  \n",
       "98   45 min  7.1     34,858  \n",
       "99  572 min  8.6    191,157  \n",
       "\n",
       "[100 rows x 6 columns]"
      ]
     },
     "execution_count": 25,
     "metadata": {},
     "output_type": "execute_result"
    }
   ],
   "source": [
    "df.head(100)"
   ]
  },
  {
   "cell_type": "markdown",
   "metadata": {},
   "source": [
    "# Program -10"
   ]
  },
  {
   "cell_type": "markdown",
   "metadata": {},
   "source": [
    "Details of Datasets from UCI machine learning repositories. Url = https://archive.ics.uci.edu/ You have to find the following details: A) Dataset name B) Data type C) Task D) Attribute type E) No of instances F) No of attribute G) Year Note: - from the home page you have to go to the Show All Dataset page through code"
   ]
  },
  {
   "cell_type": "code",
   "execution_count": 26,
   "metadata": {},
   "outputs": [],
   "source": [
    "from selenium.common.exceptions import ElementNotInteractableException,NoSuchElementException, WebDriverException\n"
   ]
  },
  {
   "cell_type": "code",
   "execution_count": 34,
   "metadata": {},
   "outputs": [],
   "source": [
    "#open the URL\n",
    "driver.get('https://archive.ics.uci.edu/')\n",
    "driver.implicitly_wait(3)"
   ]
  },
  {
   "cell_type": "code",
   "execution_count": 35,
   "metadata": {},
   "outputs": [],
   "source": [
    "#navigate to view all dataset\n",
    "dataset=driver.find_element_by_xpath(\"//span[@class='normal']/b/a\")\n",
    "driver.get(dataset.get_attribute('href'))"
   ]
  },
  {
   "cell_type": "code",
   "execution_count": 39,
   "metadata": {},
   "outputs": [],
   "source": [
    "#create an empty lists to store the scraping data\n",
    "Name=[] \n",
    "D_Type=[]\n",
    "Task=[] \n",
    "Attri_Type=[] \n",
    "Instances=[] \n",
    "Attribute=[] \n",
    "Year=[]"
   ]
  },
  {
   "cell_type": "code",
   "execution_count": 40,
   "metadata": {},
   "outputs": [],
   "source": [
    "#create a function\n",
    "name = driver.find_elements_by_xpath('//table[@border=\"1\"]/tbody/tr[2]/td/table/tbody/tr/td[2]/p/b/a')\n",
    "for i in name:\n",
    "    Name.append(i.text)\n",
    "names = driver.find_elements_by_xpath('//tr[@bgcolor=\"DDEEFF\"]/td/table/tbody/tr/td[2]/p/b/a')\n",
    "for i in names:\n",
    "    Name.append(i.text)\n",
    "datatype = driver.find_elements_by_xpath('//table[@border=\"1\"]/tbody/tr[2]/td[2]/p')\n",
    "for i in datatype:\n",
    "    D_Type.append(i.text)\n",
    "task = driver.find_elements_by_xpath('//table[@border=\"1\"]/tbody/tr[2]/td[3]/p')\n",
    "for i in task:\n",
    "    Task.append(i.text)\n",
    "att = driver.find_elements_by_xpath('//table[@border=\"1\"]/tbody/tr[2]/td[4]/p')\n",
    "for i in att:\n",
    "    Attri_Type.append(i.text)\n",
    "ins = driver.find_elements_by_xpath('//table[@border=\"1\"]/tbody/tr[2]/td[5]/p')\n",
    "for i in ins:\n",
    "    Instances.append(i.text)\n",
    "no_of_att = driver.find_elements_by_xpath('//table[@border=\"1\"]/tbody/tr[2]/td[6]/p')\n",
    "for i in no_of_att:\n",
    "    Attribute.append(i.text)\n",
    "year = driver.find_elements_by_xpath('//table[@border=\"1\"]/tbody/tr[2]/td[7]/p')\n",
    "for i in year:\n",
    "    Year.append(i.text)\n",
    "datatype = driver.find_elements_by_xpath('//tr[@bgcolor=\"DDEEFF\"]/td[2]/p')\n",
    "for i in datatype:\n",
    "    D_Type.append(i.text)\n",
    "tsk = driver.find_elements_by_xpath('//tr[@bgcolor=\"DDEEFF\"]/td[3]/p')\n",
    "for i in tsk:\n",
    "    Task.append(i.text)\n",
    "attr = driver.find_elements_by_xpath('//tr[@bgcolor=\"DDEEFF\"]/td[4]/p')\n",
    "for i in attr:\n",
    "    Attri_Type.append(i.text)\n",
    "noi = driver.find_elements_by_xpath('//tr[@bgcolor=\"DDEEFF\"]/td[5]/p')\n",
    "for i in noi:\n",
    "    Instances.append(i.text)\n",
    "noa = driver.find_elements_by_xpath('//tr[@bgcolor=\"DDEEFF\"]/td[6]/p')\n",
    "for i in noa:\n",
    "    Attribute.append(i.text)\n",
    "yr = driver.find_elements_by_xpath('//tr[@bgcolor=\"DDEEFF\"]/td[7]/p')\n",
    "for i in yr:\n",
    "    Year.append(i.text)"
   ]
  },
  {
   "cell_type": "code",
   "execution_count": 41,
   "metadata": {},
   "outputs": [
    {
     "data": {
      "text/html": [
       "<div>\n",
       "<style scoped>\n",
       "    .dataframe tbody tr th:only-of-type {\n",
       "        vertical-align: middle;\n",
       "    }\n",
       "\n",
       "    .dataframe tbody tr th {\n",
       "        vertical-align: top;\n",
       "    }\n",
       "\n",
       "    .dataframe thead th {\n",
       "        text-align: right;\n",
       "    }\n",
       "</style>\n",
       "<table border=\"1\" class=\"dataframe\">\n",
       "  <thead>\n",
       "    <tr style=\"text-align: right;\">\n",
       "      <th></th>\n",
       "      <th>Name</th>\n",
       "      <th>D_Type</th>\n",
       "      <th>Task</th>\n",
       "      <th>Attri_Type</th>\n",
       "      <th>Instances</th>\n",
       "      <th>Attribute</th>\n",
       "      <th>Year</th>\n",
       "    </tr>\n",
       "  </thead>\n",
       "  <tbody>\n",
       "    <tr>\n",
       "      <th>0</th>\n",
       "      <td>Abalone</td>\n",
       "      <td>Multivariate</td>\n",
       "      <td>Classification</td>\n",
       "      <td>Categorical, Integer, Real</td>\n",
       "      <td>4177</td>\n",
       "      <td>8</td>\n",
       "      <td>1995</td>\n",
       "    </tr>\n",
       "    <tr>\n",
       "      <th>1</th>\n",
       "      <td>Adult</td>\n",
       "      <td>Multivariate</td>\n",
       "      <td>Classification</td>\n",
       "      <td>Categorical, Integer</td>\n",
       "      <td>48842</td>\n",
       "      <td>14</td>\n",
       "      <td>1996</td>\n",
       "    </tr>\n",
       "    <tr>\n",
       "      <th>2</th>\n",
       "      <td>Anonymous Microsoft Web Data</td>\n",
       "      <td></td>\n",
       "      <td>Recommender-Systems</td>\n",
       "      <td>Categorical</td>\n",
       "      <td>37711</td>\n",
       "      <td>294</td>\n",
       "      <td>1998</td>\n",
       "    </tr>\n",
       "    <tr>\n",
       "      <th>3</th>\n",
       "      <td>Artificial Characters</td>\n",
       "      <td>Multivariate</td>\n",
       "      <td>Classification</td>\n",
       "      <td>Categorical, Integer, Real</td>\n",
       "      <td>6000</td>\n",
       "      <td>7</td>\n",
       "      <td>1992</td>\n",
       "    </tr>\n",
       "    <tr>\n",
       "      <th>4</th>\n",
       "      <td>Audiology (Standardized)</td>\n",
       "      <td>Multivariate</td>\n",
       "      <td>Classification</td>\n",
       "      <td>Categorical</td>\n",
       "      <td>226</td>\n",
       "      <td>69</td>\n",
       "      <td>1992</td>\n",
       "    </tr>\n",
       "    <tr>\n",
       "      <th>...</th>\n",
       "      <td>...</td>\n",
       "      <td>...</td>\n",
       "      <td>...</td>\n",
       "      <td>...</td>\n",
       "      <td>...</td>\n",
       "      <td>...</td>\n",
       "      <td>...</td>\n",
       "    </tr>\n",
       "    <tr>\n",
       "      <th>290</th>\n",
       "      <td>LastFM Asia Social Network</td>\n",
       "      <td>Multivariate</td>\n",
       "      <td>Classification</td>\n",
       "      <td></td>\n",
       "      <td>7624</td>\n",
       "      <td>7842</td>\n",
       "      <td>2020</td>\n",
       "    </tr>\n",
       "    <tr>\n",
       "      <th>291</th>\n",
       "      <td>AI4I 2020 Predictive Maintenance Dataset</td>\n",
       "      <td>Multivariate, Time-Series</td>\n",
       "      <td>Classification, Regression, Causal-Discovery</td>\n",
       "      <td>Real</td>\n",
       "      <td>10000</td>\n",
       "      <td>14</td>\n",
       "      <td>2020</td>\n",
       "    </tr>\n",
       "    <tr>\n",
       "      <th>292</th>\n",
       "      <td>in-vehicle coupon recommendation</td>\n",
       "      <td>Multivariate</td>\n",
       "      <td>Classification</td>\n",
       "      <td></td>\n",
       "      <td>12684</td>\n",
       "      <td>23</td>\n",
       "      <td>2020</td>\n",
       "    </tr>\n",
       "    <tr>\n",
       "      <th>293</th>\n",
       "      <td>Wikipedia Math Essentials</td>\n",
       "      <td>Time-Series</td>\n",
       "      <td>Regression</td>\n",
       "      <td>Real</td>\n",
       "      <td>731</td>\n",
       "      <td>1068</td>\n",
       "      <td>2021</td>\n",
       "    </tr>\n",
       "    <tr>\n",
       "      <th>294</th>\n",
       "      <td>Synchronous Machine Data Set</td>\n",
       "      <td>Multivariate</td>\n",
       "      <td>Regression</td>\n",
       "      <td>Real</td>\n",
       "      <td>557</td>\n",
       "      <td>5</td>\n",
       "      <td>2021</td>\n",
       "    </tr>\n",
       "  </tbody>\n",
       "</table>\n",
       "<p>295 rows × 7 columns</p>\n",
       "</div>"
      ],
      "text/plain": [
       "                                         Name                      D_Type  \\\n",
       "0                                     Abalone               Multivariate    \n",
       "1                                       Adult               Multivariate    \n",
       "2                Anonymous Microsoft Web Data                               \n",
       "3                       Artificial Characters               Multivariate    \n",
       "4                    Audiology (Standardized)               Multivariate    \n",
       "..                                        ...                         ...   \n",
       "290                LastFM Asia Social Network               Multivariate    \n",
       "291  AI4I 2020 Predictive Maintenance Dataset  Multivariate, Time-Series    \n",
       "292          in-vehicle coupon recommendation               Multivariate    \n",
       "293                 Wikipedia Math Essentials                Time-Series    \n",
       "294              Synchronous Machine Data Set               Multivariate    \n",
       "\n",
       "                                              Task  \\\n",
       "0                                  Classification    \n",
       "1                                  Classification    \n",
       "2                             Recommender-Systems    \n",
       "3                                  Classification    \n",
       "4                                  Classification    \n",
       "..                                             ...   \n",
       "290                                Classification    \n",
       "291  Classification, Regression, Causal-Discovery    \n",
       "292                                Classification    \n",
       "293                                    Regression    \n",
       "294                                    Regression    \n",
       "\n",
       "                      Attri_Type Instances Attribute   Year  \n",
       "0    Categorical, Integer, Real      4177         8   1995   \n",
       "1          Categorical, Integer     48842        14   1996   \n",
       "2                   Categorical     37711       294   1998   \n",
       "3    Categorical, Integer, Real      6000         7   1992   \n",
       "4                   Categorical       226        69   1992   \n",
       "..                           ...       ...       ...    ...  \n",
       "290                                  7624      7842   2020   \n",
       "291                        Real     10000        14   2020   \n",
       "292                                 12684        23   2020   \n",
       "293                        Real       731      1068   2021   \n",
       "294                        Real       557         5   2021   \n",
       "\n",
       "[295 rows x 7 columns]"
      ]
     },
     "execution_count": 41,
     "metadata": {},
     "output_type": "execute_result"
    }
   ],
   "source": [
    "#create the dataframe from the scraped data\n",
    "UCI=pd.DataFrame({})\n",
    "UCI['Name']=Dataset_Name \n",
    "UCI['D_Type']=Data_Type\n",
    "UCI['Task']=Task\n",
    "UCI['Attri_Type']=Attribute_Type\n",
    "UCI['Instances']=No_of_Instances\n",
    "UCI['Attribute']= No_of_Attribute\n",
    "UCI['Year']=Year\n",
    "UCI"
   ]
  }
 ],
 "metadata": {
  "kernelspec": {
   "display_name": "Python 3",
   "language": "python",
   "name": "python3"
  },
  "language_info": {
   "codemirror_mode": {
    "name": "ipython",
    "version": 3
   },
   "file_extension": ".py",
   "mimetype": "text/x-python",
   "name": "python",
   "nbconvert_exporter": "python",
   "pygments_lexer": "ipython3",
   "version": "3.8.5"
  }
 },
 "nbformat": 4,
 "nbformat_minor": 4
}
