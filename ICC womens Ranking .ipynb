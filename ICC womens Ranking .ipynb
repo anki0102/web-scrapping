{
 "cells": [
  {
   "cell_type": "markdown",
   "metadata": {},
   "source": [
    "# Top 10 ODI Womens Team"
   ]
  },
  {
   "cell_type": "code",
   "execution_count": 1,
   "metadata": {},
   "outputs": [],
   "source": [
    "#importing the libraries\n",
    "\n",
    "import requests\n",
    "from bs4 import BeautifulSoup\n",
    "import re\n"
   ]
  },
  {
   "cell_type": "code",
   "execution_count": 2,
   "metadata": {},
   "outputs": [],
   "source": [
    "url = \"https://www.icc-cricket.com/rankings/womens/team-rankings/odi\"        #fetching the url"
   ]
  },
  {
   "cell_type": "code",
   "execution_count": 3,
   "metadata": {},
   "outputs": [],
   "source": [
    "r  = requests.get(url)\n",
    "htmlContent = r.content\n"
   ]
  },
  {
   "cell_type": "code",
   "execution_count": 4,
   "metadata": {},
   "outputs": [],
   "source": [
    "soup = BeautifulSoup(htmlContent, 'html.parser')"
   ]
  },
  {
   "cell_type": "code",
   "execution_count": 16,
   "metadata": {},
   "outputs": [],
   "source": [
    "title = soup.title"
   ]
  },
  {
   "cell_type": "code",
   "execution_count": 6,
   "metadata": {},
   "outputs": [
    {
     "name": "stdout",
     "output_type": "stream",
     "text": [
      "ICC Ranking for ODI teams International Cricket Council\n"
     ]
    }
   ],
   "source": [
    "print(title.string)"
   ]
  },
  {
   "cell_type": "code",
   "execution_count": 7,
   "metadata": {},
   "outputs": [],
   "source": [
    "first_table= soup.find(\"table\")"
   ]
  },
  {
   "cell_type": "code",
   "execution_count": 8,
   "metadata": {},
   "outputs": [
    {
     "name": "stdout",
     "output_type": "stream",
     "text": [
      "<table class=\"table\">\n",
      "<thead>\n",
      "<tr class=\"table-head\">\n",
      "<th class=\"table-head__cell u-text-right\">Pos</th>\n",
      "<th class=\"table-head__cell rankings-table__team\">\n",
      "<span class=\"u-hide-mobile\">Team</span>\n",
      "<span class=\"u-show-mobile\">T</span>\n",
      "</th>\n",
      "<th class=\"table-head__cell u-center-text\">\n",
      "<span class=\"u-hide-mobile\">Matches</span>\n",
      "<span class=\"u-show-mobile\">M</span>\n",
      "</th>\n",
      "<th class=\"table-head__cell u-center-text\">\n",
      "<span class=\"u-hide-mobile\">Points</span>\n",
      "<span class=\"u-show-mobile\">P</span>\n",
      "</th>\n",
      "<th class=\"table-head__cell u-text-right rating\">\n",
      "<span class=\"u-hide-mobile\">Rating</span>\n",
      "<span class=\"u-show-mobile\">R</span>\n",
      "</th>\n",
      "</tr>\n",
      "</thead>\n",
      "<tbody>\n",
      "<tr class=\"rankings-block__banner\">\n",
      "<td class=\"rankings-block__banner--pos\">1</td>\n",
      "<td class=\"rankings-block__banner--team-name\">\n",
      "<span class=\"flag-30 rankings-block__banner--flag AUS\"></span>\n",
      "<span class=\"u-hide-phablet\">Australia</span>\n",
      "<span class=\"u-show-phablet\">AUS</span>\n",
      "</td>\n",
      "<td class=\"rankings-block__banner--matches\">18</td>\n",
      "<td class=\"rankings-block__banner--points\">2,955</td>\n",
      "<td class=\"rankings-block__banner--rating u-text-right\">\n",
      "                            164\n",
      "                            <span class=\"circle-branding circle-branding--top\"></span>\n",
      "<span class=\"circle-branding circle-branding--bottom\"></span>\n",
      "</td>\n",
      "</tr>\n",
      "<tr class=\"table-body\" data-team-id=\"25\">\n",
      "<td class=\"table-body__cell table-body__cell--position u-text-right\">2</td>\n",
      "<td class=\"table-body__cell rankings-table__team\">\n",
      "<span class=\"flag-15 table-body_logo SA\"></span>\n",
      "<span class=\"u-hide-phablet\">South Africa</span>\n",
      "<span class=\"u-show-phablet\">SA</span>\n",
      "</td>\n",
      "<td class=\"table-body__cell u-center-text\">24</td>\n",
      "<td class=\"table-body__cell u-center-text\">2,828</td>\n",
      "<td class=\"table-body__cell u-text-right rating\">118</td>\n",
      "</tr>\n",
      "<tr class=\"table-body\" data-team-id=\"28\">\n",
      "<td class=\"table-body__cell table-body__cell--position u-text-right\">3</td>\n",
      "<td class=\"table-body__cell rankings-table__team\">\n",
      "<span class=\"flag-15 table-body_logo ENG\"></span>\n",
      "<span class=\"u-hide-phablet\">England</span>\n",
      "<span class=\"u-show-phablet\">ENG</span>\n",
      "</td>\n",
      "<td class=\"table-body__cell u-center-text\">17</td>\n",
      "<td class=\"table-body__cell u-center-text\">1,993</td>\n",
      "<td class=\"table-body__cell u-text-right rating\">117</td>\n",
      "</tr>\n",
      "<tr class=\"table-body\" data-team-id=\"31\">\n",
      "<td class=\"table-body__cell table-body__cell--position u-text-right\">4</td>\n",
      "<td class=\"table-body__cell rankings-table__team\">\n",
      "<span class=\"flag-15 table-body_logo IND\"></span>\n",
      "<span class=\"u-hide-phablet\">India</span>\n",
      "<span class=\"u-show-phablet\">IND</span>\n",
      "</td>\n",
      "<td class=\"table-body__cell u-center-text\">20</td>\n",
      "<td class=\"table-body__cell u-center-text\">2,226</td>\n",
      "<td class=\"table-body__cell u-text-right rating\">111</td>\n",
      "</tr>\n",
      "<tr class=\"table-body\" data-team-id=\"26\">\n",
      "<td class=\"table-body__cell table-body__cell--position u-text-right\">5</td>\n",
      "<td class=\"table-body__cell rankings-table__team\">\n",
      "<span class=\"flag-15 table-body_logo NZ\"></span>\n",
      "<span class=\"u-hide-phablet\">New Zealand</span>\n",
      "<span class=\"u-show-phablet\">NZ</span>\n",
      "</td>\n",
      "<td class=\"table-body__cell u-center-text\">21</td>\n",
      "<td class=\"table-body__cell u-center-text\">1,947</td>\n",
      "<td class=\"table-body__cell u-text-right rating\">93</td>\n",
      "</tr>\n",
      "<tr class=\"table-body\" data-team-id=\"27\">\n",
      "<td class=\"table-body__cell table-body__cell--position u-text-right\">6</td>\n",
      "<td class=\"table-body__cell rankings-table__team\">\n",
      "<span class=\"flag-15 table-body_logo WI\"></span>\n",
      "<span class=\"u-hide-phablet\">West Indies</span>\n",
      "<span class=\"u-show-phablet\">WI</span>\n",
      "</td>\n",
      "<td class=\"table-body__cell u-center-text\">12</td>\n",
      "<td class=\"table-body__cell u-center-text\">1,025</td>\n",
      "<td class=\"table-body__cell u-text-right rating\">85</td>\n",
      "</tr>\n",
      "<tr class=\"table-body\" data-team-id=\"29\">\n",
      "<td class=\"table-body__cell table-body__cell--position u-text-right\">7</td>\n",
      "<td class=\"table-body__cell rankings-table__team\">\n",
      "<span class=\"flag-15 table-body_logo PAK\"></span>\n",
      "<span class=\"u-hide-phablet\">Pakistan</span>\n",
      "<span class=\"u-show-phablet\">PAK</span>\n",
      "</td>\n",
      "<td class=\"table-body__cell u-center-text\">15</td>\n",
      "<td class=\"table-body__cell u-center-text\">1,101</td>\n",
      "<td class=\"table-body__cell u-text-right rating\">73</td>\n",
      "</tr>\n",
      "<tr class=\"table-body\" data-team-id=\"170\">\n",
      "<td class=\"table-body__cell table-body__cell--position u-text-right\">8</td>\n",
      "<td class=\"table-body__cell rankings-table__team\">\n",
      "<span class=\"flag-15 table-body_logo BAN\"></span>\n",
      "<span class=\"u-hide-phablet\">Bangladesh</span>\n",
      "<span class=\"u-show-phablet\">BAN</span>\n",
      "</td>\n",
      "<td class=\"table-body__cell u-center-text\">5</td>\n",
      "<td class=\"table-body__cell u-center-text\">306</td>\n",
      "<td class=\"table-body__cell u-text-right rating\">61</td>\n",
      "</tr>\n",
      "<tr class=\"table-body\" data-team-id=\"24\">\n",
      "<td class=\"table-body__cell table-body__cell--position u-text-right\">9</td>\n",
      "<td class=\"table-body__cell rankings-table__team\">\n",
      "<span class=\"flag-15 table-body_logo SL\"></span>\n",
      "<span class=\"u-hide-phablet\">Sri Lanka</span>\n",
      "<span class=\"u-show-phablet\">SL</span>\n",
      "</td>\n",
      "<td class=\"table-body__cell u-center-text\">11</td>\n",
      "<td class=\"table-body__cell u-center-text\">519</td>\n",
      "<td class=\"table-body__cell u-text-right rating\">47</td>\n",
      "</tr>\n",
      "<tr class=\"table-body\" data-team-id=\"162\">\n",
      "<td class=\"table-body__cell table-body__cell--position u-text-right\">10</td>\n",
      "<td class=\"table-body__cell rankings-table__team\">\n",
      "<span class=\"flag-15 table-body_logo IRE\"></span>\n",
      "<span class=\"u-hide-phablet\">Ireland</span>\n",
      "<span class=\"u-show-phablet\">IRE</span>\n",
      "</td>\n",
      "<td class=\"table-body__cell u-center-text\">2</td>\n",
      "<td class=\"table-body__cell u-center-text\">25</td>\n",
      "<td class=\"table-body__cell u-text-right rating\">13</td>\n",
      "</tr>\n",
      "</tbody>\n",
      "</table>\n"
     ]
    }
   ],
   "source": [
    "print(first_table)"
   ]
  },
  {
   "cell_type": "code",
   "execution_count": 10,
   "metadata": {},
   "outputs": [],
   "source": [
    "assert first_table.find(\"th\").get_text() == \"Pos\""
   ]
  },
  {
   "cell_type": "code",
   "execution_count": 11,
   "metadata": {},
   "outputs": [
    {
     "data": {
      "text/plain": [
       "[<tr class=\"table-head\">\n",
       " <th class=\"table-head__cell u-text-right\">Pos</th>\n",
       " <th class=\"table-head__cell rankings-table__team\">\n",
       " <span class=\"u-hide-mobile\">Team</span>\n",
       " <span class=\"u-show-mobile\">T</span>\n",
       " </th>\n",
       " <th class=\"table-head__cell u-center-text\">\n",
       " <span class=\"u-hide-mobile\">Matches</span>\n",
       " <span class=\"u-show-mobile\">M</span>\n",
       " </th>\n",
       " <th class=\"table-head__cell u-center-text\">\n",
       " <span class=\"u-hide-mobile\">Points</span>\n",
       " <span class=\"u-show-mobile\">P</span>\n",
       " </th>\n",
       " <th class=\"table-head__cell u-text-right rating\">\n",
       " <span class=\"u-hide-mobile\">Rating</span>\n",
       " <span class=\"u-show-mobile\">R</span>\n",
       " </th>\n",
       " </tr>,\n",
       " <tr class=\"rankings-block__banner\">\n",
       " <td class=\"rankings-block__banner--pos\">1</td>\n",
       " <td class=\"rankings-block__banner--team-name\">\n",
       " <span class=\"flag-30 rankings-block__banner--flag AUS\"></span>\n",
       " <span class=\"u-hide-phablet\">Australia</span>\n",
       " <span class=\"u-show-phablet\">AUS</span>\n",
       " </td>\n",
       " <td class=\"rankings-block__banner--matches\">18</td>\n",
       " <td class=\"rankings-block__banner--points\">2,955</td>\n",
       " <td class=\"rankings-block__banner--rating u-text-right\">\n",
       "                             164\n",
       "                             <span class=\"circle-branding circle-branding--top\"></span>\n",
       " <span class=\"circle-branding circle-branding--bottom\"></span>\n",
       " </td>\n",
       " </tr>,\n",
       " <tr class=\"table-body\" data-team-id=\"25\">\n",
       " <td class=\"table-body__cell table-body__cell--position u-text-right\">2</td>\n",
       " <td class=\"table-body__cell rankings-table__team\">\n",
       " <span class=\"flag-15 table-body_logo SA\"></span>\n",
       " <span class=\"u-hide-phablet\">South Africa</span>\n",
       " <span class=\"u-show-phablet\">SA</span>\n",
       " </td>\n",
       " <td class=\"table-body__cell u-center-text\">24</td>\n",
       " <td class=\"table-body__cell u-center-text\">2,828</td>\n",
       " <td class=\"table-body__cell u-text-right rating\">118</td>\n",
       " </tr>,\n",
       " <tr class=\"table-body\" data-team-id=\"28\">\n",
       " <td class=\"table-body__cell table-body__cell--position u-text-right\">3</td>\n",
       " <td class=\"table-body__cell rankings-table__team\">\n",
       " <span class=\"flag-15 table-body_logo ENG\"></span>\n",
       " <span class=\"u-hide-phablet\">England</span>\n",
       " <span class=\"u-show-phablet\">ENG</span>\n",
       " </td>\n",
       " <td class=\"table-body__cell u-center-text\">17</td>\n",
       " <td class=\"table-body__cell u-center-text\">1,993</td>\n",
       " <td class=\"table-body__cell u-text-right rating\">117</td>\n",
       " </tr>,\n",
       " <tr class=\"table-body\" data-team-id=\"31\">\n",
       " <td class=\"table-body__cell table-body__cell--position u-text-right\">4</td>\n",
       " <td class=\"table-body__cell rankings-table__team\">\n",
       " <span class=\"flag-15 table-body_logo IND\"></span>\n",
       " <span class=\"u-hide-phablet\">India</span>\n",
       " <span class=\"u-show-phablet\">IND</span>\n",
       " </td>\n",
       " <td class=\"table-body__cell u-center-text\">20</td>\n",
       " <td class=\"table-body__cell u-center-text\">2,226</td>\n",
       " <td class=\"table-body__cell u-text-right rating\">111</td>\n",
       " </tr>,\n",
       " <tr class=\"table-body\" data-team-id=\"26\">\n",
       " <td class=\"table-body__cell table-body__cell--position u-text-right\">5</td>\n",
       " <td class=\"table-body__cell rankings-table__team\">\n",
       " <span class=\"flag-15 table-body_logo NZ\"></span>\n",
       " <span class=\"u-hide-phablet\">New Zealand</span>\n",
       " <span class=\"u-show-phablet\">NZ</span>\n",
       " </td>\n",
       " <td class=\"table-body__cell u-center-text\">21</td>\n",
       " <td class=\"table-body__cell u-center-text\">1,947</td>\n",
       " <td class=\"table-body__cell u-text-right rating\">93</td>\n",
       " </tr>,\n",
       " <tr class=\"table-body\" data-team-id=\"27\">\n",
       " <td class=\"table-body__cell table-body__cell--position u-text-right\">6</td>\n",
       " <td class=\"table-body__cell rankings-table__team\">\n",
       " <span class=\"flag-15 table-body_logo WI\"></span>\n",
       " <span class=\"u-hide-phablet\">West Indies</span>\n",
       " <span class=\"u-show-phablet\">WI</span>\n",
       " </td>\n",
       " <td class=\"table-body__cell u-center-text\">12</td>\n",
       " <td class=\"table-body__cell u-center-text\">1,025</td>\n",
       " <td class=\"table-body__cell u-text-right rating\">85</td>\n",
       " </tr>,\n",
       " <tr class=\"table-body\" data-team-id=\"29\">\n",
       " <td class=\"table-body__cell table-body__cell--position u-text-right\">7</td>\n",
       " <td class=\"table-body__cell rankings-table__team\">\n",
       " <span class=\"flag-15 table-body_logo PAK\"></span>\n",
       " <span class=\"u-hide-phablet\">Pakistan</span>\n",
       " <span class=\"u-show-phablet\">PAK</span>\n",
       " </td>\n",
       " <td class=\"table-body__cell u-center-text\">15</td>\n",
       " <td class=\"table-body__cell u-center-text\">1,101</td>\n",
       " <td class=\"table-body__cell u-text-right rating\">73</td>\n",
       " </tr>,\n",
       " <tr class=\"table-body\" data-team-id=\"170\">\n",
       " <td class=\"table-body__cell table-body__cell--position u-text-right\">8</td>\n",
       " <td class=\"table-body__cell rankings-table__team\">\n",
       " <span class=\"flag-15 table-body_logo BAN\"></span>\n",
       " <span class=\"u-hide-phablet\">Bangladesh</span>\n",
       " <span class=\"u-show-phablet\">BAN</span>\n",
       " </td>\n",
       " <td class=\"table-body__cell u-center-text\">5</td>\n",
       " <td class=\"table-body__cell u-center-text\">306</td>\n",
       " <td class=\"table-body__cell u-text-right rating\">61</td>\n",
       " </tr>,\n",
       " <tr class=\"table-body\" data-team-id=\"24\">\n",
       " <td class=\"table-body__cell table-body__cell--position u-text-right\">9</td>\n",
       " <td class=\"table-body__cell rankings-table__team\">\n",
       " <span class=\"flag-15 table-body_logo SL\"></span>\n",
       " <span class=\"u-hide-phablet\">Sri Lanka</span>\n",
       " <span class=\"u-show-phablet\">SL</span>\n",
       " </td>\n",
       " <td class=\"table-body__cell u-center-text\">11</td>\n",
       " <td class=\"table-body__cell u-center-text\">519</td>\n",
       " <td class=\"table-body__cell u-text-right rating\">47</td>\n",
       " </tr>,\n",
       " <tr class=\"table-body\" data-team-id=\"162\">\n",
       " <td class=\"table-body__cell table-body__cell--position u-text-right\">10</td>\n",
       " <td class=\"table-body__cell rankings-table__team\">\n",
       " <span class=\"flag-15 table-body_logo IRE\"></span>\n",
       " <span class=\"u-hide-phablet\">Ireland</span>\n",
       " <span class=\"u-show-phablet\">IRE</span>\n",
       " </td>\n",
       " <td class=\"table-body__cell u-center-text\">2</td>\n",
       " <td class=\"table-body__cell u-center-text\">25</td>\n",
       " <td class=\"table-body__cell u-text-right rating\">13</td>\n",
       " </tr>]"
      ]
     },
     "execution_count": 11,
     "metadata": {},
     "output_type": "execute_result"
    }
   ],
   "source": [
    "rows = first_table.find_all(\"tr\",)\n",
    "rows"
   ]
  },
  {
   "cell_type": "code",
   "execution_count": 12,
   "metadata": {},
   "outputs": [
    {
     "data": {
      "text/plain": [
       "['1', 'AustraliaAUS', '18', '2,955', '164']"
      ]
     },
     "metadata": {},
     "output_type": "display_data"
    },
    {
     "data": {
      "text/plain": [
       "['2', 'South AfricaSA', '24', '2,828', '118']"
      ]
     },
     "metadata": {},
     "output_type": "display_data"
    },
    {
     "data": {
      "text/plain": [
       "['3', 'EnglandENG', '17', '1,993', '117']"
      ]
     },
     "metadata": {},
     "output_type": "display_data"
    },
    {
     "data": {
      "text/plain": [
       "['4', 'IndiaIND', '20', '2,226', '111']"
      ]
     },
     "metadata": {},
     "output_type": "display_data"
    },
    {
     "data": {
      "text/plain": [
       "['5', 'New ZealandNZ', '21', '1,947', '93']"
      ]
     },
     "metadata": {},
     "output_type": "display_data"
    },
    {
     "data": {
      "text/plain": [
       "['6', 'West IndiesWI', '12', '1,025', '85']"
      ]
     },
     "metadata": {},
     "output_type": "display_data"
    },
    {
     "data": {
      "text/plain": [
       "['7', 'PakistanPAK', '15', '1,101', '73']"
      ]
     },
     "metadata": {},
     "output_type": "display_data"
    },
    {
     "data": {
      "text/plain": [
       "['8', 'BangladeshBAN', '5', '306', '61']"
      ]
     },
     "metadata": {},
     "output_type": "display_data"
    },
    {
     "data": {
      "text/plain": [
       "['9', 'Sri LankaSL', '11', '519', '47']"
      ]
     },
     "metadata": {},
     "output_type": "display_data"
    }
   ],
   "source": [
    "for row in rows[1:-1]:\n",
    "    cells = row.find_all([\"td\"])\n",
    "    cells_text = [cell.get_text(strip=True) for cell in cells]\n",
    "    \n",
    "    display(cells_text)\n",
    "    \n",
    "    \n",
    "       "
   ]
  },
  {
   "cell_type": "markdown",
   "metadata": {},
   "source": [
    "# Top 10 ODI women batsmen "
   ]
  },
  {
   "cell_type": "code",
   "execution_count": 13,
   "metadata": {},
   "outputs": [],
   "source": [
    "url = \"https://www.icc-cricket.com/rankings/womens/player-rankings/odi\""
   ]
  },
  {
   "cell_type": "code",
   "execution_count": 14,
   "metadata": {},
   "outputs": [],
   "source": [
    "r  = requests.get(url)\n",
    "htmlContent = r.content\n"
   ]
  },
  {
   "cell_type": "code",
   "execution_count": 15,
   "metadata": {},
   "outputs": [],
   "source": [
    "soup = BeautifulSoup(htmlContent, 'html.parser')"
   ]
  },
  {
   "cell_type": "code",
   "execution_count": 17,
   "metadata": {},
   "outputs": [],
   "source": [
    "title = soup.title"
   ]
  },
  {
   "cell_type": "code",
   "execution_count": 18,
   "metadata": {},
   "outputs": [
    {
     "name": "stdout",
     "output_type": "stream",
     "text": [
      "ICC ODI Match Player Rankings International Cricket Council\n"
     ]
    }
   ],
   "source": [
    "print(title.string)"
   ]
  },
  {
   "cell_type": "code",
   "execution_count": 19,
   "metadata": {},
   "outputs": [],
   "source": [
    "second_table= soup.find(\"table\")"
   ]
  },
  {
   "cell_type": "code",
   "execution_count": 20,
   "metadata": {},
   "outputs": [
    {
     "name": "stdout",
     "output_type": "stream",
     "text": [
      "<table class=\"table\">\n",
      "<thead>\n",
      "<tr class=\"table-head\">\n",
      "<th class=\"table-head__cell u-text-right\">Pos</th>\n",
      "<th class=\"table-head__cell\">Player</th>\n",
      "<th class=\"table-head__cell\">Team</th>\n",
      "<th class=\"table-head__cell u-text-right\">Rating</th>\n",
      "</tr>\n",
      "</thead>\n",
      "<tbody>\n",
      "<tr class=\"table-body\">\n",
      "<td class=\"table-body__cell table-body__cell--position u-text-right\">\n",
      "                                    2\n",
      "        <span class=\"ranking-pos no-change\"></span>\n",
      "</td>\n",
      "<td class=\"table-body__cell name\">\n",
      "<a href=\"/rankings/womens/player-rankings/1785\">Lizelle Lee</a>\n",
      "</td>\n",
      "<td class=\"table-body__cell nationality-logo\">\n",
      "<span class=\"flag-15 table-body_logo SA\"></span>\n",
      "<span class=\"table-body__logo-text\">SA</span>\n",
      "</td>\n",
      "<td class=\"table-body__cell u-text-right rating\">758</td>\n",
      "</tr>\n",
      "<tr class=\"table-body\">\n",
      "<td class=\"table-body__cell table-body__cell--position u-text-right\">\n",
      "                                    3\n",
      "        <span class=\"ranking-pos no-change\"></span>\n",
      "</td>\n",
      "<td class=\"table-body__cell name\">\n",
      "<a href=\"/rankings/womens/player-rankings/466\">Alyssa Healy</a>\n",
      "</td>\n",
      "<td class=\"table-body__cell nationality-logo\">\n",
      "<span class=\"flag-15 table-body_logo AUS\"></span>\n",
      "<span class=\"table-body__logo-text\">AUS</span>\n",
      "</td>\n",
      "<td class=\"table-body__cell u-text-right rating\">756</td>\n",
      "</tr>\n",
      "<tr class=\"table-body\">\n",
      "<td class=\"table-body__cell table-body__cell--position u-text-right\">\n",
      "                                    4\n",
      "        <span class=\"ranking-pos no-change\"></span>\n",
      "</td>\n",
      "<td class=\"table-body__cell name\">\n",
      "<a href=\"/rankings/womens/player-rankings/573\">Stafanie Taylor</a>\n",
      "</td>\n",
      "<td class=\"table-body__cell nationality-logo\">\n",
      "<span class=\"flag-15 table-body_logo WI\"></span>\n",
      "<span class=\"table-body__logo-text\">WI</span>\n",
      "</td>\n",
      "<td class=\"table-body__cell u-text-right rating\">746</td>\n",
      "</tr>\n",
      "<tr class=\"table-body\">\n",
      "<td class=\"table-body__cell table-body__cell--position u-text-right\">\n",
      "                                    5\n",
      "        <span class=\"ranking-pos no-change\"></span>\n",
      "</td>\n",
      "<td class=\"table-body__cell name\">\n",
      "<a href=\"/rankings/womens/player-rankings/469\">Meg Lanning</a>\n",
      "</td>\n",
      "<td class=\"table-body__cell nationality-logo\">\n",
      "<span class=\"flag-15 table-body_logo AUS\"></span>\n",
      "<span class=\"table-body__logo-text\">AUS</span>\n",
      "</td>\n",
      "<td class=\"table-body__cell u-text-right rating\">723</td>\n",
      "</tr>\n",
      "<tr class=\"table-body\">\n",
      "<td class=\"table-body__cell table-body__cell--position u-text-right\">\n",
      "                                    6\n",
      "        <span class=\"ranking-pos no-change\"></span>\n",
      "</td>\n",
      "<td class=\"table-body__cell name\">\n",
      "<a href=\"/rankings/womens/player-rankings/487\">Amy Satterthwaite</a>\n",
      "</td>\n",
      "<td class=\"table-body__cell nationality-logo\">\n",
      "<span class=\"flag-15 table-body_logo NZ\"></span>\n",
      "<span class=\"table-body__logo-text\">NZ</span>\n",
      "</td>\n",
      "<td class=\"table-body__cell u-text-right rating\">715</td>\n",
      "</tr>\n",
      "<tr class=\"table-body\">\n",
      "<td class=\"table-body__cell table-body__cell--position u-text-right\">\n",
      "                                    7\n",
      "        <span class=\"ranking-pos no-change\"></span>\n",
      "</td>\n",
      "<td class=\"table-body__cell name\">\n",
      "<a href=\"/rankings/womens/player-rankings/1809\">Smriti Mandhana</a>\n",
      "</td>\n",
      "<td class=\"table-body__cell nationality-logo\">\n",
      "<span class=\"flag-15 table-body_logo IND\"></span>\n",
      "<span class=\"table-body__logo-text\">IND</span>\n",
      "</td>\n",
      "<td class=\"table-body__cell u-text-right rating\">710</td>\n",
      "</tr>\n",
      "<tr class=\"table-body\">\n",
      "<td class=\"table-body__cell table-body__cell--position u-text-right\">\n",
      "                                    8\n",
      "        <span class=\"ranking-pos no-change\"></span>\n",
      "</td>\n",
      "<td class=\"table-body__cell name\">\n",
      "<a href=\"/rankings/womens/player-rankings/558\">Mithali Raj</a>\n",
      "</td>\n",
      "<td class=\"table-body__cell nationality-logo\">\n",
      "<span class=\"flag-15 table-body_logo IND\"></span>\n",
      "<span class=\"table-body__logo-text\">IND</span>\n",
      "</td>\n",
      "<td class=\"table-body__cell u-text-right rating\">709</td>\n",
      "</tr>\n",
      "<tr class=\"table-body\">\n",
      "<td class=\"table-body__cell table-body__cell--position u-text-right\">\n",
      "                                    9\n",
      "        <span class=\"ranking-pos up\">\n",
      "<svg class=\"icon\">\n",
      "<use xlink:href=\"/resources/prod/v8.15.0/i/svg-output/icons.svg#icn-chevron-up\" xmlns:xlink=\"http://www.w3.org/1999/xlink\"></use>\n",
      "</svg>\n",
      "<span class=\"ranking-pos__tooltip\">This player has moved up in the rankings since the previous rankings update</span>\n",
      "</span>\n",
      "</td>\n",
      "<td class=\"table-body__cell name\">\n",
      "<a href=\"/rankings/womens/player-rankings/1800\">Natalie Sciver</a>\n",
      "</td>\n",
      "<td class=\"table-body__cell nationality-logo\">\n",
      "<span class=\"flag-15 table-body_logo ENG\"></span>\n",
      "<span class=\"table-body__logo-text\">ENG</span>\n",
      "</td>\n",
      "<td class=\"table-body__cell u-text-right rating\">685</td>\n",
      "</tr>\n",
      "<tr class=\"table-body\">\n",
      "<td class=\"table-body__cell table-body__cell--position u-text-right\">\n",
      "                                    10\n",
      "        <span class=\"ranking-pos up\">\n",
      "<svg class=\"icon\">\n",
      "<use xlink:href=\"/resources/prod/v8.15.0/i/svg-output/icons.svg#icn-chevron-up\" xmlns:xlink=\"http://www.w3.org/1999/xlink\"></use>\n",
      "</svg>\n",
      "<span class=\"ranking-pos__tooltip\">This player has moved up in the rankings since the previous rankings update</span>\n",
      "</span>\n",
      "</td>\n",
      "<td class=\"table-body__cell name\">\n",
      "<a href=\"/rankings/womens/player-rankings/3176\">Laura Wolvaardt</a>\n",
      "</td>\n",
      "<td class=\"table-body__cell nationality-logo\">\n",
      "<span class=\"flag-15 table-body_logo SA\"></span>\n",
      "<span class=\"table-body__logo-text\">SA</span>\n",
      "</td>\n",
      "<td class=\"table-body__cell u-text-right rating\">683</td>\n",
      "</tr>\n",
      "</tbody>\n",
      "</table>\n"
     ]
    }
   ],
   "source": [
    "print(second_table)"
   ]
  },
  {
   "cell_type": "code",
   "execution_count": 21,
   "metadata": {},
   "outputs": [],
   "source": [
    "assert second_table.find(\"th\").get_text() == \"Pos\""
   ]
  },
  {
   "cell_type": "code",
   "execution_count": 22,
   "metadata": {},
   "outputs": [
    {
     "data": {
      "text/plain": [
       "[<tr class=\"table-head\">\n",
       " <th class=\"table-head__cell u-text-right\">Pos</th>\n",
       " <th class=\"table-head__cell\">Player</th>\n",
       " <th class=\"table-head__cell\">Team</th>\n",
       " <th class=\"table-head__cell u-text-right\">Rating</th>\n",
       " </tr>,\n",
       " <tr class=\"table-body\">\n",
       " <td class=\"table-body__cell table-body__cell--position u-text-right\">\n",
       "                                     2\n",
       "         <span class=\"ranking-pos no-change\"></span>\n",
       " </td>\n",
       " <td class=\"table-body__cell name\">\n",
       " <a href=\"/rankings/womens/player-rankings/1785\">Lizelle Lee</a>\n",
       " </td>\n",
       " <td class=\"table-body__cell nationality-logo\">\n",
       " <span class=\"flag-15 table-body_logo SA\"></span>\n",
       " <span class=\"table-body__logo-text\">SA</span>\n",
       " </td>\n",
       " <td class=\"table-body__cell u-text-right rating\">758</td>\n",
       " </tr>,\n",
       " <tr class=\"table-body\">\n",
       " <td class=\"table-body__cell table-body__cell--position u-text-right\">\n",
       "                                     3\n",
       "         <span class=\"ranking-pos no-change\"></span>\n",
       " </td>\n",
       " <td class=\"table-body__cell name\">\n",
       " <a href=\"/rankings/womens/player-rankings/466\">Alyssa Healy</a>\n",
       " </td>\n",
       " <td class=\"table-body__cell nationality-logo\">\n",
       " <span class=\"flag-15 table-body_logo AUS\"></span>\n",
       " <span class=\"table-body__logo-text\">AUS</span>\n",
       " </td>\n",
       " <td class=\"table-body__cell u-text-right rating\">756</td>\n",
       " </tr>,\n",
       " <tr class=\"table-body\">\n",
       " <td class=\"table-body__cell table-body__cell--position u-text-right\">\n",
       "                                     4\n",
       "         <span class=\"ranking-pos no-change\"></span>\n",
       " </td>\n",
       " <td class=\"table-body__cell name\">\n",
       " <a href=\"/rankings/womens/player-rankings/573\">Stafanie Taylor</a>\n",
       " </td>\n",
       " <td class=\"table-body__cell nationality-logo\">\n",
       " <span class=\"flag-15 table-body_logo WI\"></span>\n",
       " <span class=\"table-body__logo-text\">WI</span>\n",
       " </td>\n",
       " <td class=\"table-body__cell u-text-right rating\">746</td>\n",
       " </tr>,\n",
       " <tr class=\"table-body\">\n",
       " <td class=\"table-body__cell table-body__cell--position u-text-right\">\n",
       "                                     5\n",
       "         <span class=\"ranking-pos no-change\"></span>\n",
       " </td>\n",
       " <td class=\"table-body__cell name\">\n",
       " <a href=\"/rankings/womens/player-rankings/469\">Meg Lanning</a>\n",
       " </td>\n",
       " <td class=\"table-body__cell nationality-logo\">\n",
       " <span class=\"flag-15 table-body_logo AUS\"></span>\n",
       " <span class=\"table-body__logo-text\">AUS</span>\n",
       " </td>\n",
       " <td class=\"table-body__cell u-text-right rating\">723</td>\n",
       " </tr>,\n",
       " <tr class=\"table-body\">\n",
       " <td class=\"table-body__cell table-body__cell--position u-text-right\">\n",
       "                                     6\n",
       "         <span class=\"ranking-pos no-change\"></span>\n",
       " </td>\n",
       " <td class=\"table-body__cell name\">\n",
       " <a href=\"/rankings/womens/player-rankings/487\">Amy Satterthwaite</a>\n",
       " </td>\n",
       " <td class=\"table-body__cell nationality-logo\">\n",
       " <span class=\"flag-15 table-body_logo NZ\"></span>\n",
       " <span class=\"table-body__logo-text\">NZ</span>\n",
       " </td>\n",
       " <td class=\"table-body__cell u-text-right rating\">715</td>\n",
       " </tr>,\n",
       " <tr class=\"table-body\">\n",
       " <td class=\"table-body__cell table-body__cell--position u-text-right\">\n",
       "                                     7\n",
       "         <span class=\"ranking-pos no-change\"></span>\n",
       " </td>\n",
       " <td class=\"table-body__cell name\">\n",
       " <a href=\"/rankings/womens/player-rankings/1809\">Smriti Mandhana</a>\n",
       " </td>\n",
       " <td class=\"table-body__cell nationality-logo\">\n",
       " <span class=\"flag-15 table-body_logo IND\"></span>\n",
       " <span class=\"table-body__logo-text\">IND</span>\n",
       " </td>\n",
       " <td class=\"table-body__cell u-text-right rating\">710</td>\n",
       " </tr>,\n",
       " <tr class=\"table-body\">\n",
       " <td class=\"table-body__cell table-body__cell--position u-text-right\">\n",
       "                                     8\n",
       "         <span class=\"ranking-pos no-change\"></span>\n",
       " </td>\n",
       " <td class=\"table-body__cell name\">\n",
       " <a href=\"/rankings/womens/player-rankings/558\">Mithali Raj</a>\n",
       " </td>\n",
       " <td class=\"table-body__cell nationality-logo\">\n",
       " <span class=\"flag-15 table-body_logo IND\"></span>\n",
       " <span class=\"table-body__logo-text\">IND</span>\n",
       " </td>\n",
       " <td class=\"table-body__cell u-text-right rating\">709</td>\n",
       " </tr>,\n",
       " <tr class=\"table-body\">\n",
       " <td class=\"table-body__cell table-body__cell--position u-text-right\">\n",
       "                                     9\n",
       "         <span class=\"ranking-pos up\">\n",
       " <svg class=\"icon\">\n",
       " <use xlink:href=\"/resources/prod/v8.15.0/i/svg-output/icons.svg#icn-chevron-up\" xmlns:xlink=\"http://www.w3.org/1999/xlink\"></use>\n",
       " </svg>\n",
       " <span class=\"ranking-pos__tooltip\">This player has moved up in the rankings since the previous rankings update</span>\n",
       " </span>\n",
       " </td>\n",
       " <td class=\"table-body__cell name\">\n",
       " <a href=\"/rankings/womens/player-rankings/1800\">Natalie Sciver</a>\n",
       " </td>\n",
       " <td class=\"table-body__cell nationality-logo\">\n",
       " <span class=\"flag-15 table-body_logo ENG\"></span>\n",
       " <span class=\"table-body__logo-text\">ENG</span>\n",
       " </td>\n",
       " <td class=\"table-body__cell u-text-right rating\">685</td>\n",
       " </tr>,\n",
       " <tr class=\"table-body\">\n",
       " <td class=\"table-body__cell table-body__cell--position u-text-right\">\n",
       "                                     10\n",
       "         <span class=\"ranking-pos up\">\n",
       " <svg class=\"icon\">\n",
       " <use xlink:href=\"/resources/prod/v8.15.0/i/svg-output/icons.svg#icn-chevron-up\" xmlns:xlink=\"http://www.w3.org/1999/xlink\"></use>\n",
       " </svg>\n",
       " <span class=\"ranking-pos__tooltip\">This player has moved up in the rankings since the previous rankings update</span>\n",
       " </span>\n",
       " </td>\n",
       " <td class=\"table-body__cell name\">\n",
       " <a href=\"/rankings/womens/player-rankings/3176\">Laura Wolvaardt</a>\n",
       " </td>\n",
       " <td class=\"table-body__cell nationality-logo\">\n",
       " <span class=\"flag-15 table-body_logo SA\"></span>\n",
       " <span class=\"table-body__logo-text\">SA</span>\n",
       " </td>\n",
       " <td class=\"table-body__cell u-text-right rating\">683</td>\n",
       " </tr>]"
      ]
     },
     "execution_count": 22,
     "metadata": {},
     "output_type": "execute_result"
    }
   ],
   "source": [
    "rows = second_table.find_all(\"tr\",)\n",
    "rows"
   ]
  },
  {
   "cell_type": "code",
   "execution_count": 23,
   "metadata": {},
   "outputs": [
    {
     "data": {
      "text/plain": [
       "['2', 'Lizelle Lee', 'SA', '758']"
      ]
     },
     "metadata": {},
     "output_type": "display_data"
    },
    {
     "data": {
      "text/plain": [
       "['3', 'Alyssa Healy', 'AUS', '756']"
      ]
     },
     "metadata": {},
     "output_type": "display_data"
    },
    {
     "data": {
      "text/plain": [
       "['4', 'Stafanie Taylor', 'WI', '746']"
      ]
     },
     "metadata": {},
     "output_type": "display_data"
    },
    {
     "data": {
      "text/plain": [
       "['5', 'Meg Lanning', 'AUS', '723']"
      ]
     },
     "metadata": {},
     "output_type": "display_data"
    },
    {
     "data": {
      "text/plain": [
       "['6', 'Amy Satterthwaite', 'NZ', '715']"
      ]
     },
     "metadata": {},
     "output_type": "display_data"
    },
    {
     "data": {
      "text/plain": [
       "['7', 'Smriti Mandhana', 'IND', '710']"
      ]
     },
     "metadata": {},
     "output_type": "display_data"
    },
    {
     "data": {
      "text/plain": [
       "['8', 'Mithali Raj', 'IND', '709']"
      ]
     },
     "metadata": {},
     "output_type": "display_data"
    },
    {
     "data": {
      "text/plain": [
       "['9This player has moved up in the rankings since the previous rankings update',\n",
       " 'Natalie Sciver',\n",
       " 'ENG',\n",
       " '685']"
      ]
     },
     "metadata": {},
     "output_type": "display_data"
    }
   ],
   "source": [
    "for row in rows[1:-1]:\n",
    "    cells = row.find_all([\"td\"])\n",
    "    cells_text = [cell.get_text(strip=True) for cell in cells]\n",
    "    \n",
    "    display(cells_text)"
   ]
  },
  {
   "cell_type": "code",
   "execution_count": null,
   "metadata": {},
   "outputs": [],
   "source": []
  }
 ],
 "metadata": {
  "kernelspec": {
   "display_name": "Python 3",
   "language": "python",
   "name": "python3"
  },
  "language_info": {
   "codemirror_mode": {
    "name": "ipython",
    "version": 3
   },
   "file_extension": ".py",
   "mimetype": "text/x-python",
   "name": "python",
   "nbconvert_exporter": "python",
   "pygments_lexer": "ipython3",
   "version": "3.8.5"
  }
 },
 "nbformat": 4,
 "nbformat_minor": 4
}
